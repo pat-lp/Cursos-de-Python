{
 "cells": [
  {
   "cell_type": "markdown",
   "id": "582ad5ba",
   "metadata": {},
   "source": [
    "<font color=Purple>\n",
    "    \n",
    "# _8.1 Herencia Simple_ </font>\n",
    "\n",
    "### Se utilizará como ejemplo un negocio que comienza vendiendo productos alimenticios"
   ]
  },
  {
   "cell_type": "code",
   "execution_count": 1,
   "id": "5a4ebf77",
   "metadata": {},
   "outputs": [
    {
     "name": "stdout",
     "output_type": "stream",
     "text": [
      "<__main__.Producto object at 0x0000006B1039F760>\n",
      "Harina de maíz (1Kg), Carne de res (2Kg), Detergente para ropa (500g)\n"
     ]
    }
   ],
   "source": [
    "class Producto:\n",
    "    def __init__(self, ref, nombre, pvp,  descripcion, \n",
    "                 marca=None, categoria=None, talla=None):\n",
    "        self.ref = ref\n",
    "        self.nombre = nombre\n",
    "        self.pvp = pvp\n",
    "        self.descripcion = descripcion\n",
    "        self.marca= marca\n",
    "        self.categoria= categoria\n",
    "        self.talla= talla\n",
    "        \n",
    "combo_1 = Producto('70010','Combo 1',150,'Harina de maíz (1Kg), Carne de res (2Kg), Detergente para ropa (500g)') \n",
    "\n",
    "print(combo_1) #tipo de objeto+dirección de memoria\n",
    "print(combo_1.descripcion)  #Harina de maíz (1Kg), Carne de res (2Kg), Detergente para ropa (500g)"
   ]
  },
  {
   "cell_type": "markdown",
   "id": "cd0be292",
   "metadata": {},
   "source": [
    "<font color=Purple>\n",
    "    \n",
    "# _8.1 Herencia Simple_ </font>"
   ]
  },
  {
   "cell_type": "markdown",
   "id": "b97a1ae5",
   "metadata": {},
   "source": [
    "### Debemos identificar una superclase que contendrá todos los atributos comunes\n",
    "### A la superclase la llamaremos Producto"
   ]
  },
  {
   "cell_type": "code",
   "execution_count": 2,
   "id": "ca09bc30",
   "metadata": {},
   "outputs": [],
   "source": [
    "class Producto:\n",
    "    def __init__(self, ref, nombre, pvp,  descripcion):\n",
    "        self.ref = ref\n",
    "        self.nombre = nombre\n",
    "        self.pvp = pvp\n",
    "        self.descripcion = descripcion\n",
    "                \n",
    "    def __str__(self):\n",
    "        return f\"Referencia:\\t {self.ref}\\n\" \\\n",
    "               f\"Nombre:\\t\\t {self.nombre}\\n\" \\\n",
    "               f\"PVP:\\t\\t {self.pvp}\\n\" \\\n",
    "               f\"Descripción:\\t {self.descripcion}\\n\"\n"
   ]
  },
  {
   "cell_type": "markdown",
   "id": "7a1457a5",
   "metadata": {},
   "source": [
    "### A partir del tipo de producto, vamos a definir subclases: _Combo, Ropa, Alimentos_"
   ]
  },
  {
   "cell_type": "code",
   "execution_count": 3,
   "id": "6b7534cc",
   "metadata": {},
   "outputs": [],
   "source": [
    "class Combo(Producto): #entre paréntesis se coloca el nombre de la superclase\n",
    "    pass"
   ]
  },
  {
   "cell_type": "code",
   "execution_count": 4,
   "id": "506099bf",
   "metadata": {},
   "outputs": [],
   "source": [
    "c_1 = Combo('70010','Combo 1',150,'Harina de maíz (1Kg), Carne de res (2Kg), Detergente para ropa (500g)')"
   ]
  },
  {
   "cell_type": "code",
   "execution_count": 5,
   "id": "7984e4d4",
   "metadata": {},
   "outputs": [
    {
     "name": "stdout",
     "output_type": "stream",
     "text": [
      "Referencia:\t 70010\n",
      "Nombre:\t\t Combo 1\n",
      "PVP:\t\t 150\n",
      "Descripción:\t Harina de maíz (1Kg), Carne de res (2Kg), Detergente para ropa (500g)\n",
      "\n"
     ]
    }
   ],
   "source": [
    "print(c_1)"
   ]
  },
  {
   "cell_type": "code",
   "execution_count": 6,
   "id": "a91ebc9f",
   "metadata": {},
   "outputs": [],
   "source": [
    "class Alimento(Producto):\n",
    "    marca = \"\"\n",
    "    categoria = \"\"\n",
    "\n",
    "    def __str__(self):\n",
    "            return f\"Referencia:\\t {self.ref}\\n\" \\\n",
    "                   f\"Nombre:\\t\\t {self.nombre}\\n\" \\\n",
    "                   f\"PVP:\\t\\t {self.pvp}\\n\" \\\n",
    "                   f\"Descripción:\\t {self.descripcion}\\n\" \\\n",
    "                   f\"Marca:\\t\\t {self.marca} \\n\" \\\n",
    "                   f\"Categoria:\\t {self.categoria}\\n\""
   ]
  },
  {
   "cell_type": "code",
   "execution_count": 7,
   "id": "c74dab60",
   "metadata": {},
   "outputs": [],
   "source": [
    "harina = Alimento(10001, \"Harina de Maíz\", 0.9, \"Harina precocida (1kg)\")"
   ]
  },
  {
   "cell_type": "code",
   "execution_count": 8,
   "id": "9de8c342",
   "metadata": {},
   "outputs": [
    {
     "name": "stdout",
     "output_type": "stream",
     "text": [
      "Referencia:\t 10001\n",
      "Nombre:\t\t Harina de Maíz\n",
      "PVP:\t\t 0.9\n",
      "Descripción:\t Harina precocida (1kg)\n",
      "Marca:\t\t  \n",
      "Categoria:\t \n",
      "\n"
     ]
    }
   ],
   "source": [
    "print(harina) #los valores de Marca y Categoria saldrán en blanco ya que no se completaron esos valores"
   ]
  },
  {
   "cell_type": "code",
   "execution_count": 9,
   "id": "196fed48",
   "metadata": {},
   "outputs": [],
   "source": [
    "harina.marca = \"Nestlé\"  #Se completan los valores de la variable harina con marca y categoria que faltaron antes\n",
    "harina.categoria = \"Cereales\""
   ]
  },
  {
   "cell_type": "code",
   "execution_count": 10,
   "id": "152da444",
   "metadata": {},
   "outputs": [
    {
     "name": "stdout",
     "output_type": "stream",
     "text": [
      "Referencia:\t 10001\n",
      "Nombre:\t\t Harina de Maíz\n",
      "PVP:\t\t 0.9\n",
      "Descripción:\t Harina precocida (1kg)\n",
      "Marca:\t\t Nestlé \n",
      "Categoria:\t Cereales\n",
      "\n"
     ]
    }
   ],
   "source": [
    "print(harina)"
   ]
  },
  {
   "cell_type": "code",
   "execution_count": 11,
   "id": "c3d6bd82",
   "metadata": {},
   "outputs": [],
   "source": [
    "class Ropa(Producto):\n",
    "    marca = \"\"\n",
    "    categoria = \"\"\n",
    "    talla = \"\"\n",
    "    \n",
    "    def __str__(self):\n",
    "            return f\"Referencia:\\t {self.ref}\\n\" \\\n",
    "                   f\"Nombre:\\t\\t {self.nombre}\\n\" \\\n",
    "                   f\"PVP:\\t\\t {self.pvp}\\n\" \\\n",
    "                   f\"Descripción:\\t {self.descripcion}\\n\" \\\n",
    "                   f\"Marca:\\t\\t {self.marca}\\n\" \\\n",
    "                   f\"Categoria:\\t {self.categoria}\\n\" \\\n",
    "                   f\"Talla:\\t\\t {self.talla}\\n\"\n"
   ]
  },
  {
   "cell_type": "code",
   "execution_count": 12,
   "id": "fa9076c9",
   "metadata": {},
   "outputs": [
    {
     "name": "stdout",
     "output_type": "stream",
     "text": [
      "Referencia:\t 20001\n",
      "Nombre:\t\t Pantalón\n",
      "PVP:\t\t 4.7\n",
      "Descripción:\t Stretch Color rojo\n",
      "Marca:\t\t Levi's\n",
      "Categoria:\t Dama\n",
      "Talla:\t\t 30\n",
      "\n"
     ]
    }
   ],
   "source": [
    "pantalon= Ropa(\"20001\", \"Pantalón\", 4.7,\"Stretch Color rojo\")\n",
    "pantalon.marca=\"Levi's\"\n",
    "pantalon.categoria=\"Dama\"\n",
    "pantalon.talla=30\n",
    "print(pantalon)"
   ]
  }
 ],
 "metadata": {
  "kernelspec": {
   "display_name": "Python 3",
   "language": "python",
   "name": "python3"
  },
  "language_info": {
   "codemirror_mode": {
    "name": "ipython",
    "version": 3
   },
   "file_extension": ".py",
   "mimetype": "text/x-python",
   "name": "python",
   "nbconvert_exporter": "python",
   "pygments_lexer": "ipython3",
   "version": "3.8.8"
  }
 },
 "nbformat": 4,
 "nbformat_minor": 5
}
