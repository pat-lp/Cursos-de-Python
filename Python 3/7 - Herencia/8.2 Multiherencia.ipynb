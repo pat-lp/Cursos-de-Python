{
 "cells": [
  {
   "cell_type": "markdown",
   "id": "6b9b2c7d",
   "metadata": {},
   "source": [
    "<font color=Purple>\n",
    "    \n",
    "# _8.2 Multiherencia_ </font>\n",
    "\n",
    "### La multiherencia, o referencia múltiple, hace referencia a que en Python existe la posibliidad de que una subclase herede de varias superclases a la vez.  "
   ]
  },
  {
   "cell_type": "code",
   "execution_count": 1,
   "id": "278c96d7",
   "metadata": {},
   "outputs": [],
   "source": [
    "class A:\n",
    "    def __init__(self):\n",
    "        print(\"Soy de clase A\")\n",
    "        \n",
    "class B:\n",
    "    def __init__(self):\n",
    "        print(\"Soy de clase B\")\n"
   ]
  },
  {
   "cell_type": "code",
   "execution_count": 2,
   "id": "ae855ee8",
   "metadata": {},
   "outputs": [],
   "source": [
    "class C(A,B):\n",
    "    pass"
   ]
  },
  {
   "cell_type": "code",
   "execution_count": 3,
   "id": "bd35938b",
   "metadata": {},
   "outputs": [
    {
     "name": "stdout",
     "output_type": "stream",
     "text": [
      "Soy de clase A\n",
      "Soy de clase B\n"
     ]
    }
   ],
   "source": [
    "objeto_1 = A()\n",
    "objeto_2 = B()"
   ]
  },
  {
   "cell_type": "code",
   "execution_count": 4,
   "id": "b89c12fe",
   "metadata": {},
   "outputs": [
    {
     "name": "stdout",
     "output_type": "stream",
     "text": [
      "Soy de clase A\n"
     ]
    }
   ],
   "source": [
    "objeto_c = C()"
   ]
  },
  {
   "cell_type": "markdown",
   "id": "edad2c16",
   "metadata": {},
   "source": [
    "### Cuando las superclases tienen métodos/atributos iguales, Python da prioridad a las superclases que están más a la izquierda en la declaración de argumentos."
   ]
  },
  {
   "cell_type": "code",
   "execution_count": 5,
   "id": "33f936d5",
   "metadata": {},
   "outputs": [],
   "source": [
    "class D(B,A):\n",
    "    pass"
   ]
  },
  {
   "cell_type": "code",
   "execution_count": 6,
   "id": "14c80185",
   "metadata": {},
   "outputs": [
    {
     "name": "stdout",
     "output_type": "stream",
     "text": [
      "Soy de clase B\n"
     ]
    }
   ],
   "source": [
    "objeto_d= D()"
   ]
  },
  {
   "cell_type": "code",
   "execution_count": 7,
   "id": "9a74a4b0",
   "metadata": {},
   "outputs": [],
   "source": [
    "class A:\n",
    "    def __init__(self):\n",
    "        print(\"Soy de clase A\")\n",
    "    def metodo_a(self):\n",
    "        print(\"Este método lo hereda de A\")\n",
    "        \n",
    "class B:\n",
    "    def __init__(self):\n",
    "        print(\"Soy de clase B\")\n",
    "    def metodo_b(self):\n",
    "        print(\"Este método lo hereda de B\")\n",
    "        \n",
    "class C(B,A):\n",
    "    def metodo_c(self):\n",
    "        print(\"Este método es de C\")"
   ]
  },
  {
   "cell_type": "code",
   "execution_count": 8,
   "id": "f5c895ef",
   "metadata": {},
   "outputs": [
    {
     "name": "stdout",
     "output_type": "stream",
     "text": [
      "Soy de clase B\n"
     ]
    }
   ],
   "source": [
    "objeto_nuevo =C()"
   ]
  },
  {
   "cell_type": "code",
   "execution_count": 9,
   "id": "72601c01",
   "metadata": {},
   "outputs": [
    {
     "name": "stdout",
     "output_type": "stream",
     "text": [
      "Este método lo hereda de A\n"
     ]
    }
   ],
   "source": [
    "objeto_nuevo.metodo_a()"
   ]
  },
  {
   "cell_type": "code",
   "execution_count": 10,
   "id": "e350523a",
   "metadata": {},
   "outputs": [
    {
     "name": "stdout",
     "output_type": "stream",
     "text": [
      "Este método lo hereda de B\n"
     ]
    }
   ],
   "source": [
    "objeto_nuevo.metodo_b()"
   ]
  },
  {
   "cell_type": "code",
   "execution_count": 11,
   "id": "170f7b74",
   "metadata": {},
   "outputs": [
    {
     "name": "stdout",
     "output_type": "stream",
     "text": [
      "Este método es de C\n"
     ]
    }
   ],
   "source": [
    "objeto_nuevo.metodo_c()"
   ]
  }
 ],
 "metadata": {
  "kernelspec": {
   "display_name": "Python 3",
   "language": "python",
   "name": "python3"
  },
  "language_info": {
   "codemirror_mode": {
    "name": "ipython",
    "version": 3
   },
   "file_extension": ".py",
   "mimetype": "text/x-python",
   "name": "python",
   "nbconvert_exporter": "python",
   "pygments_lexer": "ipython3",
   "version": "3.8.8"
  }
 },
 "nbformat": 4,
 "nbformat_minor": 5
}
