{
 "cells": [
  {
   "cell_type": "markdown",
   "id": "576ce6df",
   "metadata": {},
   "source": [
    "<font color=Purple>\n",
    "\n",
    "# _2.2 Números_</font>\n",
    "\n",
    "### Tipos de variables para almacenar: INT, FLOAT, COMPLEX"
   ]
  },
  {
   "cell_type": "code",
   "execution_count": 34,
   "id": "9d9460eb",
   "metadata": {},
   "outputs": [
    {
     "data": {
      "text/plain": [
       "3"
      ]
     },
     "execution_count": 34,
     "metadata": {},
     "output_type": "execute_result"
    }
   ],
   "source": [
    "1+2"
   ]
  },
  {
   "cell_type": "code",
   "execution_count": 35,
   "id": "0197d0e7",
   "metadata": {},
   "outputs": [
    {
     "data": {
      "text/plain": [
       "10"
      ]
     },
     "execution_count": 35,
     "metadata": {},
     "output_type": "execute_result"
    }
   ],
   "source": [
    "2*5"
   ]
  },
  {
   "cell_type": "markdown",
   "id": "969c5ad4",
   "metadata": {},
   "source": [
    "<font color=Purple>\n",
    "    \n",
    "## _A) INT_ </font>\n",
    "\n",
    "### Para números enteros"
   ]
  },
  {
   "cell_type": "code",
   "execution_count": 36,
   "id": "83979e31",
   "metadata": {},
   "outputs": [],
   "source": [
    "y=3"
   ]
  },
  {
   "cell_type": "code",
   "execution_count": 37,
   "id": "94d038a7",
   "metadata": {},
   "outputs": [
    {
     "data": {
      "text/plain": [
       "3"
      ]
     },
     "execution_count": 37,
     "metadata": {},
     "output_type": "execute_result"
    }
   ],
   "source": [
    "y"
   ]
  },
  {
   "cell_type": "code",
   "execution_count": 38,
   "id": "79caaca7",
   "metadata": {},
   "outputs": [
    {
     "data": {
      "text/plain": [
       "106"
      ]
     },
     "execution_count": 38,
     "metadata": {},
     "output_type": "execute_result"
    }
   ],
   "source": [
    "y+y.__add__(100) #3 + 3(mas 100)"
   ]
  },
  {
   "cell_type": "markdown",
   "id": "022bf686",
   "metadata": {},
   "source": [
    "<font color=Purple>\n",
    "    \n",
    "## _B) FLOAT_ </font>\n",
    "\n",
    "### Para números decimales"
   ]
  },
  {
   "cell_type": "code",
   "execution_count": 39,
   "id": "541dba01",
   "metadata": {},
   "outputs": [],
   "source": [
    "z=10.1"
   ]
  },
  {
   "cell_type": "code",
   "execution_count": 40,
   "id": "2f35cfb3",
   "metadata": {},
   "outputs": [
    {
     "data": {
      "text/plain": [
       "10.1"
      ]
     },
     "execution_count": 40,
     "metadata": {},
     "output_type": "execute_result"
    }
   ],
   "source": [
    "z"
   ]
  },
  {
   "cell_type": "markdown",
   "id": "da4a55d4",
   "metadata": {},
   "source": [
    "### TYPE: muestra el tipo de dato del argumento que pasamos"
   ]
  },
  {
   "cell_type": "code",
   "execution_count": 41,
   "id": "497297a9",
   "metadata": {},
   "outputs": [
    {
     "data": {
      "text/plain": [
       "int"
      ]
     },
     "execution_count": 41,
     "metadata": {},
     "output_type": "execute_result"
    }
   ],
   "source": [
    "x=152\n",
    "type(x)"
   ]
  },
  {
   "cell_type": "code",
   "execution_count": 42,
   "id": "4bbbc8ff",
   "metadata": {},
   "outputs": [
    {
     "data": {
      "text/plain": [
       "float"
      ]
     },
     "execution_count": 42,
     "metadata": {},
     "output_type": "execute_result"
    }
   ],
   "source": [
    "type(z)"
   ]
  },
  {
   "cell_type": "markdown",
   "id": "6c5a68e9",
   "metadata": {},
   "source": [
    "<font color=Purple>\n",
    "    \n",
    "## _C) COMPLEX_ </font>\n",
    "\n",
    "### Para números complejos A+Bj"
   ]
  },
  {
   "cell_type": "code",
   "execution_count": 43,
   "id": "bfabf08b",
   "metadata": {},
   "outputs": [],
   "source": [
    "c = 3 + 2j"
   ]
  },
  {
   "cell_type": "code",
   "execution_count": 44,
   "id": "ecf9d0f8",
   "metadata": {},
   "outputs": [
    {
     "data": {
      "text/plain": [
       "((3+2j), complex)"
      ]
     },
     "execution_count": 44,
     "metadata": {},
     "output_type": "execute_result"
    }
   ],
   "source": [
    "c, type(c)"
   ]
  },
  {
   "cell_type": "markdown",
   "id": "2d7f23de",
   "metadata": {},
   "source": [
    "### Imprimir parte imaginaria y parte real con métodos asociados"
   ]
  },
  {
   "cell_type": "code",
   "execution_count": 45,
   "id": "03709565",
   "metadata": {},
   "outputs": [],
   "source": [
    "parteReal=c.real\n",
    "parteImaginaria=c.imag"
   ]
  },
  {
   "cell_type": "code",
   "execution_count": 46,
   "id": "944c365d",
   "metadata": {},
   "outputs": [
    {
     "data": {
      "text/plain": [
       "(3.0, 2.0)"
      ]
     },
     "execution_count": 46,
     "metadata": {},
     "output_type": "execute_result"
    }
   ],
   "source": [
    "parteReal , parteImaginaria"
   ]
  }
 ],
 "metadata": {
  "kernelspec": {
   "display_name": "Python 3",
   "language": "python",
   "name": "python3"
  },
  "language_info": {
   "codemirror_mode": {
    "name": "ipython",
    "version": 3
   },
   "file_extension": ".py",
   "mimetype": "text/x-python",
   "name": "python",
   "nbconvert_exporter": "python",
   "pygments_lexer": "ipython3",
   "version": "3.8.8"
  }
 },
 "nbformat": 4,
 "nbformat_minor": 5
}
