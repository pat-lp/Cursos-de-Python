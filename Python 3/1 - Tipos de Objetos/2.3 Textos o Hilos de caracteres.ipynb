{
 "cells": [
  {
   "cell_type": "markdown",
   "id": "2935c999",
   "metadata": {},
   "source": [
    "<font  color=Purple>\n",
    "    \n",
    "# _2.3 Texo o Hilo de caracteres_ </font>\n",
    "### Secuencia de caracteres entre comillas simples o dobles"
   ]
  },
  {
   "cell_type": "code",
   "execution_count": 4,
   "id": "e0d044df",
   "metadata": {},
   "outputs": [
    {
     "data": {
      "text/plain": [
       "'Esto es un texo o hilo'"
      ]
     },
     "execution_count": 4,
     "metadata": {},
     "output_type": "execute_result"
    }
   ],
   "source": [
    "\"Esto es un texo o hilo\""
   ]
  },
  {
   "cell_type": "code",
   "execution_count": 5,
   "id": "ac939131",
   "metadata": {},
   "outputs": [
    {
     "data": {
      "text/plain": [
       "'Esto es un texto distinto'"
      ]
     },
     "execution_count": 5,
     "metadata": {},
     "output_type": "execute_result"
    }
   ],
   "source": [
    "'Esto es un texto distinto'"
   ]
  },
  {
   "cell_type": "code",
   "execution_count": 6,
   "id": "0f2e8b04",
   "metadata": {},
   "outputs": [],
   "source": [
    "nombre = \"Python\"\n",
    "curso = \"Python 3 Plus de Udemy\""
   ]
  },
  {
   "cell_type": "code",
   "execution_count": 7,
   "id": "6da64065",
   "metadata": {},
   "outputs": [
    {
     "data": {
      "text/plain": [
       "'Python 3 Plus de Udemy'"
      ]
     },
     "execution_count": 7,
     "metadata": {},
     "output_type": "execute_result"
    }
   ],
   "source": [
    "nombre\n",
    "curso #solo imprime esta linea por pantalla"
   ]
  },
  {
   "cell_type": "code",
   "execution_count": 9,
   "id": "c803444f",
   "metadata": {},
   "outputs": [
    {
     "name": "stdout",
     "output_type": "stream",
     "text": [
      "Python\n",
      "Python 3 Plus de Udemy\n"
     ]
    }
   ],
   "source": [
    "print(nombre)\n",
    "print(curso)"
   ]
  },
  {
   "cell_type": "code",
   "execution_count": 10,
   "id": "0ce24073",
   "metadata": {},
   "outputs": [
    {
     "data": {
      "text/plain": [
       "str"
      ]
     },
     "execution_count": 10,
     "metadata": {},
     "output_type": "execute_result"
    }
   ],
   "source": [
    "type(nombre)"
   ]
  },
  {
   "cell_type": "markdown",
   "id": "a6a39762",
   "metadata": {},
   "source": [
    "<font color=Purple>\n",
    "    \n",
    "# _print()_ </font>\n",
    "### Esta función permite mostrar texto por pantalla, se puede tabular y poner saltos de línea"
   ]
  },
  {
   "cell_type": "code",
   "execution_count": 11,
   "id": "ac739823",
   "metadata": {},
   "outputs": [
    {
     "name": "stdout",
     "output_type": "stream",
     "text": [
      "Una cadena \tseparada por una tabulacion\n"
     ]
    }
   ],
   "source": [
    "print(\"Una cadena \\tseparada por una tabulacion\")"
   ]
  },
  {
   "cell_type": "code",
   "execution_count": 12,
   "id": "86ebb9ad",
   "metadata": {},
   "outputs": [
    {
     "name": "stdout",
     "output_type": "stream",
     "text": [
      "Una cadena \n",
      "separada por una salto de línea\n"
     ]
    }
   ],
   "source": [
    "print(\"Una cadena \\nseparada por un salto de línea\")"
   ]
  },
  {
   "cell_type": "markdown",
   "id": "cec84cec",
   "metadata": {},
   "source": [
    "### Para imprimir una cadena en crudo, se debe colocar r antes de las comillas"
   ]
  },
  {
   "cell_type": "code",
   "execution_count": 16,
   "id": "92d47407",
   "metadata": {},
   "outputs": [
    {
     "name": "stdout",
     "output_type": "stream",
     "text": [
      "C:\n",
      "ombre\n",
      "ombre_2\n"
     ]
    }
   ],
   "source": [
    "print(\"C:\\nombre\\nombre_2\") #no toma la cadena completa por \\n"
   ]
  },
  {
   "cell_type": "code",
   "execution_count": 18,
   "id": "0ba5df3b",
   "metadata": {},
   "outputs": [
    {
     "name": "stdout",
     "output_type": "stream",
     "text": [
      "C:\\nombre\\nombre_2\n"
     ]
    }
   ],
   "source": [
    "print(r\"C:\\nombre\\nombre_2\") #r antes de las comillas para que tome la cadena completa"
   ]
  },
  {
   "cell_type": "markdown",
   "id": "abbc767a",
   "metadata": {},
   "source": [
    "### Mostrar el texto en varias líneas"
   ]
  },
  {
   "cell_type": "code",
   "execution_count": 19,
   "id": "637dfbe7",
   "metadata": {},
   "outputs": [
    {
     "name": "stdout",
     "output_type": "stream",
     "text": [
      "Esta es la línea 1,\n",
      "esta es la línea 2,\n",
      "esta es la línea 3,\n",
      "y asi...,\n",
      "así...,\n",
      "así...\n",
      "\n"
     ]
    }
   ],
   "source": [
    "print(\"\"\"Esta es la línea 1,\n",
    "esta es la línea 2,\n",
    "esta es la línea 3,\n",
    "y asi...,\n",
    "así...,\n",
    "así...\n",
    "\"\"\")"
   ]
  }
 ],
 "metadata": {
  "kernelspec": {
   "display_name": "Python 3",
   "language": "python",
   "name": "python3"
  },
  "language_info": {
   "codemirror_mode": {
    "name": "ipython",
    "version": 3
   },
   "file_extension": ".py",
   "mimetype": "text/x-python",
   "name": "python",
   "nbconvert_exporter": "python",
   "pygments_lexer": "ipython3",
   "version": "3.8.8"
  }
 },
 "nbformat": 4,
 "nbformat_minor": 5
}
