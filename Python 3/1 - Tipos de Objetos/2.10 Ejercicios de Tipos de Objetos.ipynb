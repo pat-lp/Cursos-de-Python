{
 "cells": [
  {
   "cell_type": "markdown",
   "id": "b0895009",
   "metadata": {},
   "source": [
    "<font color=Purple>\n",
    "    \n",
    "# _2.10 Ejercicios_ </font>\n",
    "\n",
    "### 1) Define una variable edad y asignale un valor entero\n",
    "+ Muestra su valor por pantalla\n",
    "+ Define otra variable edad_cadena que contenga el valor edad como una cadena de caracteres\n",
    "+ Compruebe el tipo de la nueva variable\n",
    "+ Utiliza la variable edad que has definido previamente y calcula la edad que tendría esa persona en el año 2035"
   ]
  },
  {
   "cell_type": "code",
   "execution_count": 1,
   "id": "ee33c9ee",
   "metadata": {},
   "outputs": [
    {
     "name": "stdout",
     "output_type": "stream",
     "text": [
      "La edad que se define es de:  49 años\n"
     ]
    }
   ],
   "source": [
    "# se define una variable edad, se le asigna un valor entero y se la muestra por pantalla\n",
    "edad = 49\n",
    "print('La edad que se define es de: ',edad, 'años')"
   ]
  },
  {
   "cell_type": "code",
   "execution_count": 49,
   "id": "8f2d3253",
   "metadata": {},
   "outputs": [
    {
     "name": "stdout",
     "output_type": "stream",
     "text": [
      "63\n",
      "La variable 63 es de tipo de dato <class 'str'>\n"
     ]
    }
   ],
   "source": [
    "# Se define otra variable edad_cadena que contiene el valor como cadena de caracteres\n",
    "edad_cadena = str(edad)\n",
    "print(edad_cadena)\n",
    "print('La variable',edad_cadena, 'es de tipo de dato', type(edad_cadena))\n"
   ]
  },
  {
   "cell_type": "code",
   "execution_count": 28,
   "id": "c84a5e95",
   "metadata": {},
   "outputs": [
    {
     "name": "stdout",
     "output_type": "stream",
     "text": [
      "La edad hoy es de:  63\n",
      "La edad en 2035:  77\n"
     ]
    }
   ],
   "source": [
    "# Con la variable edad se calcula la edad de la persona en 2035\n",
    "print('La edad hoy es de: ',edad)\n",
    "\n",
    "edad2035= (2035-2021) + edad\n",
    "\n",
    "print('La edad en 2035: ',edad2035)\n"
   ]
  },
  {
   "cell_type": "markdown",
   "id": "7ca380d8",
   "metadata": {},
   "source": [
    "### 2) Al realizar una consulta en un registro hemos recibido unos valores corruptos. Al parecer entrega el nombre y apellido del alumno al revés. ¿Qué puede hacer para obtener el siguiente mensaje por pantalla\n",
    "> _NOMBRE APELLIDO ha sacado un NOTA"
   ]
  },
  {
   "cell_type": "code",
   "execution_count": 37,
   "id": "35204fe6",
   "metadata": {},
   "outputs": [
    {
     "name": "stdout",
     "output_type": "stream",
     "text": [
      "La cadena original es:  onmulAodillepa onmulAerbmon , aton\n"
     ]
    }
   ],
   "source": [
    "cadena = 'onmulAodillepa onmulAerbmon , aton'\n",
    "print('La cadena original es: ', cadena)"
   ]
  },
  {
   "cell_type": "code",
   "execution_count": 48,
   "id": "0e93e3d2",
   "metadata": {},
   "outputs": [
    {
     "name": "stdout",
     "output_type": "stream",
     "text": [
      "Imprimo por pantalla la cadena volteada completa:  nota , nombreAlumno apellidoAlumno\n",
      " nombreAlumno apellidoAlumno ha sacado una nota de valor  nota\n"
     ]
    }
   ],
   "source": [
    "cadenaVolteada = cadena[::-1]\n",
    "print('Imprimo por pantalla la cadena volteada completa: ',cadenaVolteada)\n",
    "print(cadenaVolteada[6::], 'ha sacado una nota de valor ', cadenaVolteada[:4])"
   ]
  },
  {
   "cell_type": "markdown",
   "id": "0de0b019",
   "metadata": {},
   "source": [
    "### 3) Utilizando operadores lógicos determina si una cadena de texto introducida por el usuario tiene una longitud mayor o igual a 3 y menor o igual a 12 (Basta con mostrar _True o False_ )"
   ]
  },
  {
   "cell_type": "code",
   "execution_count": 50,
   "id": "ccefff8d",
   "metadata": {},
   "outputs": [
    {
     "name": "stdout",
     "output_type": "stream",
     "text": [
      "Ingrese cadena de caracteres: Hace frío\n",
      "La cadena ingresada tiene una longitud >= a 3 y menor o igual a 12?:  True\n"
     ]
    }
   ],
   "source": [
    "# Ingresar cadena por teclado\n",
    "cadena = input('Ingrese cadena de caracteres: ')\n",
    "\n",
    "print('La cadena ingresada tiene una longitud >= a 3 y menor o igual a 12?: ', len(cadena) >=3 and len(cadena) <=12)\n"
   ]
  },
  {
   "cell_type": "markdown",
   "id": "9cb67995",
   "metadata": {},
   "source": [
    "### 4) Realiza un programa que lea 2 números por teclado y determine los siguientes aspectos (es suficiene con mostrar True o False):\n",
    "+ Si los dos números son iguales\n",
    "+ Si los dos números son diferentes\n",
    "+ Si el primero es mayor que el segundo\n",
    "+ Si el segundo es mayor o igual que el primero"
   ]
  },
  {
   "cell_type": "code",
   "execution_count": 51,
   "id": "a604f245",
   "metadata": {},
   "outputs": [
    {
     "name": "stdout",
     "output_type": "stream",
     "text": [
      "Ingrese primer número: 12\n",
      "Ingrese segundo número: 23\n",
      "Son los dos números ingresados iguales: ? False\n",
      "Son los dos números diferentes: ? True\n",
      "Es el primer número mayor que el segundo: ? False\n",
      "Es el segundo número mayor o igual al primero: ? True\n"
     ]
    }
   ],
   "source": [
    "numero1 = float(input('Ingrese primer número: '))\n",
    "numero2 = float(input('Ingrese segundo número: '))\n",
    "\n",
    "#Determinar si los dos números son iguales\n",
    "print('Son los dos números ingresados iguales: ?', numero1 == numero2)\n",
    "#Determinar si los dos números son diferentes\n",
    "print('Son los dos números diferentes: ?', numero1 != numero2)\n",
    "#Determinar si el primero es mayor que el segundo\n",
    "print('Es el primer número mayor que el segundo: ?', numero1 > numero2)\n",
    "#Determinar si el segundo es mayor o igual al primero\n",
    "print('Es el segundo número mayor o igual al primero: ?', numero2 >= numero1)"
   ]
  }
 ],
 "metadata": {
  "kernelspec": {
   "display_name": "Python 3",
   "language": "python",
   "name": "python3"
  },
  "language_info": {
   "codemirror_mode": {
    "name": "ipython",
    "version": 3
   },
   "file_extension": ".py",
   "mimetype": "text/x-python",
   "name": "python",
   "nbconvert_exporter": "python",
   "pygments_lexer": "ipython3",
   "version": "3.8.8"
  }
 },
 "nbformat": 4,
 "nbformat_minor": 5
}
