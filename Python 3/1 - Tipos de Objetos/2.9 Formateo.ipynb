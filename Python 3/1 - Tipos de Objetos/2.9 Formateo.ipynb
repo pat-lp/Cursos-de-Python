{
 "cells": [
  {
   "cell_type": "markdown",
   "id": "47b63800",
   "metadata": {},
   "source": [
    "<font color=Purple>\n",
    "    \n",
    "# _2.9 Formateo_ </font>\n",
    "\n",
    "### Propiedad de las cadenas de texto que tienen de dejar espacio y definir que valores van a aparecer en estos espacios"
   ]
  },
  {
   "cell_type": "code",
   "execution_count": 1,
   "id": "0e711f06",
   "metadata": {},
   "outputs": [
    {
     "data": {
      "text/plain": [
       "'1 es el primer valor y 2 es el segundo valor'"
      ]
     },
     "execution_count": 1,
     "metadata": {},
     "output_type": "execute_result"
    }
   ],
   "source": [
    "'{} es el primer valor y {} es el segundo valor'.format(1,2) #la función format coloca los valores en las llaves"
   ]
  },
  {
   "cell_type": "code",
   "execution_count": 4,
   "id": "605f7026",
   "metadata": {},
   "outputs": [
    {
     "data": {
      "text/plain": [
       "'En este cado alteramos el orden y el número->dos aparece primero y luego el número->uno'"
      ]
     },
     "execution_count": 4,
     "metadata": {},
     "output_type": "execute_result"
    }
   ],
   "source": [
    "'En este cado alteramos el orden y el número->{1} aparece primero y luego el número->{0}'.format('uno','dos')#cambiar el orden en el que van a ser asignados los elementos "
   ]
  },
  {
   "cell_type": "code",
   "execution_count": 12,
   "id": "7620dde7",
   "metadata": {},
   "outputs": [
    {
     "name": "stdout",
     "output_type": "stream",
     "text": [
      "El valor de curso python 3 es 0.7\n"
     ]
    }
   ],
   "source": [
    "nombre='curso python 3'\n",
    "x= .7\n",
    "print(f'El valor de {nombre} es', x)"
   ]
  },
  {
   "cell_type": "code",
   "execution_count": 14,
   "id": "4d3a05b3",
   "metadata": {},
   "outputs": [
    {
     "name": "stdout",
     "output_type": "stream",
     "text": [
      "El valor de {nombre} es 0.7\n"
     ]
    }
   ],
   "source": [
    "#sin F dentro de print\n",
    "nombre='curso python 3'\n",
    "x= .7\n",
    "print('El valor de {nombre} es', x)"
   ]
  },
  {
   "cell_type": "markdown",
   "id": "0941e2b0",
   "metadata": {},
   "source": [
    "### También podemos aplicar métodos"
   ]
  },
  {
   "cell_type": "code",
   "execution_count": 15,
   "id": "e9e4f403",
   "metadata": {},
   "outputs": [
    {
     "name": "stdout",
     "output_type": "stream",
     "text": [
      "El  valor de Curso Python 3\n",
      " es de 0.7 dolares por el papel\n"
     ]
    }
   ],
   "source": [
    "print(f'El  valor de {nombre.title()}\\n es de', x, 'dolares por el papel')"
   ]
  },
  {
   "cell_type": "code",
   "execution_count": 16,
   "id": "3eb62c07",
   "metadata": {},
   "outputs": [
    {
     "name": "stdout",
     "output_type": "stream",
     "text": [
      "{'uno': 0.7, 'dos': 10.7}\n"
     ]
    }
   ],
   "source": [
    "diccionario ={'uno':x, 'dos':x.__add__(10)};\n",
    "print(diccionario);"
   ]
  },
  {
   "cell_type": "code",
   "execution_count": 17,
   "id": "3394ad37",
   "metadata": {},
   "outputs": [
    {
     "name": "stdout",
     "output_type": "stream",
     "text": [
      "Curso Python 3 cuesta 0.7 pesos \n",
      " y el otro libro cuesta 10.7 pesos\n"
     ]
    }
   ],
   "source": [
    "print(f'{nombre.title()} cuesta {diccionario[\"uno\"]} pesos \\n y el otro libro cuesta {diccionario[\"dos\"]} pesos.')"
   ]
  }
 ],
 "metadata": {
  "kernelspec": {
   "display_name": "Python 3",
   "language": "python",
   "name": "python3"
  },
  "language_info": {
   "codemirror_mode": {
    "name": "ipython",
    "version": 3
   },
   "file_extension": ".py",
   "mimetype": "text/x-python",
   "name": "python",
   "nbconvert_exporter": "python",
   "pygments_lexer": "ipython3",
   "version": "3.8.8"
  }
 },
 "nbformat": 4,
 "nbformat_minor": 5
}
