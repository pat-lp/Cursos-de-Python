{
 "cells": [
  {
   "cell_type": "markdown",
   "id": "59c31326",
   "metadata": {},
   "source": [
    "<font color=Purple>\n",
    "    \n",
    "# _2.8 Lectura por teclado_ </font>\n",
    "### La función input() permite almacenar un valor ingresado con el teclado en una variable"
   ]
  },
  {
   "cell_type": "code",
   "execution_count": 3,
   "id": "83795196",
   "metadata": {},
   "outputs": [
    {
     "name": "stdout",
     "output_type": "stream",
     "text": [
      "Curso de Udemy Python 3\n"
     ]
    }
   ],
   "source": [
    "valorIngresado = input() #introducir valor y luego dar enter"
   ]
  },
  {
   "cell_type": "code",
   "execution_count": 4,
   "id": "df86315e",
   "metadata": {},
   "outputs": [
    {
     "data": {
      "text/plain": [
       "'Curso de Udemy Python 3'"
      ]
     },
     "execution_count": 4,
     "metadata": {},
     "output_type": "execute_result"
    }
   ],
   "source": [
    "valorIngresado"
   ]
  },
  {
   "cell_type": "markdown",
   "id": "6b06e20c",
   "metadata": {},
   "source": [
    "### La variable input() almacena todo como str. Esto puede cambiarse."
   ]
  },
  {
   "cell_type": "code",
   "execution_count": null,
   "id": "5d05557c",
   "metadata": {},
   "outputs": [],
   "source": [
    "type(valorIngresado)"
   ]
  },
  {
   "cell_type": "code",
   "execution_count": 1,
   "id": "5226f67a",
   "metadata": {},
   "outputs": [
    {
     "name": "stdout",
     "output_type": "stream",
     "text": [
      "Introduce un valor: 36\n"
     ]
    }
   ],
   "source": [
    "valorIngresado_num=float(input(\"Introduce un valor: \"))"
   ]
  },
  {
   "cell_type": "code",
   "execution_count": 2,
   "id": "865121a7",
   "metadata": {},
   "outputs": [
    {
     "data": {
      "text/plain": [
       "float"
      ]
     },
     "execution_count": 2,
     "metadata": {},
     "output_type": "execute_result"
    }
   ],
   "source": [
    "type(valorIngresado_num)"
   ]
  },
  {
   "cell_type": "code",
   "execution_count": 6,
   "id": "43d876dc",
   "metadata": {},
   "outputs": [
    {
     "name": "stdout",
     "output_type": "stream",
     "text": [
      "Ingresa tu edad: 29\n"
     ]
    }
   ],
   "source": [
    "edad = int(input(\"Ingresa tu edad: \"))"
   ]
  },
  {
   "cell_type": "code",
   "execution_count": 7,
   "id": "7be6d26d",
   "metadata": {},
   "outputs": [
    {
     "name": "stdout",
     "output_type": "stream",
     "text": [
      "29 <class 'int'>\n"
     ]
    }
   ],
   "source": [
    "print(edad, type(edad))"
   ]
  }
 ],
 "metadata": {
  "kernelspec": {
   "display_name": "Python 3",
   "language": "python",
   "name": "python3"
  },
  "language_info": {
   "codemirror_mode": {
    "name": "ipython",
    "version": 3
   },
   "file_extension": ".py",
   "mimetype": "text/x-python",
   "name": "python",
   "nbconvert_exporter": "python",
   "pygments_lexer": "ipython3",
   "version": "3.8.8"
  }
 },
 "nbformat": 4,
 "nbformat_minor": 5
}
