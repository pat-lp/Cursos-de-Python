{
 "cells": [
  {
   "cell_type": "markdown",
   "id": "dbf5701a",
   "metadata": {},
   "source": [
    "<font color=Purple>\n",
    "    \n",
    "# _2.5 Comprobación de Tipos_</font>"
   ]
  },
  {
   "cell_type": "code",
   "execution_count": 18,
   "id": "2066403e",
   "metadata": {},
   "outputs": [
    {
     "name": "stdout",
     "output_type": "stream",
     "text": [
      "-1 <class 'int'>\n"
     ]
    }
   ],
   "source": [
    "print(-1, type(-1))"
   ]
  },
  {
   "cell_type": "code",
   "execution_count": 19,
   "id": "585c9581",
   "metadata": {},
   "outputs": [
    {
     "name": "stdout",
     "output_type": "stream",
     "text": [
      "3.1415 <class 'float'>\n"
     ]
    }
   ],
   "source": [
    "print(3.1415, type(3.1415))"
   ]
  },
  {
   "cell_type": "code",
   "execution_count": 20,
   "id": "cd5f236a",
   "metadata": {},
   "outputs": [
    {
     "name": "stdout",
     "output_type": "stream",
     "text": [
      "hola <class 'str'>\n"
     ]
    }
   ],
   "source": [
    "print(\"hola\" , type(\"hola\"))"
   ]
  },
  {
   "cell_type": "code",
   "execution_count": 21,
   "id": "b0430485",
   "metadata": {},
   "outputs": [
    {
     "name": "stdout",
     "output_type": "stream",
     "text": [
      "True <class 'bool'>\n"
     ]
    }
   ],
   "source": [
    "print(True, type(True))"
   ]
  },
  {
   "cell_type": "code",
   "execution_count": 22,
   "id": "aeba0bb5",
   "metadata": {},
   "outputs": [
    {
     "name": "stdout",
     "output_type": "stream",
     "text": [
      "None <class 'NoneType'>\n"
     ]
    }
   ],
   "source": [
    "print(None, type(None))"
   ]
  },
  {
   "cell_type": "markdown",
   "id": "eafe33cf",
   "metadata": {},
   "source": [
    "### Conversión de Tipos"
   ]
  },
  {
   "cell_type": "code",
   "execution_count": 23,
   "id": "e09b7a5d",
   "metadata": {},
   "outputs": [
    {
     "name": "stdout",
     "output_type": "stream",
     "text": [
      "<class 'int'>\n"
     ]
    }
   ],
   "source": [
    "x=2\n",
    "print(type(x));"
   ]
  },
  {
   "cell_type": "code",
   "execution_count": 24,
   "id": "681570c7",
   "metadata": {},
   "outputs": [
    {
     "name": "stdout",
     "output_type": "stream",
     "text": [
      "<class 'str'>\n"
     ]
    }
   ],
   "source": [
    "nu_x= str(x); #paso de int a string\n",
    "print(type(nu_x));"
   ]
  },
  {
   "cell_type": "markdown",
   "id": "e56fdae0",
   "metadata": {},
   "source": [
    "### Conversión sin asignar valores a una variable"
   ]
  },
  {
   "cell_type": "code",
   "execution_count": 25,
   "id": "e22624da",
   "metadata": {},
   "outputs": [
    {
     "name": "stdout",
     "output_type": "stream",
     "text": [
      "2\n"
     ]
    }
   ],
   "source": [
    "print(int(2.1))"
   ]
  },
  {
   "cell_type": "code",
   "execution_count": 26,
   "id": "988e3baf",
   "metadata": {},
   "outputs": [
    {
     "name": "stdout",
     "output_type": "stream",
     "text": [
      "True es igual a  1 y False es igual a  0\n"
     ]
    }
   ],
   "source": [
    "print(\"True es igual a \", int(True),\"y False es igual a \", int(False))"
   ]
  },
  {
   "cell_type": "code",
   "execution_count": 27,
   "id": "87e5eed0",
   "metadata": {},
   "outputs": [
    {
     "name": "stdout",
     "output_type": "stream",
     "text": [
      "2\n"
     ]
    }
   ],
   "source": [
    "print(int(\"2\"))"
   ]
  },
  {
   "cell_type": "code",
   "execution_count": 28,
   "id": "aaa77419",
   "metadata": {},
   "outputs": [
    {
     "name": "stdout",
     "output_type": "stream",
     "text": [
      "2\n"
     ]
    }
   ],
   "source": [
    "print(str(2))"
   ]
  },
  {
   "cell_type": "code",
   "execution_count": 29,
   "id": "631b00f0",
   "metadata": {},
   "outputs": [
    {
     "name": "stdout",
     "output_type": "stream",
     "text": [
      "3.14\n"
     ]
    }
   ],
   "source": [
    "print(str(3.14))"
   ]
  },
  {
   "cell_type": "code",
   "execution_count": 30,
   "id": "efb4a0c8",
   "metadata": {},
   "outputs": [
    {
     "name": "stdout",
     "output_type": "stream",
     "text": [
      "True False\n"
     ]
    }
   ],
   "source": [
    "print(str(True), str(False))"
   ]
  },
  {
   "cell_type": "code",
   "execution_count": 31,
   "id": "f99000a1",
   "metadata": {},
   "outputs": [
    {
     "name": "stdout",
     "output_type": "stream",
     "text": [
      "None\n"
     ]
    }
   ],
   "source": [
    "print(str(None))"
   ]
  }
 ],
 "metadata": {
  "kernelspec": {
   "display_name": "Python 3",
   "language": "python",
   "name": "python3"
  },
  "language_info": {
   "codemirror_mode": {
    "name": "ipython",
    "version": 3
   },
   "file_extension": ".py",
   "mimetype": "text/x-python",
   "name": "python",
   "nbconvert_exporter": "python",
   "pygments_lexer": "ipython3",
   "version": "3.8.8"
  }
 },
 "nbformat": 4,
 "nbformat_minor": 5
}
