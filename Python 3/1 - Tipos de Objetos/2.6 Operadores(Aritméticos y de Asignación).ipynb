{
 "cells": [
  {
   "cell_type": "markdown",
   "id": "a1e42f81",
   "metadata": {},
   "source": [
    "<font color=Purple>\n",
    "    \n",
    " ## _2.6 Operadores (Aritméticos y de Asignación)_ </font>\n",
    " \n",
    " ### Sirven para los datos numéricos, tienen algunas utilidades con otros tipos de datos como listas o cadenas de caracteres."
   ]
  },
  {
   "cell_type": "markdown",
   "id": "0c6f9a35",
   "metadata": {},
   "source": [
    "<font color=Purple>\n",
    "    \n",
    " ## _A) Adición_ </font>\n",
    " \n",
    "### Es de la forma (a+b)"
   ]
  },
  {
   "cell_type": "code",
   "execution_count": 13,
   "id": "90b3721b",
   "metadata": {},
   "outputs": [
    {
     "data": {
      "text/plain": [
       "18.5"
      ]
     },
     "execution_count": 13,
     "metadata": {},
     "output_type": "execute_result"
    }
   ],
   "source": [
    "8 + 10.5"
   ]
  },
  {
   "cell_type": "code",
   "execution_count": 14,
   "id": "ee70a4da",
   "metadata": {},
   "outputs": [
    {
     "data": {
      "text/plain": [
       "'HolaCómo estás?'"
      ]
     },
     "execution_count": 14,
     "metadata": {},
     "output_type": "execute_result"
    }
   ],
   "source": [
    "\"Hola\" + \"Cómo estás?\" #concatena las cadenas, sin dejar espacio entre ambas..agregarlo"
   ]
  },
  {
   "cell_type": "markdown",
   "id": "83dfaef4",
   "metadata": {},
   "source": [
    "<font color=Purple>\n",
    "    \n",
    " # _B) Sustracción_ </font>\n"
   ]
  },
  {
   "cell_type": "code",
   "execution_count": 15,
   "id": "19798494",
   "metadata": {},
   "outputs": [
    {
     "data": {
      "text/plain": [
       "24"
      ]
     },
     "execution_count": 15,
     "metadata": {},
     "output_type": "execute_result"
    }
   ],
   "source": [
    "30-6"
   ]
  },
  {
   "cell_type": "markdown",
   "id": "6b408d54",
   "metadata": {},
   "source": [
    "<font color=Purple>\n",
    "    \n",
    "# _C) Multiplicación_ </font>\n",
    "\n",
    "### Sirve también para listas, caracteres y tuplas. Forma a*b.\n"
   ]
  },
  {
   "cell_type": "code",
   "execution_count": 16,
   "id": "add07f48",
   "metadata": {},
   "outputs": [
    {
     "data": {
      "text/plain": [
       "240"
      ]
     },
     "execution_count": 16,
     "metadata": {},
     "output_type": "execute_result"
    }
   ],
   "source": [
    "15*16"
   ]
  },
  {
   "cell_type": "code",
   "execution_count": 17,
   "id": "68d23c37",
   "metadata": {},
   "outputs": [
    {
     "data": {
      "text/plain": [
       "'Turu1Turu1'"
      ]
     },
     "execution_count": 17,
     "metadata": {},
     "output_type": "execute_result"
    }
   ],
   "source": [
    "\"Turu1\"*2"
   ]
  },
  {
   "cell_type": "markdown",
   "id": "9d4c7b0f",
   "metadata": {},
   "source": [
    "<font color=Purple>\n",
    "    \n",
    "# _D) División_ </font>\n",
    "\n",
    "### Forma a/b."
   ]
  },
  {
   "cell_type": "code",
   "execution_count": 18,
   "id": "edf48dd7",
   "metadata": {},
   "outputs": [
    {
     "data": {
      "text/plain": [
       "2.0"
      ]
     },
     "execution_count": 18,
     "metadata": {},
     "output_type": "execute_result"
    }
   ],
   "source": [
    "10/5"
   ]
  },
  {
   "cell_type": "markdown",
   "id": "d67d0756",
   "metadata": {},
   "source": [
    "<font color=Purple>\n",
    "    \n",
    "# _E) División entera truncada_ </font>\n",
    "\n",
    "### Devuelve un valor entero, redondea los decimales hacia abajo."
   ]
  },
  {
   "cell_type": "code",
   "execution_count": 19,
   "id": "dec55281",
   "metadata": {},
   "outputs": [
    {
     "data": {
      "text/plain": [
       "2"
      ]
     },
     "execution_count": 19,
     "metadata": {},
     "output_type": "execute_result"
    }
   ],
   "source": [
    "10//5 #con doble // devuelve el entero"
   ]
  },
  {
   "cell_type": "markdown",
   "id": "dff9b15c",
   "metadata": {},
   "source": [
    "<font color=Purple>\n",
    "    \n",
    "# _F) Módulo ó residuo de la división_ </font>\n",
    "\n",
    "### Forma a%b."
   ]
  },
  {
   "cell_type": "code",
   "execution_count": 20,
   "id": "1283e738",
   "metadata": {},
   "outputs": [
    {
     "data": {
      "text/plain": [
       "1"
      ]
     },
     "execution_count": 20,
     "metadata": {},
     "output_type": "execute_result"
    }
   ],
   "source": [
    "5%2"
   ]
  },
  {
   "cell_type": "markdown",
   "id": "cef25c33",
   "metadata": {},
   "source": [
    "<font color=Purple>\n",
    "    \n",
    "# _E) Exponenciación_ </font>\n",
    "\n",
    "### Forma a**b."
   ]
  },
  {
   "cell_type": "code",
   "execution_count": 21,
   "id": "45a9d02d",
   "metadata": {},
   "outputs": [
    {
     "data": {
      "text/plain": [
       "1728"
      ]
     },
     "execution_count": 21,
     "metadata": {},
     "output_type": "execute_result"
    }
   ],
   "source": [
    "12**3"
   ]
  },
  {
   "cell_type": "markdown",
   "id": "a4af78dd",
   "metadata": {},
   "source": [
    "<font color=Purple>\n",
    "    \n",
    "# _Operadores de Asignación_ </font>\n",
    "\n",
    "### [=; -=; +=; /=; //=; %=; **=]."
   ]
  },
  {
   "cell_type": "code",
   "execution_count": 23,
   "id": "922665ca",
   "metadata": {},
   "outputs": [
    {
     "name": "stdout",
     "output_type": "stream",
     "text": [
      "7\n",
      "4\n"
     ]
    }
   ],
   "source": [
    "edad = 10\n",
    "edad = edad - 3\n",
    "print(edad)\n",
    "edad -= 3\n",
    "print(edad)"
   ]
  },
  {
   "cell_type": "code",
   "execution_count": 26,
   "id": "5eea5354",
   "metadata": {},
   "outputs": [
    {
     "name": "stdout",
     "output_type": "stream",
     "text": [
      "67\n"
     ]
    }
   ],
   "source": [
    "edad += 21\n",
    "print(edad)"
   ]
  },
  {
   "cell_type": "code",
   "execution_count": 28,
   "id": "63455938",
   "metadata": {},
   "outputs": [
    {
     "name": "stdout",
     "output_type": "stream",
     "text": [
      "16\n"
     ]
    }
   ],
   "source": [
    "edad //=2\n",
    "print(edad)"
   ]
  },
  {
   "cell_type": "code",
   "execution_count": 31,
   "id": "e93c04c6",
   "metadata": {},
   "outputs": [
    {
     "name": "stdout",
     "output_type": "stream",
     "text": [
      "0.09142857142857143\n"
     ]
    }
   ],
   "source": [
    "edad /= 5\n",
    "print(edad)"
   ]
  }
 ],
 "metadata": {
  "kernelspec": {
   "display_name": "Python 3",
   "language": "python",
   "name": "python3"
  },
  "language_info": {
   "codemirror_mode": {
    "name": "ipython",
    "version": 3
   },
   "file_extension": ".py",
   "mimetype": "text/x-python",
   "name": "python",
   "nbconvert_exporter": "python",
   "pygments_lexer": "ipython3",
   "version": "3.8.8"
  }
 },
 "nbformat": 4,
 "nbformat_minor": 5
}
