{
 "cells": [
  {
   "cell_type": "markdown",
   "id": "6cc2a59f",
   "metadata": {},
   "source": [
    "<font color=Purple>\n",
    "    \n",
    "# _7.2 Clases y Objetos_ </font>\n",
    "\n",
    "### Las clases nos permiten crear objetos."
   ]
  },
  {
   "cell_type": "code",
   "execution_count": 1,
   "id": "49efc62d",
   "metadata": {},
   "outputs": [],
   "source": [
    "class Torta:\n",
    "    pass \n",
    "#pass: Permite ejecutar un código que requiere alguna función, \n",
    "#alguna declaración ó sentencia en su cuerpo pero no deseamos que sea ejecutado nada"
   ]
  },
  {
   "cell_type": "markdown",
   "id": "2da1fe95",
   "metadata": {},
   "source": [
    "### El proceso de crear un objeto a partir de su clase se llama instanciación y por esto los objetos se conocen como una instancia de clase."
   ]
  },
  {
   "cell_type": "code",
   "execution_count": 2,
   "id": "779839a4",
   "metadata": {},
   "outputs": [],
   "source": [
    "torta = Torta()\n",
    "torta_selva_negra=Torta()"
   ]
  },
  {
   "cell_type": "code",
   "execution_count": 3,
   "id": "7d249945",
   "metadata": {},
   "outputs": [
    {
     "data": {
      "text/plain": [
       "<__main__.Torta at 0x9564b00220>"
      ]
     },
     "execution_count": 3,
     "metadata": {},
     "output_type": "execute_result"
    }
   ],
   "source": [
    "torta"
   ]
  },
  {
   "cell_type": "code",
   "execution_count": 4,
   "id": "3e24efbd",
   "metadata": {},
   "outputs": [
    {
     "data": {
      "text/plain": [
       "<__main__.Torta at 0x95648ce280>"
      ]
     },
     "execution_count": 4,
     "metadata": {},
     "output_type": "execute_result"
    }
   ],
   "source": [
    "torta_selva_negra"
   ]
  }
 ],
 "metadata": {
  "kernelspec": {
   "display_name": "Python 3",
   "language": "python",
   "name": "python3"
  },
  "language_info": {
   "codemirror_mode": {
    "name": "ipython",
    "version": 3
   },
   "file_extension": ".py",
   "mimetype": "text/x-python",
   "name": "python",
   "nbconvert_exporter": "python",
   "pygments_lexer": "ipython3",
   "version": "3.8.8"
  }
 },
 "nbformat": 4,
 "nbformat_minor": 5
}
