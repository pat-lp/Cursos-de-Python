{
 "cells": [
  {
   "cell_type": "markdown",
   "id": "618ee325",
   "metadata": {},
   "source": [
    "<font color=Purple>\n",
    "    \n",
    "# _7.3 Atributos y métodos de clase_ </font>\n",
    "\n",
    "### Un objeto se diferencia de otros de su misma clase por el valor de sus atributos."
   ]
  },
  {
   "cell_type": "code",
   "execution_count": 1,
   "id": "bc23ebea",
   "metadata": {},
   "outputs": [],
   "source": [
    "class Torta:\n",
    "    pass\n",
    "\n",
    "torta_fresa = Torta()"
   ]
  },
  {
   "cell_type": "code",
   "execution_count": 2,
   "id": "df698190",
   "metadata": {},
   "outputs": [
    {
     "data": {
      "text/plain": [
       "<__main__.Torta at 0x2ff2e090a0>"
      ]
     },
     "execution_count": 2,
     "metadata": {},
     "output_type": "execute_result"
    }
   ],
   "source": [
    "torta_fresa"
   ]
  },
  {
   "cell_type": "markdown",
   "id": "c3cc30f0",
   "metadata": {},
   "source": [
    "### Podemos asignarle atributos al objeto luego de su creación."
   ]
  },
  {
   "cell_type": "code",
   "execution_count": 3,
   "id": "2bb16b18",
   "metadata": {},
   "outputs": [],
   "source": [
    "torta_fresa.sabor=\"Fresa\"\n",
    "torta_fresa.color=\"Rosado\""
   ]
  },
  {
   "cell_type": "code",
   "execution_count": 4,
   "id": "323817b7",
   "metadata": {},
   "outputs": [
    {
     "data": {
      "text/plain": [
       "'Fresa'"
      ]
     },
     "execution_count": 4,
     "metadata": {},
     "output_type": "execute_result"
    }
   ],
   "source": [
    "torta_fresa.sabor"
   ]
  },
  {
   "cell_type": "code",
   "execution_count": 5,
   "id": "41a0ef42",
   "metadata": {},
   "outputs": [
    {
     "data": {
      "text/plain": [
       "'El sabor de la torta es Fresa'"
      ]
     },
     "execution_count": 5,
     "metadata": {},
     "output_type": "execute_result"
    }
   ],
   "source": [
    "f\"El sabor de la torta es {torta_fresa.sabor}\""
   ]
  },
  {
   "cell_type": "markdown",
   "id": "e9450199",
   "metadata": {},
   "source": [
    "### También podemos definir internamente los atributos de clase y asignarle un valor por defecto que compartirán todas las clases."
   ]
  },
  {
   "cell_type": "code",
   "execution_count": 6,
   "id": "a63b1a72",
   "metadata": {},
   "outputs": [],
   "source": [
    "class Torta:\n",
    "    chocolate=False"
   ]
  },
  {
   "cell_type": "code",
   "execution_count": 7,
   "id": "e156638f",
   "metadata": {},
   "outputs": [
    {
     "data": {
      "text/plain": [
       "False"
      ]
     },
     "execution_count": 7,
     "metadata": {},
     "output_type": "execute_result"
    }
   ],
   "source": [
    "torta_2 = Torta()\n",
    "torta_2.chocolate"
   ]
  },
  {
   "cell_type": "code",
   "execution_count": 8,
   "id": "dc28afe0",
   "metadata": {},
   "outputs": [
    {
     "data": {
      "text/plain": [
       "True"
      ]
     },
     "execution_count": 8,
     "metadata": {},
     "output_type": "execute_result"
    }
   ],
   "source": [
    "torta_2.chocolate = True\n",
    "torta_2.chocolate"
   ]
  },
  {
   "cell_type": "markdown",
   "id": "72a98de1",
   "metadata": {},
   "source": [
    "<font color=Purple>\n",
    "\n",
    "## El método _INIT_ y el término _self_ </font>\n",
    "\n",
    "+ _init_ (método constructor) se ejecuta al crear un objeto: Permite enviarle argumentos al objeto durante la instanciación.\n",
    "+ _self_ hace referencia al propio objeto: Sirve para diferenciar el ámbito de clase y el de un método."
   ]
  },
  {
   "cell_type": "code",
   "execution_count": 9,
   "id": "e2ca016b",
   "metadata": {},
   "outputs": [
    {
     "name": "stdout",
     "output_type": "stream",
     "text": [
      "Se creó una torta.\n"
     ]
    }
   ],
   "source": [
    "class Torta():\n",
    "    glaseado = False #atributo\n",
    "    \n",
    "    #método constructor\n",
    "    def __init__(self): #self: hace referencia al objeto que se está creando\n",
    "        print('Se creó una torta.')\n",
    "        \n",
    "t = Torta()\n",
    "        "
   ]
  },
  {
   "cell_type": "code",
   "execution_count": 10,
   "id": "8272f4d4",
   "metadata": {},
   "outputs": [
    {
     "name": "stdout",
     "output_type": "stream",
     "text": [
      "Se creó una torta.\n"
     ]
    },
    {
     "data": {
      "text/plain": [
       "False"
      ]
     },
     "execution_count": 10,
     "metadata": {},
     "output_type": "execute_result"
    }
   ],
   "source": [
    "class Torta():\n",
    "    glaseado = False\n",
    "    \n",
    "    def __init__(self):\n",
    "        print('Se creó una torta.')\n",
    "    \n",
    "    def glasear(self):\n",
    "        self.glaseado = True #método que cambia el valor del atributo a True\n",
    "        \n",
    "t = Torta()\n",
    "t.glaseado"
   ]
  },
  {
   "cell_type": "code",
   "execution_count": 11,
   "id": "b89a86ea",
   "metadata": {},
   "outputs": [
    {
     "data": {
      "text/plain": [
       "True"
      ]
     },
     "execution_count": 11,
     "metadata": {},
     "output_type": "execute_result"
    }
   ],
   "source": [
    "t.glasear() #este método ya cambió el valor del atributo, por lo cual el resultado será True.\n",
    "t.glaseado"
   ]
  },
  {
   "cell_type": "code",
   "execution_count": 12,
   "id": "610ee7f5",
   "metadata": {},
   "outputs": [],
   "source": [
    "class Torta():\n",
    "    glaseado = False\n",
    "    \n",
    "    def __init__(self):\n",
    "        print('Se creó una torta.')\n",
    "    \n",
    "    def glasear(self):\n",
    "        self.glaseado = True\n",
    "        \n",
    "    def esta_glaseada(self): #método para saber si la torta está o no glaseada para no tocar el atributo.\n",
    "        if (self.glaseado):\n",
    "            print('Soy una torta glaseada')\n",
    "        else:\n",
    "            print('Soy una torta sencilla sin glaseado')"
   ]
  },
  {
   "cell_type": "code",
   "execution_count": 13,
   "id": "633ab2b7",
   "metadata": {},
   "outputs": [
    {
     "name": "stdout",
     "output_type": "stream",
     "text": [
      "Se creó una torta.\n"
     ]
    }
   ],
   "source": [
    "t = Torta()"
   ]
  },
  {
   "cell_type": "code",
   "execution_count": 14,
   "id": "c026db6f",
   "metadata": {},
   "outputs": [
    {
     "name": "stdout",
     "output_type": "stream",
     "text": [
      "Soy una torta sencilla sin glaseado\n"
     ]
    }
   ],
   "source": [
    "t.esta_glaseada()"
   ]
  },
  {
   "cell_type": "code",
   "execution_count": 16,
   "id": "2c68e775",
   "metadata": {},
   "outputs": [],
   "source": [
    "t.glasear() #cambió el valor del atributo"
   ]
  },
  {
   "cell_type": "code",
   "execution_count": 17,
   "id": "2e79d5bb",
   "metadata": {},
   "outputs": [
    {
     "name": "stdout",
     "output_type": "stream",
     "text": [
      "Soy una torta glaseada\n"
     ]
    }
   ],
   "source": [
    "t.esta_glaseada()"
   ]
  },
  {
   "cell_type": "code",
   "execution_count": 18,
   "id": "1c3a0c43",
   "metadata": {},
   "outputs": [],
   "source": [
    "class Torta():\n",
    "    glaseado = False\n",
    "    \n",
    "    def __init__(self,sabor,color):\n",
    "        self.sabor = sabor\n",
    "        self.color = color\n",
    "        print(f'Se acaba de crear una torta de {sabor} {color}.')\n",
    "    \n",
    "    def glasear(self):\n",
    "        self.glaseado = True\n",
    "        \n",
    "    def esta_glaseada(self):\n",
    "        if (self.glaseado):\n",
    "            print(f'Soy una torta de {self.sabor} glaseada')\n",
    "        else:\n",
    "            print(f'Soy una torta de {self.sabor} sin glaseado')"
   ]
  },
  {
   "cell_type": "code",
   "execution_count": 19,
   "id": "aaf6a9be",
   "metadata": {},
   "outputs": [
    {
     "name": "stdout",
     "output_type": "stream",
     "text": [
      "Se acaba de crear una torta de Fresa Morada.\n"
     ]
    }
   ],
   "source": [
    "o = Torta('Fresa','Morada') #Torta(sabor,color)"
   ]
  },
  {
   "cell_type": "code",
   "execution_count": 20,
   "id": "42ddccfc",
   "metadata": {},
   "outputs": [
    {
     "data": {
      "text/plain": [
       "'Morada'"
      ]
     },
     "execution_count": 20,
     "metadata": {},
     "output_type": "execute_result"
    }
   ],
   "source": [
    "o.color"
   ]
  },
  {
   "cell_type": "code",
   "execution_count": 21,
   "id": "14a47d41",
   "metadata": {},
   "outputs": [
    {
     "name": "stdout",
     "output_type": "stream",
     "text": [
      "Soy una torta de Fresa sin glaseado\n"
     ]
    }
   ],
   "source": [
    "o.esta_glaseada()"
   ]
  },
  {
   "cell_type": "code",
   "execution_count": 22,
   "id": "92957ec7",
   "metadata": {},
   "outputs": [
    {
     "name": "stdout",
     "output_type": "stream",
     "text": [
      "Soy una torta de Fresa glaseada\n"
     ]
    }
   ],
   "source": [
    "o.glasear()\n",
    "o.esta_glaseada()\n"
   ]
  },
  {
   "cell_type": "code",
   "execution_count": 23,
   "id": "e8114747",
   "metadata": {},
   "outputs": [
    {
     "ename": "TypeError",
     "evalue": "__init__() missing 2 required positional arguments: 'sabor' and 'color'",
     "output_type": "error",
     "traceback": [
      "\u001b[1;31m---------------------------------------------------------------------------\u001b[0m",
      "\u001b[1;31mTypeError\u001b[0m                                 Traceback (most recent call last)",
      "\u001b[1;32m<ipython-input-23-dfb7e99e376d>\u001b[0m in \u001b[0;36m<module>\u001b[1;34m\u001b[0m\n\u001b[1;32m----> 1\u001b[1;33m \u001b[0mm\u001b[0m \u001b[1;33m=\u001b[0m \u001b[0mTorta\u001b[0m\u001b[1;33m(\u001b[0m\u001b[1;33m)\u001b[0m\u001b[1;33m\u001b[0m\u001b[1;33m\u001b[0m\u001b[0m\n\u001b[0m",
      "\u001b[1;31mTypeError\u001b[0m: __init__() missing 2 required positional arguments: 'sabor' and 'color'"
     ]
    }
   ],
   "source": [
    "m = Torta() #arroja error, ya que no se encuentran los valores sabor y color\n",
    "#TypeError: __init__() missing 2 required positional arguments: 'sabor' and 'color'"
   ]
  },
  {
   "cell_type": "code",
   "execution_count": 24,
   "id": "1fabf799",
   "metadata": {},
   "outputs": [],
   "source": [
    "class Torta():\n",
    "    glaseado = False\n",
    "    \n",
    "    def __init__(self,sabor=None,color=None): \n",
    "        self.sabor = sabor\n",
    "        self.color = color\n",
    "        print(f'Se creó una torta de {sabor} {color}.')\n",
    "            \n",
    "    def glasear(self):\n",
    "        self.glaseado = True\n",
    "      \n",
    "    def esta_glaseada(self):\n",
    "        if (self.glaseado):\n",
    "            print(f'Soy una torta de {self.sabor} glaseada')\n",
    "        else:\n",
    "            print(f'Soy una torta de {self.sabor} sin glaseado')"
   ]
  },
  {
   "cell_type": "code",
   "execution_count": 25,
   "id": "8c420fe7",
   "metadata": {},
   "outputs": [
    {
     "name": "stdout",
     "output_type": "stream",
     "text": [
      "Se creó una torta de None None.\n"
     ]
    }
   ],
   "source": [
    "m=Torta() #Se creó una torta de None None."
   ]
  },
  {
   "cell_type": "code",
   "execution_count": 26,
   "id": "b4a61534",
   "metadata": {},
   "outputs": [],
   "source": [
    "class Torta():\n",
    "    glaseado = False\n",
    "    \n",
    "    def __init__(self,sabor=None,color=None):\n",
    "        self.sabor = sabor\n",
    "        self.color = color\n",
    "        if sabor is not None and color is not None: #para que NO aparezca el mensaje:Se creó una torta de None None.\n",
    "            print(f'Se creó una torta de {sabor} {color}.')\n",
    "        else: \n",
    "            print(f'Se creó una torta de vainilla')\n",
    "            \n",
    "    def glasear(self):\n",
    "        self.glaseado = True\n",
    "      \n",
    "    def esta_glaseada(self):\n",
    "        if (self.glaseado):\n",
    "            print(f'Soy una torta de {self.sabor} glaseada')\n",
    "        else:\n",
    "            print(f'Soy una torta de {self.sabor} sin glaseado')"
   ]
  },
  {
   "cell_type": "code",
   "execution_count": 27,
   "id": "b6417aff",
   "metadata": {},
   "outputs": [
    {
     "name": "stdout",
     "output_type": "stream",
     "text": [
      "Se creó una torta de vainilla\n"
     ]
    }
   ],
   "source": [
    "m=Torta() #Se creó una torta de vainilla"
   ]
  },
  {
   "cell_type": "code",
   "execution_count": null,
   "id": "f1619ba6",
   "metadata": {},
   "outputs": [],
   "source": []
  }
 ],
 "metadata": {
  "kernelspec": {
   "display_name": "Python 3",
   "language": "python",
   "name": "python3"
  },
  "language_info": {
   "codemirror_mode": {
    "name": "ipython",
    "version": 3
   },
   "file_extension": ".py",
   "mimetype": "text/x-python",
   "name": "python",
   "nbconvert_exporter": "python",
   "pygments_lexer": "ipython3",
   "version": "3.8.8"
  }
 },
 "nbformat": 4,
 "nbformat_minor": 5
}
