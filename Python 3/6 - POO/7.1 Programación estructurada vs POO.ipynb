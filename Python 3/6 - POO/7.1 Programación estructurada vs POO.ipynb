{
 "cells": [
  {
   "cell_type": "markdown",
   "id": "e5f35b13",
   "metadata": {},
   "source": [
    "<font color=Purple>\n",
    "    \n",
    "# _7.1 Programación Orientada a Objetos_ </font>\n",
    "\n",
    "### A partir de un ejemplo se podrá entender la diferencia entre la programación estructurada y orientada a objetos. \n",
    "### Se crea un registro para manejar el inventario de un negocio. Este debe incluir:\n",
    "+ Código identificador del producto.\n",
    "+ Nombre del producto.\n",
    "+ Categoría del producto.\n",
    "+ PVP(Precio de Venta al Público).\n",
    "### El programa debe permitir mostrar o borrar los datos de cada producto a partir del código identificador."
   ]
  },
  {
   "cell_type": "markdown",
   "id": "c9d26fa4",
   "metadata": {},
   "source": [
    "<font color=Purple>\n",
    "    \n",
    "# _Solución con Programación Estructurada_ </font>"
   ]
  },
  {
   "cell_type": "code",
   "execution_count": 2,
   "id": "a68ca34f",
   "metadata": {},
   "outputs": [],
   "source": [
    "#Se genera una lista \n",
    "productos = [\n",
    "    {\"cod\":\"10001\",\"Nombre\":\"Jabón Zorro\", \"Categoría\":\"Higiene Personal\",\"pvp\":.9},\n",
    "    {\"cod\":\"10002\",\"Nombre\":\"Cereal Nestlé\", \"Categoría\":\"Cereal\",\"pvp\":1.5},\n",
    "    {\"cod\":\"10003\",\"Nombre\":\"Limones\", \"Categoría\":\"Fruta\",\"pvp\":.7},\n",
    "]\n"
   ]
  },
  {
   "cell_type": "code",
   "execution_count": 3,
   "id": "905f8788",
   "metadata": {},
   "outputs": [
    {
     "data": {
      "text/plain": [
       "{'cod': '10001',\n",
       " 'Nombre': 'Jabón Zorro',\n",
       " 'Categoría': 'Higiene Personal',\n",
       " 'pvp': 0.9}"
      ]
     },
     "execution_count": 3,
     "metadata": {},
     "output_type": "execute_result"
    }
   ],
   "source": [
    "productos[0] #Para mostrar el primer producto de la lista"
   ]
  },
  {
   "cell_type": "code",
   "execution_count": 5,
   "id": "84f7ec65",
   "metadata": {},
   "outputs": [],
   "source": [
    "#Función\n",
    "def mostrarProducto(productos, cod):\n",
    "    for i in productos:\n",
    "        if (cod == i[\"cod\"]):\n",
    "            return print(\"{} {}\".format(i[\"Nombre\"], i[\"pvp\"]))\n",
    "    print(\"Producto no encontrado\")"
   ]
  },
  {
   "cell_type": "code",
   "execution_count": 6,
   "id": "5c2abeb3",
   "metadata": {},
   "outputs": [
    {
     "name": "stdout",
     "output_type": "stream",
     "text": [
      "Limones 0.7\n"
     ]
    }
   ],
   "source": [
    "mostrarProducto(productos,\"10003\")"
   ]
  },
  {
   "cell_type": "code",
   "execution_count": 7,
   "id": "66fd8b54",
   "metadata": {},
   "outputs": [
    {
     "name": "stdout",
     "output_type": "stream",
     "text": [
      "Producto no encontrado\n"
     ]
    }
   ],
   "source": [
    "mostrarProducto(productos,\"111\")"
   ]
  },
  {
   "cell_type": "code",
   "execution_count": 11,
   "id": "bb92a9fd",
   "metadata": {},
   "outputs": [],
   "source": [
    "#Función para borrar\n",
    "def borrarProducto(productos,cod):\n",
    "    for i,p in enumerate(productos):\n",
    "        if (cod == p[\"cod\"]):\n",
    "            del(productos[i])\n",
    "            return print(str(p), \">ELIMINADO\")\n",
    "    print(\"Producto no encontrado\")"
   ]
  },
  {
   "cell_type": "code",
   "execution_count": 12,
   "id": "ff8ef24c",
   "metadata": {},
   "outputs": [
    {
     "name": "stdout",
     "output_type": "stream",
     "text": [
      "{'cod': '10003', 'Nombre': 'Limones', 'Categoría': 'Fruta', 'pvp': 0.7} >ELIMINADO\n"
     ]
    }
   ],
   "source": [
    "borrarProducto(productos,\"10003\")"
   ]
  },
  {
   "cell_type": "code",
   "execution_count": 13,
   "id": "13c8beea",
   "metadata": {},
   "outputs": [
    {
     "name": "stdout",
     "output_type": "stream",
     "text": [
      "Producto no encontrado\n"
     ]
    }
   ],
   "source": [
    "mostrarProducto(productos,\"10003\")"
   ]
  },
  {
   "cell_type": "code",
   "execution_count": 15,
   "id": "e88744f6",
   "metadata": {},
   "outputs": [
    {
     "name": "stdout",
     "output_type": "stream",
     "text": [
      "==CATÁLOGO DE PRODUCTOS==\n",
      "[{'cod': '10001', 'Nombre': 'Jabón Zorro', 'Categoría': 'Higiene Personal', 'pvp': 0.9}, {'cod': '10002', 'Nombre': 'Cereal Nestlé', 'Categoría': 'Cereal', 'pvp': 1.5}]\n",
      "\n",
      "==MOSTRAR PRODUCTOS POR COD==\n",
      "Jabón Zorro 0.9\n",
      "Cereal Nestlé 1.5\n",
      "\n",
      "==BORRAR PRODUCTOS POR COD==\n",
      "{'cod': '10001', 'Nombre': 'Jabón Zorro', 'Categoría': 'Higiene Personal', 'pvp': 0.9} >ELIMINADO\n",
      "{'cod': '10002', 'Nombre': 'Cereal Nestlé', 'Categoría': 'Cereal', 'pvp': 1.5} >ELIMINADO\n",
      "\n",
      "==CATÁLOGO DE PRODUCTOS==\n",
      "[]\n"
     ]
    }
   ],
   "source": [
    "print(\"==CATÁLOGO DE PRODUCTOS==\")\n",
    "print(productos)\n",
    "\n",
    "print(\"\\n==MOSTRAR PRODUCTOS POR COD==\")\n",
    "mostrarProducto(productos,'10001')\n",
    "mostrarProducto(productos,'10002')\n",
    "\n",
    "print(\"\\n==BORRAR PRODUCTOS POR COD==\")\n",
    "borrarProducto(productos, '10001')\n",
    "borrarProducto(productos, '10002')\n",
    "\n",
    "print(\"\\n==CATÁLOGO DE PRODUCTOS==\")\n",
    "print(productos)"
   ]
  },
  {
   "cell_type": "markdown",
   "id": "255bf5a1",
   "metadata": {},
   "source": [
    "<font color=Purple>\n",
    "    \n",
    "# _Solución con Programación Orientada a Objetos_ </font>"
   ]
  },
  {
   "cell_type": "code",
   "execution_count": 16,
   "id": "1c8b826e",
   "metadata": {},
   "outputs": [],
   "source": [
    "# Se crea una estructura para los productos\n",
    "\n",
    "class Producto:\n",
    "\n",
    "    def __init__(self,cod,nombre,categoria,pvp): #método inicializador\n",
    "        self.cod = cod\n",
    "        self.nombre = nombre\n",
    "        self.categoria = categoria\n",
    "        self.pvp = pvp\n",
    "\n",
    "    def __str__(self):\n",
    "        return '{} {}'.format(self.nombre,self.pvp)\n",
    "\n",
    "# Y otra estructura para el negocio con dos funciones mostrar y borrarProducto\n",
    "class Negocio:\n",
    "\n",
    "    def __init__(self, productos=[]):\n",
    "        self.productos = productos\n",
    "\n",
    "    def mostrarProducto(self, cod=None):\n",
    "        for p in self.productos:\n",
    "            if p.cod == cod:\n",
    "                print(p)\n",
    "                return\n",
    "        print(\"Producto no encontrado\")\n",
    "\n",
    "    def borrarProducto(self, cod=None):\n",
    "        for i,p in enumerate(self.productos):\n",
    "            if p.cod == cod:\n",
    "                del(self.productos[i])\n",
    "                print(str(p),\"> ELIMINADO\")\n",
    "                return\n",
    "        print(\"Producto no encontrado\")\n"
   ]
  },
  {
   "cell_type": "code",
   "execution_count": 17,
   "id": "7d46f93b",
   "metadata": {},
   "outputs": [],
   "source": [
    "limones = Producto(nombre=\"Limones\", cod=\"10010\", categoria=\"Frutas\",pvp=0.8)\n",
    "platos = Producto(\"10020\", \"Platos Alpina\", \"Vajilla\", 2.4)"
   ]
  },
  {
   "cell_type": "code",
   "execution_count": 18,
   "id": "5631bf40",
   "metadata": {},
   "outputs": [
    {
     "data": {
      "text/plain": [
       "<__main__.Producto at 0xa1a8a14a30>"
      ]
     },
     "execution_count": 18,
     "metadata": {},
     "output_type": "execute_result"
    }
   ],
   "source": [
    "limones #imprime la dirección de memoria"
   ]
  },
  {
   "cell_type": "code",
   "execution_count": 19,
   "id": "265ea336",
   "metadata": {},
   "outputs": [
    {
     "data": {
      "text/plain": [
       "<__main__.Producto at 0xa1a8a143a0>"
      ]
     },
     "execution_count": 19,
     "metadata": {},
     "output_type": "execute_result"
    }
   ],
   "source": [
    "platos #imprime la dirección de memoria"
   ]
  },
  {
   "cell_type": "code",
   "execution_count": 20,
   "id": "d14855b3",
   "metadata": {},
   "outputs": [
    {
     "data": {
      "text/plain": [
       "'Platos Alpina 2.4'"
      ]
     },
     "execution_count": 20,
     "metadata": {},
     "output_type": "execute_result"
    }
   ],
   "source": [
    "str(platos) #Función string redefinida"
   ]
  },
  {
   "cell_type": "code",
   "execution_count": 21,
   "id": "f88926d8",
   "metadata": {},
   "outputs": [],
   "source": [
    "negocio = Negocio(productos=[limones,platos]) #Asigno a la variable negocio el valor de la clase Negocio"
   ]
  },
  {
   "cell_type": "code",
   "execution_count": 22,
   "id": "4589b16e",
   "metadata": {},
   "outputs": [
    {
     "data": {
      "text/plain": [
       "[<__main__.Producto at 0xa1a8a14a30>, <__main__.Producto at 0xa1a8a143a0>]"
      ]
     },
     "execution_count": 22,
     "metadata": {},
     "output_type": "execute_result"
    }
   ],
   "source": [
    "negocio.productos #Devuelve una dirección de memoria"
   ]
  },
  {
   "cell_type": "code",
   "execution_count": 23,
   "id": "6a870a59",
   "metadata": {},
   "outputs": [
    {
     "name": "stdout",
     "output_type": "stream",
     "text": [
      "Limones 0.8\n"
     ]
    }
   ],
   "source": [
    "# Para mostrar el producto por código\n",
    "\n",
    "negocio.mostrarProducto('10010')"
   ]
  },
  {
   "cell_type": "code",
   "execution_count": 24,
   "id": "6b643a10",
   "metadata": {},
   "outputs": [
    {
     "name": "stdout",
     "output_type": "stream",
     "text": [
      "Limones 0.8 > ELIMINADO\n"
     ]
    }
   ],
   "source": [
    "# Para borrar el productos por código\n",
    "negocio.borrarProducto('10010')"
   ]
  },
  {
   "cell_type": "code",
   "execution_count": 25,
   "id": "4d186264",
   "metadata": {},
   "outputs": [
    {
     "name": "stdout",
     "output_type": "stream",
     "text": [
      "Producto no encontrado\n"
     ]
    }
   ],
   "source": [
    "negocio.mostrarProducto('10010')"
   ]
  }
 ],
 "metadata": {
  "kernelspec": {
   "display_name": "Python 3",
   "language": "python",
   "name": "python3"
  },
  "language_info": {
   "codemirror_mode": {
    "name": "ipython",
    "version": 3
   },
   "file_extension": ".py",
   "mimetype": "text/x-python",
   "name": "python",
   "nbconvert_exporter": "python",
   "pygments_lexer": "ipython3",
   "version": "3.8.8"
  }
 },
 "nbformat": 4,
 "nbformat_minor": 5
}
