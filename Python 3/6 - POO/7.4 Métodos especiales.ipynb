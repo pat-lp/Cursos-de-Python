{
 "cells": [
  {
   "cell_type": "markdown",
   "id": "94f67952",
   "metadata": {},
   "source": [
    "<font color=Purple>\n",
    "    \n",
    "# _7.4 Métodos especiales_ </font>"
   ]
  },
  {
   "cell_type": "markdown",
   "id": "7b59e985",
   "metadata": {},
   "source": [
    "### El constructor de clase"
   ]
  },
  {
   "cell_type": "code",
   "execution_count": 2,
   "id": "43fd9607",
   "metadata": {},
   "outputs": [
    {
     "name": "stdout",
     "output_type": "stream",
     "text": [
      "Se creo el video The Avengers\n"
     ]
    }
   ],
   "source": [
    "class Video():\n",
    "    \n",
    "    # Constructor de clase\n",
    "    def __init__(self,titulo,duracion,lanzamiento):\n",
    "        self.titulo = titulo\n",
    "        self.duracion = duracion\n",
    "        self.lanzamiento = lanzamiento\n",
    "        print('Se creo el video', self.titulo)\n",
    "        \n",
    "v=Video('The Avengers',143,2012)"
   ]
  },
  {
   "cell_type": "markdown",
   "id": "aee48680",
   "metadata": {},
   "source": [
    "### El destructor de clase"
   ]
  },
  {
   "cell_type": "code",
   "execution_count": 3,
   "id": "0800be3c",
   "metadata": {},
   "outputs": [
    {
     "name": "stdout",
     "output_type": "stream",
     "text": [
      "Se creo el video The Avengers\n"
     ]
    }
   ],
   "source": [
    "class Video():\n",
    "  \n",
    "    def __init__(self,titulo,duracion,lanzamiento):\n",
    "        self.titulo = titulo\n",
    "        self.duracion = duracion\n",
    "        self.lanzamiento = lanzamiento\n",
    "        print('Se creo el video', self.titulo)\n",
    "     \n",
    "    # Destructor de clase\n",
    "    def __del__(self):\n",
    "        print('Se eliminó el video', self.titulo)\n",
    "        \n",
    "v=Video('The Avengers',143,2012)"
   ]
  },
  {
   "cell_type": "code",
   "execution_count": 4,
   "id": "313f71e4",
   "metadata": {},
   "outputs": [
    {
     "name": "stdout",
     "output_type": "stream",
     "text": [
      "Se eliminó el video The Avengers\n"
     ]
    }
   ],
   "source": [
    "del(v)"
   ]
  },
  {
   "cell_type": "markdown",
   "id": "6c51dbbf",
   "metadata": {},
   "source": [
    "<font color=Purple>\n",
    "\n",
    "## _Métodos str() y len()_ </font> "
   ]
  },
  {
   "cell_type": "code",
   "execution_count": 5,
   "id": "fa58982c",
   "metadata": {},
   "outputs": [
    {
     "name": "stdout",
     "output_type": "stream",
     "text": [
      "Se creo el video The Avengers\n"
     ]
    }
   ],
   "source": [
    "v=Video('The Avengers',143,2012)"
   ]
  },
  {
   "cell_type": "code",
   "execution_count": 6,
   "id": "f94bb699",
   "metadata": {},
   "outputs": [
    {
     "data": {
      "text/plain": [
       "'<__main__.Video object at 0x0000000789CDB070>'"
      ]
     },
     "execution_count": 6,
     "metadata": {},
     "output_type": "execute_result"
    }
   ],
   "source": [
    "str(v)"
   ]
  },
  {
   "cell_type": "code",
   "execution_count": 7,
   "id": "5afd195c",
   "metadata": {},
   "outputs": [
    {
     "name": "stdout",
     "output_type": "stream",
     "text": [
      "Se creo el video Black Panther\n"
     ]
    }
   ],
   "source": [
    "class Video():\n",
    "    def __init__(self,titulo,duracion,lanzamiento):\n",
    "        self.titulo = titulo\n",
    "        self.duracion = duracion\n",
    "        self.lanzamiento = lanzamiento\n",
    "        print('Se creo el video', self.titulo)\n",
    "     \n",
    "    def __del__(self):\n",
    "        print('Se eliminó el video', self.titulo)\n",
    "    \n",
    "    # Redefinimos str para que muestre la información del video\n",
    "    def __str__(self):\n",
    "        return f\"{self.titulo} publicado en {self.lanzamiento} con una duración de {self.duracion} minutos\"\n",
    "        \n",
    "c=Video(\"Black Panther\", 134,2018)"
   ]
  },
  {
   "cell_type": "code",
   "execution_count": 8,
   "id": "70309a06",
   "metadata": {},
   "outputs": [
    {
     "data": {
      "text/plain": [
       "'Black Panther publicado en 2018 con una duración de 134 minutos'"
      ]
     },
     "execution_count": 8,
     "metadata": {},
     "output_type": "execute_result"
    }
   ],
   "source": [
    "str(c)"
   ]
  },
  {
   "cell_type": "code",
   "execution_count": 10,
   "id": "17e90c87",
   "metadata": {},
   "outputs": [
    {
     "ename": "TypeError",
     "evalue": "object of type 'Video' has no len()",
     "output_type": "error",
     "traceback": [
      "\u001b[1;31m---------------------------------------------------------------------------\u001b[0m",
      "\u001b[1;31mTypeError\u001b[0m                                 Traceback (most recent call last)",
      "\u001b[1;32m<ipython-input-10-0eda51689d24>\u001b[0m in \u001b[0;36m<module>\u001b[1;34m\u001b[0m\n\u001b[1;32m----> 1\u001b[1;33m \u001b[0mlen\u001b[0m\u001b[1;33m(\u001b[0m\u001b[0mc\u001b[0m\u001b[1;33m)\u001b[0m \u001b[1;31m#TypeError: object of type 'Video' has no len()\u001b[0m\u001b[1;33m\u001b[0m\u001b[1;33m\u001b[0m\u001b[0m\n\u001b[0m",
      "\u001b[1;31mTypeError\u001b[0m: object of type 'Video' has no len()"
     ]
    }
   ],
   "source": [
    "len(c) #TypeError: object of type 'Video' has no len()"
   ]
  },
  {
   "cell_type": "code",
   "execution_count": 11,
   "id": "cb2ab58f",
   "metadata": {},
   "outputs": [],
   "source": [
    "class Video():\n",
    "    def __init__(self,titulo,duracion,lanzamiento):\n",
    "        self.titulo = titulo\n",
    "        self.duracion = duracion\n",
    "        self.lanzamiento = lanzamiento\n",
    "        print('Se creo el video', self.titulo)\n",
    "    \n",
    "    def __str__(self):\n",
    "        return f\"{self.titulo} publicado en {self.lanzamiento} con una duración de {self.duracion} minutos\"\n",
    "        \n",
    "    # Redefinimos el método len() para que devuelva la duración del video\n",
    "    def __len__(self):\n",
    "        return self.duracion\n",
    "    \n",
    "    def __del__(self):\n",
    "        print('Se eliminó el video', self.titulo)"
   ]
  },
  {
   "cell_type": "code",
   "execution_count": 12,
   "id": "25d6a384",
   "metadata": {},
   "outputs": [
    {
     "name": "stdout",
     "output_type": "stream",
     "text": [
      "Se creo el video The Avengers\n",
      "Se eliminó el video The Avengers\n",
      "Se creo el video Black Panther\n",
      "Se eliminó el video Black Panther\n"
     ]
    }
   ],
   "source": [
    "v=Video('The Avengers',143,2012) #Jupiter elimina los objetos luego de ser creados\n",
    "        \n",
    "c=Video(\"Black Panther\",134,2018)"
   ]
  },
  {
   "cell_type": "code",
   "execution_count": 13,
   "id": "554c908d",
   "metadata": {},
   "outputs": [
    {
     "data": {
      "text/plain": [
       "'The Avengers publicado en 2012 con una duración de 143 minutos'"
      ]
     },
     "execution_count": 13,
     "metadata": {},
     "output_type": "execute_result"
    }
   ],
   "source": [
    "str(v)"
   ]
  },
  {
   "cell_type": "code",
   "execution_count": 14,
   "id": "8e7a366d",
   "metadata": {},
   "outputs": [
    {
     "data": {
      "text/plain": [
       "143"
      ]
     },
     "execution_count": 14,
     "metadata": {},
     "output_type": "execute_result"
    }
   ],
   "source": [
    "len(v)"
   ]
  },
  {
   "cell_type": "code",
   "execution_count": 15,
   "id": "e2194723",
   "metadata": {},
   "outputs": [
    {
     "data": {
      "text/plain": [
       "134"
      ]
     },
     "execution_count": 15,
     "metadata": {},
     "output_type": "execute_result"
    }
   ],
   "source": [
    "len(c)"
   ]
  }
 ],
 "metadata": {
  "kernelspec": {
   "display_name": "Python 3",
   "language": "python",
   "name": "python3"
  },
  "language_info": {
   "codemirror_mode": {
    "name": "ipython",
    "version": 3
   },
   "file_extension": ".py",
   "mimetype": "text/x-python",
   "name": "python",
   "nbconvert_exporter": "python",
   "pygments_lexer": "ipython3",
   "version": "3.8.8"
  }
 },
 "nbformat": 4,
 "nbformat_minor": 5
}
