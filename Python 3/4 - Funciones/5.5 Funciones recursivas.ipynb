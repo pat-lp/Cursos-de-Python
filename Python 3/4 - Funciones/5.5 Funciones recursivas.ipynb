{
 "cells": [
  {
   "cell_type": "markdown",
   "id": "c96bd330",
   "metadata": {},
   "source": [
    "<font color=Purple>\n",
    "    \n",
    "# _5.5 Funciones recursivas_ </font>\n",
    "\n",
    "### Función que se llama a sí misma."
   ]
  },
  {
   "cell_type": "code",
   "execution_count": 3,
   "id": "bd5b7877",
   "metadata": {},
   "outputs": [
    {
     "name": "stdout",
     "output_type": "stream",
     "text": [
      "4\n",
      "3\n",
      "2\n",
      "1\n",
      "0 FIN\n",
      "Fin de función 0\n",
      "Fin de función 1\n",
      "Fin de función 2\n",
      "Fin de función 3\n",
      "Fin de función 4\n"
     ]
    }
   ],
   "source": [
    "def cuentaAtras(num):\n",
    "    num -= 1\n",
    "    if num>0:\n",
    "        print(num)\n",
    "        cuentaAtras(num)\n",
    "    else:\n",
    "        print(num,\"FIN\")\n",
    "    print(\"Fin de función\", num)\n",
    "        \n",
    "cuentaAtras(5)"
   ]
  },
  {
   "cell_type": "code",
   "execution_count": 2,
   "id": "ede21233",
   "metadata": {},
   "outputs": [
    {
     "name": "stdout",
     "output_type": "stream",
     "text": [
      "Valor inicial= 5\n",
      "Valor inicial= 4\n",
      "Valor inicial= 3\n",
      "Valor inicial= 2\n",
      "Valor inicial= 1\n",
      "valor final= 1\n",
      "valor final= 2\n",
      "valor final= 6\n",
      "valor final= 24\n",
      "valor final= 120\n"
     ]
    },
    {
     "data": {
      "text/plain": [
       "120"
      ]
     },
     "execution_count": 2,
     "metadata": {},
     "output_type": "execute_result"
    }
   ],
   "source": [
    "def factorial(num):\n",
    "    print(\"Valor inicial=\", num)\n",
    "    if num > 1:\n",
    "        num = num * factorial(num -1)\n",
    "    print(\"valor final=\", num)\n",
    "    return num\n",
    "\n",
    "factorial(5)"
   ]
  }
 ],
 "metadata": {
  "kernelspec": {
   "display_name": "Python 3",
   "language": "python",
   "name": "python3"
  },
  "language_info": {
   "codemirror_mode": {
    "name": "ipython",
    "version": 3
   },
   "file_extension": ".py",
   "mimetype": "text/x-python",
   "name": "python",
   "nbconvert_exporter": "python",
   "pygments_lexer": "ipython3",
   "version": "3.8.8"
  }
 },
 "nbformat": 4,
 "nbformat_minor": 5
}
