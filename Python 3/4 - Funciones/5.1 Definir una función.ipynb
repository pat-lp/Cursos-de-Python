{
 "cells": [
  {
   "cell_type": "markdown",
   "id": "ff423cfe",
   "metadata": {},
   "source": [
    "<font color=Purple>\n",
    "    \n",
    "# _5.1 Definir una función_ </font>\n",
    "\n",
    "> + Su palabra reservada es _def_.\n",
    "> + Seguido de def se coloca el nombre de la función y entre paréntesis los parámetros de entrada\n",
    "> + Si devuelve un valor se coloca _return_.\n",
    "> + Las variables declaradas dentro de una funcón son locales a esa función, para poder acceder desde fuera éstas  \n",
    ">   se tienen que declarar como global."
   ]
  },
  {
   "cell_type": "code",
   "execution_count": 1,
   "id": "c050d6d1",
   "metadata": {},
   "outputs": [
    {
     "name": "stdout",
     "output_type": "stream",
     "text": [
      "Hola, esto se llama desde adentro de la función saludar()\n"
     ]
    }
   ],
   "source": [
    "def saludar():\n",
    "    print(\"Hola, esto se llama desde adentro de la función saludar()\")\n",
    "    \n",
    "saludar()"
   ]
  },
  {
   "cell_type": "code",
   "execution_count": 3,
   "id": "54cad265",
   "metadata": {},
   "outputs": [
    {
     "name": "stdout",
     "output_type": "stream",
     "text": [
      "5*0 = 0\n",
      "5*1 = 5\n",
      "5*2 = 10\n",
      "5*3 = 15\n",
      "5*4 = 20\n",
      "5*5 = 25\n",
      "5*6 = 30\n",
      "5*7 = 35\n",
      "5*8 = 40\n",
      "5*9 = 45\n"
     ]
    }
   ],
   "source": [
    "def tablaDel5():\n",
    "    for i in range(10):\n",
    "        print(f\"5*{i} = {5*i}\")\n",
    "        \n",
    "tablaDel5()"
   ]
  },
  {
   "cell_type": "markdown",
   "id": "c4c55694",
   "metadata": {},
   "source": [
    "### Scope: El escope ó alcance define el área de un programa en la cual puedes acceder a un nombre."
   ]
  },
  {
   "cell_type": "code",
   "execution_count": 6,
   "id": "778014fd",
   "metadata": {},
   "outputs": [
    {
     "data": {
      "text/plain": [
       "10"
      ]
     },
     "execution_count": 6,
     "metadata": {},
     "output_type": "execute_result"
    }
   ],
   "source": [
    "def prueba():\n",
    "    n=10\n",
    "    return n\n",
    "    \n",
    "prueba()"
   ]
  },
  {
   "cell_type": "code",
   "execution_count": 7,
   "id": "f5dc92f5",
   "metadata": {},
   "outputs": [
    {
     "ename": "NameError",
     "evalue": "name 'n' is not defined",
     "output_type": "error",
     "traceback": [
      "\u001b[1;31m---------------------------------------------------------------------------\u001b[0m",
      "\u001b[1;31mNameError\u001b[0m                                 Traceback (most recent call last)",
      "\u001b[1;32m<ipython-input-7-ab0680a89434>\u001b[0m in \u001b[0;36m<module>\u001b[1;34m\u001b[0m\n\u001b[1;32m----> 1\u001b[1;33m \u001b[0mn\u001b[0m\u001b[1;33m\u001b[0m\u001b[1;33m\u001b[0m\u001b[0m\n\u001b[0m",
      "\u001b[1;31mNameError\u001b[0m: name 'n' is not defined"
     ]
    }
   ],
   "source": [
    "n #No devuelve valor ya que n está definida dentro de la función prueba()"
   ]
  },
  {
   "cell_type": "code",
   "execution_count": 8,
   "id": "4457e04d",
   "metadata": {},
   "outputs": [
    {
     "name": "stdout",
     "output_type": "stream",
     "text": [
      "10\n"
     ]
    }
   ],
   "source": [
    "n1=10\n",
    "\n",
    "def prueba():\n",
    "    print(n1)\n",
    "    \n",
    "prueba()"
   ]
  },
  {
   "cell_type": "code",
   "execution_count": 9,
   "id": "fdcb1672",
   "metadata": {},
   "outputs": [
    {
     "name": "stdout",
     "output_type": "stream",
     "text": [
      "8\n"
     ]
    }
   ],
   "source": [
    "def prueba():\n",
    "    print(m)\n",
    "    \n",
    "m=8\n",
    "\n",
    "prueba()"
   ]
  },
  {
   "cell_type": "code",
   "execution_count": 10,
   "id": "7d0ecbac",
   "metadata": {},
   "outputs": [
    {
     "name": "stdout",
     "output_type": "stream",
     "text": [
      "5\n",
      "5\n",
      "10\n"
     ]
    }
   ],
   "source": [
    "def test():\n",
    "    t=5\n",
    "    print(t)\n",
    "    \n",
    "test()\n",
    "\n",
    "t=10\n",
    "\n",
    "test()\n",
    "\n",
    "print(t)"
   ]
  }
 ],
 "metadata": {
  "kernelspec": {
   "display_name": "Python 3",
   "language": "python",
   "name": "python3"
  },
  "language_info": {
   "codemirror_mode": {
    "name": "ipython",
    "version": 3
   },
   "file_extension": ".py",
   "mimetype": "text/x-python",
   "name": "python",
   "nbconvert_exporter": "python",
   "pygments_lexer": "ipython3",
   "version": "3.8.8"
  }
 },
 "nbformat": 4,
 "nbformat_minor": 5
}
