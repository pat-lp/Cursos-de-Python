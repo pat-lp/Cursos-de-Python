{
 "cells": [
  {
   "cell_type": "markdown",
   "id": "9790805e",
   "metadata": {},
   "source": [
    "<font color=Purple>\n",
    "    \n",
    "# _5.2 Retorno de valores_ </font>\n"
   ]
  },
  {
   "cell_type": "code",
   "execution_count": 1,
   "id": "86529a48",
   "metadata": {},
   "outputs": [
    {
     "data": {
      "text/plain": [
       "'Este es el texto de retorno de la funcion()'"
      ]
     },
     "execution_count": 1,
     "metadata": {},
     "output_type": "execute_result"
    }
   ],
   "source": [
    "def funcion():\n",
    "    return \"Este es el texto de retorno de la funcion()\"\n",
    "\n",
    "funcion()"
   ]
  },
  {
   "cell_type": "code",
   "execution_count": 2,
   "id": "e199d390",
   "metadata": {},
   "outputs": [
    {
     "data": {
      "text/plain": [
       "[1, 2, 3, 4, 5]"
      ]
     },
     "execution_count": 2,
     "metadata": {},
     "output_type": "execute_result"
    }
   ],
   "source": [
    "def funcion():\n",
    "    return [1,2,3,4,5]\n",
    "\n",
    "funcion()"
   ]
  },
  {
   "cell_type": "code",
   "execution_count": 3,
   "id": "1cffa3cc",
   "metadata": {},
   "outputs": [
    {
     "name": "stdout",
     "output_type": "stream",
     "text": [
      "[4, 5]\n"
     ]
    }
   ],
   "source": [
    "print(funcion()[3:]) #Slicing de la lista"
   ]
  },
  {
   "cell_type": "code",
   "execution_count": 4,
   "id": "000a069c",
   "metadata": {},
   "outputs": [],
   "source": [
    "def funcion():\n",
    "    return \"Mensaje número 1\", 1994, [1,2,3]"
   ]
  },
  {
   "cell_type": "code",
   "execution_count": 9,
   "id": "39b52084",
   "metadata": {},
   "outputs": [
    {
     "name": "stdout",
     "output_type": "stream",
     "text": [
      "Primer variable {txt} =  Mensaje número 1\n",
      "Segunda variable {año} =  1994\n",
      "Tercer variable {liston} =  [1, 2, 3]\n"
     ]
    }
   ],
   "source": [
    "#Se pueden asignar los valores a variables\n",
    "\n",
    "txt, año, liston = funcion()\n",
    "\n",
    "print(\"Primer variable {txt} = \",txt)\n",
    "print(\"Segunda variable {año} = \",año)\n",
    "print(\"Tercer variable {liston} = \",liston)"
   ]
  }
 ],
 "metadata": {
  "kernelspec": {
   "display_name": "Python 3",
   "language": "python",
   "name": "python3"
  },
  "language_info": {
   "codemirror_mode": {
    "name": "ipython",
    "version": 3
   },
   "file_extension": ".py",
   "mimetype": "text/x-python",
   "name": "python",
   "nbconvert_exporter": "python",
   "pygments_lexer": "ipython3",
   "version": "3.8.8"
  }
 },
 "nbformat": 4,
 "nbformat_minor": 5
}
