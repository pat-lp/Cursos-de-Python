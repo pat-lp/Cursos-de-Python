{
 "cells": [
  {
   "cell_type": "markdown",
   "id": "55b7c140",
   "metadata": {},
   "source": [
    "<font color=Purple>\n",
    "    \n",
    "# _5.3 Argumentos y parámetros_ </font>\n"
   ]
  },
  {
   "cell_type": "code",
   "execution_count": 1,
   "id": "e397f3e7",
   "metadata": {},
   "outputs": [
    {
     "data": {
      "text/plain": [
       "-1"
      ]
     },
     "execution_count": 1,
     "metadata": {},
     "output_type": "execute_result"
    }
   ],
   "source": [
    "def resta(a,b):\n",
    "    return a - b\n",
    "\n",
    "resta(1,2)"
   ]
  },
  {
   "cell_type": "markdown",
   "id": "0554a6c1",
   "metadata": {},
   "source": [
    "### Podemos definir valores predeterminados para nuestros paramétros"
   ]
  },
  {
   "cell_type": "code",
   "execution_count": 2,
   "id": "cd0debc7",
   "metadata": {},
   "outputs": [
    {
     "data": {
      "text/plain": [
       "1"
      ]
     },
     "execution_count": 2,
     "metadata": {},
     "output_type": "execute_result"
    }
   ],
   "source": [
    "def resta(a=None,b=None):\n",
    "    if a==None or b==None:\n",
    "        print(\"Error, enviar dos números a la función\")\n",
    "        return\n",
    "    else:\n",
    "        return(a-b)\n",
    "    \n",
    "resta(2,1)"
   ]
  },
  {
   "cell_type": "markdown",
   "id": "90c050b8",
   "metadata": {},
   "source": [
    "<font color=Purple>\n",
    "    \n",
    "# _Argumentos por valor_ </font>\n"
   ]
  },
  {
   "cell_type": "code",
   "execution_count": 3,
   "id": "129827a5",
   "metadata": {},
   "outputs": [
    {
     "data": {
      "text/plain": [
       "(20, 10)"
      ]
     },
     "execution_count": 3,
     "metadata": {},
     "output_type": "execute_result"
    }
   ],
   "source": [
    "def duplicar(numero):\n",
    "    return numero*2\n",
    "\n",
    "n=10\n",
    "\n",
    "duplicar(n),n"
   ]
  },
  {
   "cell_type": "markdown",
   "id": "3daa9c48",
   "metadata": {},
   "source": [
    "<font color=Purple>\n",
    "    \n",
    "# _Argumentos por referencia_ </font>\n"
   ]
  },
  {
   "cell_type": "code",
   "execution_count": 5,
   "id": "eb2e58d7",
   "metadata": {},
   "outputs": [
    {
     "data": {
      "text/plain": [
       "([0, 2, 4, 6, 8], [0, 2, 4, 6, 8])"
      ]
     },
     "execution_count": 5,
     "metadata": {},
     "output_type": "execute_result"
    }
   ],
   "source": [
    "def duplicar_seq(numeros):\n",
    "    for i,n in enumerate(numeros):\n",
    "        numeros[i]*=2\n",
    "    return numeros\n",
    "\n",
    "notas_a =list(range(5))\n",
    "\n",
    "notas_b = duplicar_seq(notas_a)\n",
    "\n",
    "notas_a,notas_b"
   ]
  },
  {
   "cell_type": "markdown",
   "id": "ecbb79ac",
   "metadata": {},
   "source": [
    "> PROTIP: para enviar una copia de una lista a una función se debe utilizar:\n",
    "\n",
    "> _nombre[:]_"
   ]
  },
  {
   "cell_type": "code",
   "execution_count": 7,
   "id": "f0a98288",
   "metadata": {},
   "outputs": [
    {
     "data": {
      "text/plain": [
       "([0, 1, 2, 3, 4, 5], [0, 2, 4, 6, 8, 10])"
      ]
     },
     "execution_count": 7,
     "metadata": {},
     "output_type": "execute_result"
    }
   ],
   "source": [
    "notas_c = list(range(6))\n",
    "\n",
    "notas_d = duplicar_seq(notas_c[:])\n",
    "\n",
    "notas_c, notas_d"
   ]
  }
 ],
 "metadata": {
  "kernelspec": {
   "display_name": "Python 3",
   "language": "python",
   "name": "python3"
  },
  "language_info": {
   "codemirror_mode": {
    "name": "ipython",
    "version": 3
   },
   "file_extension": ".py",
   "mimetype": "text/x-python",
   "name": "python",
   "nbconvert_exporter": "python",
   "pygments_lexer": "ipython3",
   "version": "3.8.8"
  }
 },
 "nbformat": 4,
 "nbformat_minor": 5
}
