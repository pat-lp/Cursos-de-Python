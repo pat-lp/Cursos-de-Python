{
 "cells": [
  {
   "cell_type": "markdown",
   "id": "36415d8c",
   "metadata": {},
   "source": [
    "<font color=Purple>\n",
    "    \n",
    "# _5.4 Argumentos indeterminados_ </font>\n",
    "\n",
    "### Se pasan parámetros de distintos tipos"
   ]
  },
  {
   "cell_type": "code",
   "execution_count": 1,
   "id": "a3f98642",
   "metadata": {},
   "outputs": [
    {
     "name": "stdout",
     "output_type": "stream",
     "text": [
      "(5, 'Johel Yun', [0, 1, 2, 3, 4])\n"
     ]
    }
   ],
   "source": [
    "def argumentar(*args):\n",
    "    print(args)\n",
    "    \n",
    "argumentar(5,\"Johel Yun\", [0,1,2,3,4])"
   ]
  },
  {
   "cell_type": "code",
   "execution_count": 2,
   "id": "40429210",
   "metadata": {},
   "outputs": [
    {
     "name": "stdout",
     "output_type": "stream",
     "text": [
      "1\n",
      "Victor\n",
      "[0, 1, 2, 3, 4]\n"
     ]
    }
   ],
   "source": [
    "def argumentar(*args):\n",
    "    for elemento in args:\n",
    "        print(elemento)\n",
    "        \n",
    "argumentar(1,\"Victor\",[0,1,2,3,4])"
   ]
  },
  {
   "cell_type": "code",
   "execution_count": 4,
   "id": "cdddbb26",
   "metadata": {},
   "outputs": [
    {
     "name": "stdout",
     "output_type": "stream",
     "text": [
      "{'id': 5, 'nombre': 'Felix', 'notas': [10, 10, 20, 3, 4]}\n"
     ]
    }
   ],
   "source": [
    "def nombrar(**kwargs):\n",
    "    print(kwargs)\n",
    "    \n",
    "nombrar(id=5,nombre=\"Felix\",notas=[10,10,20,3,4])"
   ]
  },
  {
   "cell_type": "code",
   "execution_count": 5,
   "id": "a7a99cf1",
   "metadata": {},
   "outputs": [
    {
     "name": "stdout",
     "output_type": "stream",
     "text": [
      "id\n",
      "nombre\n",
      "notas\n"
     ]
    }
   ],
   "source": [
    "def nombrar(**kwargs):\n",
    "    for kwarg in kwargs:\n",
    "        print(kwarg)\n",
    "    \n",
    "nombrar(id=5,nombre=\"Felix\",notas=[10,10,20,3,4])"
   ]
  },
  {
   "cell_type": "code",
   "execution_count": 6,
   "id": "7d12c821",
   "metadata": {},
   "outputs": [
    {
     "name": "stdout",
     "output_type": "stream",
     "text": [
      "id   5\n",
      "nombre   Felix\n",
      "notas   [10, 10, 20, 3, 4]\n"
     ]
    }
   ],
   "source": [
    "def nombrar(**kwargs):\n",
    "    for clave in kwargs:\n",
    "        print(clave,\" \",kwargs[clave])\n",
    "    \n",
    "nombrar(id=5,nombre=\"Felix\",notas=[10,10,20,3,4])"
   ]
  },
  {
   "cell_type": "code",
   "execution_count": 8,
   "id": "471e315c",
   "metadata": {},
   "outputs": [
    {
     "name": "stdout",
     "output_type": "stream",
     "text": [
      "Promedio indeterminado 9.4\n",
      "\n",
      "id \t 5\n",
      "nombre \t Victor\n",
      "edad \t 27\n"
     ]
    }
   ],
   "source": [
    "def super_nominacion(*args, **kwargs):\n",
    "    suma=0\n",
    "    for e in args:\n",
    "        suma+=e\n",
    "    print(\"Promedio indeterminado {}\\n\".format(suma/len(args)))\n",
    "\n",
    "    for clave in kwargs:\n",
    "        print(clave, \"\\t\", kwargs[clave])\n",
    "        \n",
    "super_nominacion(10,10,20,3,4, id=5,nombre=\"Victor\", edad=27)"
   ]
  }
 ],
 "metadata": {
  "kernelspec": {
   "display_name": "Python 3",
   "language": "python",
   "name": "python3"
  },
  "language_info": {
   "codemirror_mode": {
    "name": "ipython",
    "version": 3
   },
   "file_extension": ".py",
   "mimetype": "text/x-python",
   "name": "python",
   "nbconvert_exporter": "python",
   "pygments_lexer": "ipython3",
   "version": "3.8.8"
  }
 },
 "nbformat": 4,
 "nbformat_minor": 5
}
