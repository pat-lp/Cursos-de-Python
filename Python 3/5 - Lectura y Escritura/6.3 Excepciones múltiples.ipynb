{
 "cells": [
  {
   "cell_type": "markdown",
   "id": "c09066f0",
   "metadata": {},
   "source": [
    "<font color=purple>\n",
    "    \n",
    "# _6.3 Excepciones múltiples_ </font>\n",
    "\n",
    "### En el mismo bloque de código pueden surgir distintos tipos de errores y suele ser conveniente actuar de manera particular para cada error.\n",
    "### Se recomienda asignar la excepción a una variable, así podemos analizar el tipo de error que sucede por su identificador."
   ]
  },
  {
   "cell_type": "code",
   "execution_count": 2,
   "id": "6a292071",
   "metadata": {},
   "outputs": [
    {
     "name": "stdout",
     "output_type": "stream",
     "text": [
      "Ingrese un número: 0\n",
      "Ocurrió el siguiente error:  ZeroDivisionError\n"
     ]
    }
   ],
   "source": [
    "try:\n",
    "    num = int(input(\"Ingrese un número: \"))\n",
    "    print(\"9 / {} = {}\".format(num, 9/num))\n",
    "except Exception as e:\n",
    "    print(\"Ocurrió el siguiente error: \",type(e).__name__)  #__name__:devuelve el nombre."
   ]
  },
  {
   "cell_type": "code",
   "execution_count": 3,
   "id": "9cd0ed24",
   "metadata": {},
   "outputs": [
    {
     "name": "stdout",
     "output_type": "stream",
     "text": [
      "int\n",
      "float\n",
      "list\n",
      "tuple\n",
      "dict\n"
     ]
    }
   ],
   "source": [
    "print(type(1).__name__)\n",
    "print(type(3.14).__name__)\n",
    "print(type([]).__name__)\n",
    "print(type(()).__name__)\n",
    "print(type({}).__name__)"
   ]
  },
  {
   "cell_type": "code",
   "execution_count": 5,
   "id": "1301c76b",
   "metadata": {},
   "outputs": [
    {
     "name": "stdout",
     "output_type": "stream",
     "text": [
      "Ingrese un número: 0\n",
      "No se puede dividir 9 por cero. Intente de nuevo\n"
     ]
    }
   ],
   "source": [
    "try:\n",
    "    num = int(input(\"Ingrese un número: \"))\n",
    "    print(\"9 / {} = {}\".format(num, 9/num))\n",
    "except ValueError:\n",
    "    print(\"No se puede dividir 9 por un texto\") \n",
    "except ZeroDivisionError:\n",
    "    print(\"No se puede dividir 9 por cero. Intente de nuevo\")\n",
    "except Exception as e:\n",
    "    print(\"Ocurrió el siguiente error: \", type(e).__name__)"
   ]
  }
 ],
 "metadata": {
  "kernelspec": {
   "display_name": "Python 3",
   "language": "python",
   "name": "python3"
  },
  "language_info": {
   "codemirror_mode": {
    "name": "ipython",
    "version": 3
   },
   "file_extension": ".py",
   "mimetype": "text/x-python",
   "name": "python",
   "nbconvert_exporter": "python",
   "pygments_lexer": "ipython3",
   "version": "3.8.8"
  }
 },
 "nbformat": 4,
 "nbformat_minor": 5
}
