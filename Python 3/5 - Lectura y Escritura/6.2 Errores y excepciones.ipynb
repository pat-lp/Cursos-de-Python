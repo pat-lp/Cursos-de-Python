{
 "cells": [
  {
   "cell_type": "markdown",
   "id": "b78c3173",
   "metadata": {},
   "source": [
    "<font color=purple>\n",
    "    \n",
    "# _6.2 Errores y excepciones_ </font>\n",
    "    \n",
    "### Los errores detienen la ejecución de un programa. Existen distintos tipos de errores:"
   ]
  },
  {
   "cell_type": "markdown",
   "id": "1c36b604",
   "metadata": {},
   "source": [
    "<font color=purple>\n",
    "    \n",
    "# _Syntax Error_ </font>\n",
    "\n",
    "### Surgen cuando nos equivocamos escribiendo el código."
   ]
  },
  {
   "cell_type": "code",
   "execution_count": 1,
   "id": "131c802e",
   "metadata": {},
   "outputs": [
    {
     "ename": "SyntaxError",
     "evalue": "unexpected EOF while parsing (<ipython-input-1-303a2fcf8823>, line 1)",
     "output_type": "error",
     "traceback": [
      "\u001b[1;36m  File \u001b[1;32m\"<ipython-input-1-303a2fcf8823>\"\u001b[1;36m, line \u001b[1;32m1\u001b[0m\n\u001b[1;33m    print(\"Hola\"  #SyntaxError: unexpected EOF while parsing\u001b[0m\n\u001b[1;37m                                                            ^\u001b[0m\n\u001b[1;31mSyntaxError\u001b[0m\u001b[1;31m:\u001b[0m unexpected EOF while parsing\n"
     ]
    }
   ],
   "source": [
    "print(\"Hola\"  #SyntaxError: unexpected EOF while parsing"
   ]
  },
  {
   "cell_type": "markdown",
   "id": "6029b55f",
   "metadata": {},
   "source": [
    "<font color=purple>\n",
    "    \n",
    "# _Name Error_ </font>\n",
    "\n",
    "### Surgen cuando nos equivocamos al declarar el nombre de algún objeto."
   ]
  },
  {
   "cell_type": "code",
   "execution_count": 3,
   "id": "79360c33",
   "metadata": {},
   "outputs": [
    {
     "ename": "NameError",
     "evalue": "name 'pint' is not defined",
     "output_type": "error",
     "traceback": [
      "\u001b[1;31m---------------------------------------------------------------------------\u001b[0m",
      "\u001b[1;31mNameError\u001b[0m                                 Traceback (most recent call last)",
      "\u001b[1;32m<ipython-input-3-ee55bb5e422e>\u001b[0m in \u001b[0;36m<module>\u001b[1;34m\u001b[0m\n\u001b[1;32m----> 1\u001b[1;33m \u001b[0mpint\u001b[0m\u001b[1;33m(\u001b[0m\u001b[1;34m\"Hi\"\u001b[0m\u001b[1;33m)\u001b[0m  \u001b[1;31m#NameError: name 'pint' is not defined\u001b[0m\u001b[1;33m\u001b[0m\u001b[1;33m\u001b[0m\u001b[0m\n\u001b[0m",
      "\u001b[1;31mNameError\u001b[0m: name 'pint' is not defined"
     ]
    }
   ],
   "source": [
    "pint(\"Hi\")  #NameError: name 'pint' is not defined"
   ]
  },
  {
   "cell_type": "markdown",
   "id": "3f60a3ef",
   "metadata": {},
   "source": [
    "### Esta clase de errores son identificados por el editor antes de ser ejecutado el código pero existen errores que pasan desapercibidos."
   ]
  },
  {
   "cell_type": "code",
   "execution_count": 4,
   "id": "7a3b097c",
   "metadata": {},
   "outputs": [
    {
     "ename": "IndexError",
     "evalue": "pop from empty list",
     "output_type": "error",
     "traceback": [
      "\u001b[1;31m---------------------------------------------------------------------------\u001b[0m",
      "\u001b[1;31mIndexError\u001b[0m                                Traceback (most recent call last)",
      "\u001b[1;32m<ipython-input-4-9b3d57f289c3>\u001b[0m in \u001b[0;36m<module>\u001b[1;34m\u001b[0m\n\u001b[0;32m      1\u001b[0m \u001b[0mlis\u001b[0m\u001b[1;33m=\u001b[0m\u001b[1;33m[\u001b[0m\u001b[1;33m]\u001b[0m\u001b[1;33m\u001b[0m\u001b[1;33m\u001b[0m\u001b[0m\n\u001b[1;32m----> 2\u001b[1;33m \u001b[0mlis\u001b[0m\u001b[1;33m.\u001b[0m\u001b[0mpop\u001b[0m\u001b[1;33m(\u001b[0m\u001b[1;33m)\u001b[0m  \u001b[1;31m#IndexError: pop from empty list\u001b[0m\u001b[1;33m\u001b[0m\u001b[1;33m\u001b[0m\u001b[0m\n\u001b[0m",
      "\u001b[1;31mIndexError\u001b[0m: pop from empty list"
     ]
    }
   ],
   "source": [
    "lis=[]\n",
    "lis.pop()  #IndexError: pop from empty list"
   ]
  },
  {
   "cell_type": "code",
   "execution_count": 5,
   "id": "e5e30a3e",
   "metadata": {},
   "outputs": [
    {
     "name": "stdout",
     "output_type": "stream",
     "text": [
      "Ingresa un número: 5\n"
     ]
    },
    {
     "ename": "TypeError",
     "evalue": "unsupported operand type(s) for /: 'str' and 'str'",
     "output_type": "error",
     "traceback": [
      "\u001b[1;31m---------------------------------------------------------------------------\u001b[0m",
      "\u001b[1;31mTypeError\u001b[0m                                 Traceback (most recent call last)",
      "\u001b[1;32m<ipython-input-5-3d93422af0a6>\u001b[0m in \u001b[0;36m<module>\u001b[1;34m\u001b[0m\n\u001b[0;32m      1\u001b[0m \u001b[0mnum\u001b[0m \u001b[1;33m=\u001b[0m \u001b[0minput\u001b[0m\u001b[1;33m(\u001b[0m\u001b[1;34m\"Ingresa un número: \"\u001b[0m\u001b[1;33m)\u001b[0m \u001b[1;31m#TypeError: unsupported operand type(s) for /: 'str' and 'str'\u001b[0m\u001b[1;33m\u001b[0m\u001b[1;33m\u001b[0m\u001b[0m\n\u001b[1;32m----> 2\u001b[1;33m \u001b[1;34m\"El número {} y al dividirlo da {}\"\u001b[0m\u001b[1;33m.\u001b[0m\u001b[0mformat\u001b[0m\u001b[1;33m(\u001b[0m\u001b[0mnum\u001b[0m\u001b[1;33m,\u001b[0m \u001b[0mnum\u001b[0m\u001b[1;33m/\u001b[0m\u001b[0mnum\u001b[0m\u001b[1;33m)\u001b[0m\u001b[1;33m\u001b[0m\u001b[1;33m\u001b[0m\u001b[0m\n\u001b[0m",
      "\u001b[1;31mTypeError\u001b[0m: unsupported operand type(s) for /: 'str' and 'str'"
     ]
    }
   ],
   "source": [
    "num = input(\"Ingresa un número: \") #TypeError: unsupported operand type(s) for /: 'str' and 'str'\n",
    "\"El número {} y al dividirlo da {}\".format(num, num/num)"
   ]
  },
  {
   "cell_type": "code",
   "execution_count": 6,
   "id": "aaab6551",
   "metadata": {},
   "outputs": [
    {
     "name": "stdout",
     "output_type": "stream",
     "text": [
      "Ingresa un número: 5\n"
     ]
    },
    {
     "data": {
      "text/plain": [
       "'El número 5 y al dividirlo da 1.0'"
      ]
     },
     "execution_count": 6,
     "metadata": {},
     "output_type": "execute_result"
    }
   ],
   "source": [
    "num = int(input(\"Ingresa un número: \")) #Error en el caso de ingresar cero--->ZeroDivisionError: division by zero\n",
    "\"El número {} y al dividirlo da {}\".format(num, num/num)"
   ]
  },
  {
   "cell_type": "markdown",
   "id": "7f3db101",
   "metadata": {},
   "source": [
    "<font color=purple>\n",
    "    \n",
    "# _Excepciones_ </font>\n",
    "\n",
    "### Son bloques de código que permiten continuar la ejecución del código aún cuando se presenta algún error."
   ]
  },
  {
   "cell_type": "markdown",
   "id": "c02c88bc",
   "metadata": {},
   "source": [
    "<font color=purple>\n",
    "    \n",
    "# _Try y Except_ </font>"
   ]
  },
  {
   "cell_type": "code",
   "execution_count": 7,
   "id": "b090861a",
   "metadata": {},
   "outputs": [
    {
     "name": "stdout",
     "output_type": "stream",
     "text": [
      "Ingresa un número: 4\n",
      "El número 4 y al dividirlo da 1.0\n"
     ]
    }
   ],
   "source": [
    "while (True):\n",
    "    try:\n",
    "        num = int(input(\"Ingresa un número: \"))\n",
    "        print('El número {} y al dividirlo da {}'.format(num,num/num))\n",
    "        break\n",
    "    except:\n",
    "        print('Por favor, intente de nuevo.')"
   ]
  },
  {
   "cell_type": "markdown",
   "id": "042a46fa",
   "metadata": {},
   "source": [
    "<font color=purple>\n",
    "    \n",
    "# _Else y Finally_ </font>"
   ]
  },
  {
   "cell_type": "code",
   "execution_count": 8,
   "id": "77203d1e",
   "metadata": {},
   "outputs": [
    {
     "name": "stdout",
     "output_type": "stream",
     "text": [
      "Ingresa un núemro: 5\n",
      "El número 5 y al dividirlo da 1.0\n",
      "La ejecución fue exitosa\n"
     ]
    }
   ],
   "source": [
    "while(True): #Else se ejecuta si no hay problemas durante la ejecución del try.\n",
    "    try:\n",
    "        num = int(input(\"Ingresa un núemro: \"))\n",
    "        print(\"El número {} y al dividirlo da {}\".format(num, num/num))\n",
    "    except:\n",
    "        print(\"Por favor, intente de nuevo.\")\n",
    "    else:\n",
    "        print(\"La ejecución fue exitosa\")\n",
    "        break\n",
    "    \n",
    "    "
   ]
  },
  {
   "cell_type": "code",
   "execution_count": 9,
   "id": "213c023a",
   "metadata": {},
   "outputs": [
    {
     "name": "stdout",
     "output_type": "stream",
     "text": [
      "Ingresa un número: 0\n",
      "Por favor, intente de nuevo.\n",
      "Fin del bucle.\n",
      "Ingresa un número: 1\n",
      "La ejecución fue exitosa.\n",
      "Fin del bucle.\n"
     ]
    }
   ],
   "source": [
    "while (True):  #finally se ejecuta siempre, independiente de si se presenta un error.\n",
    "    try:\n",
    "        num = int(input(\"Ingresa un número: \"))\n",
    "        'El número {} y al dividirlo da {}'.format(num,num/num)\n",
    "    except:\n",
    "        print('Por favor, intente de nuevo.')\n",
    "    else:\n",
    "        print('La ejecución fue exitosa.')\n",
    "        break\n",
    "    finally:\n",
    "        print(\"Fin del bucle.\")"
   ]
  }
 ],
 "metadata": {
  "kernelspec": {
   "display_name": "Python 3",
   "language": "python",
   "name": "python3"
  }
 },
 "nbformat": 4,
 "nbformat_minor": 5
}
