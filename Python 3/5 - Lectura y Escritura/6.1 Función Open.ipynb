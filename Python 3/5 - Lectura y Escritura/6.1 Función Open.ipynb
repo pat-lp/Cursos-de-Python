{
 "cells": [
  {
   "cell_type": "markdown",
   "id": "ca0a95ac",
   "metadata": {},
   "source": [
    "<font color=Purple>\n",
    "    \n",
    "# _6.1 Función Open_ </font>\n",
    "\n",
    "### Permite escribir y leer un archivo externo."
   ]
  },
  {
   "cell_type": "code",
   "execution_count": 10,
   "id": "c1d53311",
   "metadata": {},
   "outputs": [],
   "source": [
    "with open(r\"C:\\Users\\Patricia\\Desktop\\output.txt\",\"w\") as f: #escribir\n",
    "    f.write(\"Escritura fichero\")\n",
    "    f.write(\"\\n Otra línea \")\n",
    "    f.write(\"Y misma línea\")\n",
    "    "
   ]
  },
  {
   "cell_type": "code",
   "execution_count": 11,
   "id": "10f0f4d8",
   "metadata": {},
   "outputs": [
    {
     "name": "stdout",
     "output_type": "stream",
     "text": [
      "Escritura fichero\n",
      " Otra línea Y misma línea\n"
     ]
    }
   ],
   "source": [
    "with open(r\"C:\\Users\\Patricia\\Desktop\\output.txt\",\"r\") as f: #leer\n",
    "    print(f.read())"
   ]
  },
  {
   "cell_type": "code",
   "execution_count": 12,
   "id": "87fca816",
   "metadata": {},
   "outputs": [
    {
     "name": "stdout",
     "output_type": "stream",
     "text": [
      "['Escritura fichero\\n', ' Otra línea Y misma línea']\n"
     ]
    }
   ],
   "source": [
    "with open(r\"C:\\Users\\Patricia\\Desktop\\output.txt\",\"r\") as f: \n",
    "    data=f.readlines() #lee línea por línea y almacena en distintas listas\n",
    "    print(data)"
   ]
  },
  {
   "cell_type": "code",
   "execution_count": 13,
   "id": "9699b2d0",
   "metadata": {},
   "outputs": [
    {
     "name": "stdout",
     "output_type": "stream",
     "text": [
      "Escritura fichero\n",
      "\n",
      " Otra línea Y misma línea\n"
     ]
    }
   ],
   "source": [
    "with open(r\"C:\\Users\\Patricia\\Desktop\\output.txt\",\"r\") as f: \n",
    "    for linea in f:\n",
    "        print(linea) #muestra por línea sin usar .read()"
   ]
  },
  {
   "cell_type": "code",
   "execution_count": 14,
   "id": "1cf9371d",
   "metadata": {},
   "outputs": [
    {
     "name": "stdout",
     "output_type": "stream",
     "text": [
      "['Escritura', 'fichero'] <class 'list'>\n",
      "['Otra', 'línea', 'Y', 'misma', 'línea'] <class 'list'>\n"
     ]
    }
   ],
   "source": [
    "with open(r\"C:\\Users\\Patricia\\Desktop\\output.txt\",\"r\") as f: #queda separado en dos listas\n",
    "    for linea in f:\n",
    "        palabras = linea.split() #split separa las palabras y las almacena en una lista\n",
    "        print(palabras, type(palabras))"
   ]
  },
  {
   "cell_type": "code",
   "execution_count": 15,
   "id": "c6e457f0",
   "metadata": {},
   "outputs": [
    {
     "name": "stdout",
     "output_type": "stream",
     "text": [
      "['Escritura', 'fichero', 'Otra', 'línea', 'Y', 'misma', 'línea'] <class 'list'>\n"
     ]
    }
   ],
   "source": [
    "palabras = list()\n",
    "\n",
    "with open(r\"C:\\Users\\Patricia\\Desktop\\output.txt\",\"r\") as f: #queda separado en una sola lista\n",
    "    for linea in f:\n",
    "        term1 = linea.split()\n",
    "        for t in term1:\n",
    "            palabras.append(t)\n",
    "            \n",
    "    print(palabras, type(palabras))"
   ]
  }
 ],
 "metadata": {
  "kernelspec": {
   "display_name": "Python 3",
   "language": "python",
   "name": "python3"
  },
  "language_info": {
   "codemirror_mode": {
    "name": "ipython",
    "version": 3
   },
   "file_extension": ".py",
   "mimetype": "text/x-python",
   "name": "python",
   "nbconvert_exporter": "python",
   "pygments_lexer": "ipython3",
   "version": "3.8.8"
  }
 },
 "nbformat": 4,
 "nbformat_minor": 5
}
