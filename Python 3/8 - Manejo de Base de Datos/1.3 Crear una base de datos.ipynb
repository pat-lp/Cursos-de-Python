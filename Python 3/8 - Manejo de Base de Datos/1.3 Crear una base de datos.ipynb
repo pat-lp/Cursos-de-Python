{
 "cells": [
  {
   "cell_type": "markdown",
   "id": "eb025d1b",
   "metadata": {},
   "source": [
    "<font color=Purple>\n",
    "    \n",
    "# **1.3 Crear una base de datos**\n",
    "\n",
    "</font>\n",
    "\n",
    "## <font color=#003d5c>SQLite</font>\n",
    "\n",
    "### `SQLite` es un gestor de bases de datos relacionales que viene integrado en la instalación de Anaconda. \n",
    "\n",
    "### Permite crear y manipular las estructuras y los datos que almacenan.\n",
    "\n",
    "### Debemos importar el módulo _sqlite3_. "
   ]
  },
  {
   "cell_type": "code",
   "execution_count": 3,
   "id": "fc064d94",
   "metadata": {},
   "outputs": [],
   "source": [
    "import sqlite3"
   ]
  },
  {
   "cell_type": "markdown",
   "id": "30a2f23f",
   "metadata": {},
   "source": [
    "### Se crea una conexión a la Base de Datos."
   ]
  },
  {
   "cell_type": "code",
   "execution_count": 2,
   "id": "973971c0",
   "metadata": {},
   "outputs": [],
   "source": [
    "conexion = sqlite3.connect(\"ejemplo.db\")"
   ]
  },
  {
   "cell_type": "markdown",
   "id": "07a778b3",
   "metadata": {},
   "source": [
    "### Para ingresar datos y crear una tabla, se crea una variable de tipo cursor.\n"
   ]
  },
  {
   "cell_type": "code",
   "execution_count": null,
   "id": "63529e78",
   "metadata": {},
   "outputs": [],
   "source": [
    "conexion = sqlite3.connect(\"ejemplo.db\")\n",
    "\n",
    "#se crea el cursor\n",
    "cursor = conexion.cursor()\n",
    "\n",
    "co"
   ]
  }
 ],
 "metadata": {
  "kernelspec": {
   "display_name": "Python 3 (ipykernel)",
   "language": "python",
   "name": "python3"
  },
  "language_info": {
   "codemirror_mode": {
    "name": "ipython",
    "version": 3
   },
   "file_extension": ".py",
   "mimetype": "text/x-python",
   "name": "python",
   "nbconvert_exporter": "python",
   "pygments_lexer": "ipython3",
   "version": "3.9.7"
  }
 },
 "nbformat": 4,
 "nbformat_minor": 5
}
