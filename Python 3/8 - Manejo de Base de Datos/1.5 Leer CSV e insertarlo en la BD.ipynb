{
 "cells": [
  {
   "cell_type": "markdown",
   "id": "4e7ac532",
   "metadata": {},
   "source": [
    "<font color=Purple>\n",
    "    \n",
    "# **1.5 Leer un CSV e insertarlo en la BD** </font>"
   ]
  },
  {
   "cell_type": "code",
   "execution_count": 12,
   "id": "0959b78f",
   "metadata": {},
   "outputs": [
    {
     "name": "stdout",
     "output_type": "stream",
     "text": [
      "('bluenote@googlemail.com', 'Artes', 'Sharon', 27)\n",
      "('parrillaexquisita@vip.com', 'Arquitectura', 'Giulia', 26)\n",
      "('lollipopbusiness@vip.com', 'Contaduría', 'Rosana', 60)\n",
      "('solfernandez@googlemail.com', 'Estadística', 'Sol', 30)\n",
      "('carlitos@googlemail.com', 'Computación', 'Carlos', 60)\n",
      "('imprentadetata@vip.com', 'Periodismo', 'Luciano', 21)\n",
      "('mail@gmail.com', 'Disenio', 'Mariana', 32)\n",
      "('parrilla@vip.com', 'Arquitectura', 'Giulia', 26)\n",
      "('lollipop@vip.com', 'Contaduría', 'Rosana', 60)\n",
      "('sol@google.com', 'Estadística', 'Sol', 30)\n",
      "('lillo@google.com', 'Informática', 'Liliana', 60)\n",
      "('imprentaya@vip.com', 'Periodismo', 'Luana', 21)\n",
      "(\"('txt1@googlemail.com'\", \" 'Artes'\", \" 'Sharon'\", ' 27)')\n",
      "(\"('txt2@vip.com'\", \" 'Arquitectura'\", \" 'Giulia'\", ' 26)')\n",
      "(\"('txt3@vip.com'\", \" 'ContadurÃ\\xada'\", \" 'Rosana'\", ' 60)')\n",
      "('txt1@googlemail.com', ' Artes', ' Sharon', 27)\n",
      "('txt2@vip.com', 'Arquitectura', 'Giulia', 26)\n",
      "('txt3@vip.com', 'ContadurÃ\\xada', 'Rosana', 60)\n"
     ]
    }
   ],
   "source": [
    "import sqlite3\n",
    "import csv\n",
    "\n",
    "conexion = sqlite3.connect(\"ejemplo.db\")\n",
    "cursor = conexion.cursor()\n",
    "\n",
    "archivo = open(r\"C:\\Users\\pat_l\\Documents\\datos_db.txt\")\n",
    "               \n",
    "filas = csv.reader(archivo)\n",
    "               \n",
    "cursor.executemany(\"INSERT INTO estudiantes VALUES (?,?,?,?)\",filas)\n",
    "\n",
    "cursor.execute(\"SELECT * FROM estudiantes\")\n",
    "               \n",
    "#print(cursor.fetchall())\n",
    "usuarios = cursor.fetchall()\n",
    "\n",
    "for u in usuarios:\n",
    "    print(u)\n",
    "\n",
    "               \n",
    "conexion.commit()\n",
    "               \n",
    "conexion.close()"
   ]
  },
  {
   "cell_type": "code",
   "execution_count": null,
   "id": "3639f871",
   "metadata": {},
   "outputs": [],
   "source": []
  },
  {
   "cell_type": "code",
   "execution_count": null,
   "id": "17b3681d",
   "metadata": {},
   "outputs": [],
   "source": []
  }
 ],
 "metadata": {
  "kernelspec": {
   "display_name": "Python 3 (ipykernel)",
   "language": "python",
   "name": "python3"
  },
  "language_info": {
   "codemirror_mode": {
    "name": "ipython",
    "version": 3
   },
   "file_extension": ".py",
   "mimetype": "text/x-python",
   "name": "python",
   "nbconvert_exporter": "python",
   "pygments_lexer": "ipython3",
   "version": "3.9.7"
  }
 },
 "nbformat": 4,
 "nbformat_minor": 5
}
