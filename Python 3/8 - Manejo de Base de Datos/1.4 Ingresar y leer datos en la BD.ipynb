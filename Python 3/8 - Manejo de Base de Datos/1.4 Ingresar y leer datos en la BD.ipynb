{
 "cells": [
  {
   "cell_type": "markdown",
   "id": "4cad2748",
   "metadata": {},
   "source": [
    "<font color=Purple>\n",
    "    \n",
    "# **1.4 Ingresar y leer datos en la BD** </font>\n",
    "\n",
    "### Para ingresar datos a una base de datos, primero debemos definir la estructura de la tabla que almacenará los datos.\n",
    "\n",
    "### `CREATE TABLE` es el comando para crear una tabla."
   ]
  },
  {
   "cell_type": "code",
   "execution_count": 10,
   "id": "ed9d0c1d",
   "metadata": {},
   "outputs": [],
   "source": [
    "import sqlite3"
   ]
  },
  {
   "cell_type": "code",
   "execution_count": 12,
   "id": "2d7a6b5b",
   "metadata": {},
   "outputs": [
    {
     "ename": "OperationalError",
     "evalue": "table estudiantes already exists",
     "output_type": "error",
     "traceback": [
      "\u001b[1;31m---------------------------------------------------------------------------\u001b[0m",
      "\u001b[1;31mOperationalError\u001b[0m                          Traceback (most recent call last)",
      "\u001b[1;32m~\\AppData\\Local\\Temp/ipykernel_8340/380553807.py\u001b[0m in \u001b[0;36m<module>\u001b[1;34m\u001b[0m\n\u001b[0;32m      3\u001b[0m \u001b[1;33m\u001b[0m\u001b[0m\n\u001b[0;32m      4\u001b[0m \u001b[1;31m# se crea una tabla con CREATE TABLE\u001b[0m\u001b[1;33m\u001b[0m\u001b[1;33m\u001b[0m\u001b[0m\n\u001b[1;32m----> 5\u001b[1;33m \u001b[0mcursor\u001b[0m\u001b[1;33m.\u001b[0m\u001b[0mexecute\u001b[0m\u001b[1;33m(\u001b[0m\u001b[1;34m'CREATE TABLE estudiantes (email VARCHAR(100), carrera VARCHAR(100), nombre VARCHAR(100), edad INTEGER)'\u001b[0m\u001b[1;33m)\u001b[0m\u001b[1;33m\u001b[0m\u001b[1;33m\u001b[0m\u001b[0m\n\u001b[0m\u001b[0;32m      6\u001b[0m \u001b[1;33m\u001b[0m\u001b[0m\n\u001b[0;32m      7\u001b[0m \u001b[0mconexion\u001b[0m\u001b[1;33m.\u001b[0m\u001b[0mclose\u001b[0m\u001b[1;33m(\u001b[0m\u001b[1;33m)\u001b[0m\u001b[1;33m\u001b[0m\u001b[1;33m\u001b[0m\u001b[0m\n",
      "\u001b[1;31mOperationalError\u001b[0m: table estudiantes already exists"
     ]
    }
   ],
   "source": [
    "conexion = sqlite3.connect(\"ejemplo.db\")\n",
    "cursor = conexion.cursor()\n",
    "\n",
    "# se crea una tabla con CREATE TABLE\n",
    "cursor.execute(\"CREATE TABLE estudiantes (email VARCHAR(100), carrera VARCHAR(100), nombre VARCHAR(100), edad INTEGER)\")\n",
    "\n",
    "conexion.close()"
   ]
  },
  {
   "cell_type": "markdown",
   "id": "dadcc486",
   "metadata": {},
   "source": [
    "### INSERT INTO se utiliza para ingresar datos."
   ]
  },
  {
   "cell_type": "code",
   "execution_count": 15,
   "id": "af209187",
   "metadata": {},
   "outputs": [],
   "source": [
    "conexion = sqlite3.connect(\"ejemplo.db\")\n",
    "cursor = conexion.cursor()\n",
    "\n",
    "#se inserta un registro en la tabla\n",
    "cursor.execute(\"INSERT INTO estudiantes VALUES ('mail@gmail.com','Disenio','Mariana',32 )\")\n",
    "\n",
    "#se guardan los datos con commit\n",
    "conexion.commit()\n",
    "\n",
    "conexion.close()"
   ]
  },
  {
   "cell_type": "markdown",
   "id": "2c393e5a",
   "metadata": {},
   "source": [
    "### SELECT * FROM se utiliza para leer el contenido de una tabla."
   ]
  },
  {
   "cell_type": "code",
   "execution_count": 16,
   "id": "4345a2e7",
   "metadata": {},
   "outputs": [
    {
     "name": "stdout",
     "output_type": "stream",
     "text": [
      "('bluenote@googlemail.com', 'Artes', 'Sharon', 27)\n"
     ]
    }
   ],
   "source": [
    "conexion = sqlite3.connect(\"ejemplo.db\")\n",
    "cursor = conexion.cursor()\n",
    "\n",
    "#seleccionamos todos los registros en la tabla.\n",
    "cursor.execute(\"SELECT * FROM estudiantes\")\n",
    "\n",
    "usuarios = cursor.fetchone()\n",
    "print(usuarios)"
   ]
  },
  {
   "cell_type": "markdown",
   "id": "e99d8bd2",
   "metadata": {},
   "source": [
    "### Ingresar y leer varios registros al mismo tiempo."
   ]
  },
  {
   "cell_type": "code",
   "execution_count": 18,
   "id": "a89a8b60",
   "metadata": {},
   "outputs": [],
   "source": [
    "conexion = sqlite3.connect(\"ejemplo.db\")\n",
    "cursor = conexion.cursor()\n",
    "\n",
    "usuarios = [\n",
    "    ('parrilla@vip.com','Arquitectura','Giulia',26),\n",
    "    ('lollipop@vip.com','Contaduría','Rosana',60),\n",
    "    ('sol@google.com','Estadística','Sol',30),\n",
    "    ('lillo@google.com','Informática','Liliana',60),\n",
    "    ('imprentaya@vip.com','Periodismo','Luana',21)\n",
    "]\n",
    "\n",
    "cursor.executemany(\"INSERT INTO estudiantes VALUES(?,?,?,?)\",usuarios)\n",
    "\n",
    "conexion.commit()\n",
    "\n",
    "conexion.close()"
   ]
  },
  {
   "cell_type": "code",
   "execution_count": 20,
   "id": "afb353d4",
   "metadata": {},
   "outputs": [
    {
     "name": "stdout",
     "output_type": "stream",
     "text": [
      "('bluenote@googlemail.com', 'Artes', 'Sharon', 27)\n",
      "('parrillaexquisita@vip.com', 'Arquitectura', 'Giulia', 26)\n",
      "('lollipopbusiness@vip.com', 'Contaduría', 'Rosana', 60)\n",
      "('solfernandez@googlemail.com', 'Estadística', 'Sol', 30)\n",
      "('carlitos@googlemail.com', 'Computación', 'Carlos', 60)\n",
      "('imprentadetata@vip.com', 'Periodismo', 'Luciano', 21)\n",
      "('mail@gmail.com', 'Disenio', 'Mariana', 32)\n",
      "('parrilla@vip.com', 'Arquitectura', 'Giulia', 26)\n",
      "('lollipop@vip.com', 'Contaduría', 'Rosana', 60)\n",
      "('sol@google.com', 'Estadística', 'Sol', 30)\n",
      "('lillo@google.com', 'Informática', 'Liliana', 60)\n",
      "('imprentaya@vip.com', 'Periodismo', 'Luana', 21)\n"
     ]
    }
   ],
   "source": [
    "conexion = sqlite3.connect(\"ejemplo.db\")\n",
    "cursor = conexion.cursor()\n",
    "\n",
    "#Recuperamos los registros de la tabla\n",
    "cursor.execute(\"SELECT * FROM estudiantes\")\n",
    "\n",
    "usuarios = cursor.fetchall()\n",
    "\n",
    "#print(usuarios)\n",
    "\n",
    "for u in usuarios:\n",
    "    print(u)\n",
    "\n",
    "conexion.close()"
   ]
  },
  {
   "cell_type": "code",
   "execution_count": null,
   "id": "ba4a4e44",
   "metadata": {},
   "outputs": [],
   "source": []
  }
 ],
 "metadata": {
  "kernelspec": {
   "display_name": "Python 3 (ipykernel)",
   "language": "python",
   "name": "python3"
  },
  "language_info": {
   "codemirror_mode": {
    "name": "ipython",
    "version": 3
   },
   "file_extension": ".py",
   "mimetype": "text/x-python",
   "name": "python",
   "nbconvert_exporter": "python",
   "pygments_lexer": "ipython3",
   "version": "3.9.7"
  }
 },
 "nbformat": 4,
 "nbformat_minor": 5
}
