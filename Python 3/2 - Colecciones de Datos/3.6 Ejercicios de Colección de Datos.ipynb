{
 "cells": [
  {
   "cell_type": "markdown",
   "id": "ca0098b0",
   "metadata": {},
   "source": [
    "<font color=Purple>\n",
    "    \n",
    "# **3.6 Ejercicios**\n",
    "</font>\n",
    "\n",
    "### 1) ¿Puedes identificar el error en el siguiente código?\n",
    "> media = num_1 + num_2 + num_3 / 3\n",
    "\n",
    "### Se pretende hacer una media muestral de 3 elementos pero no funciona correctamente"
   ]
  },
  {
   "cell_type": "code",
   "execution_count": 4,
   "id": "26f3bc44",
   "metadata": {},
   "outputs": [
    {
     "name": "stdout",
     "output_type": "stream",
     "text": [
      "Ingrese el primer número: 10.5\n",
      "Ingrese el segundo número: 10.5\n",
      "Ingrese el tercer número: 9\n",
      "La media muestral es igual a:  10.0\n"
     ]
    }
   ],
   "source": [
    "#El error es que la divisón por 3 sólo se le realiza al num_3 cuando debería abarcar toda la suma\n",
    "num_1=float(input(\"Ingrese el primer número: \"))\n",
    "num_2=float(input(\"Ingrese el segundo número: \"))\n",
    "num_3= float(input(\"Ingrese el tercer número: \"))\n",
    "media= (num_1+num_2+num_3)/3\n",
    "print(\"La media muestral es igual a: \", media)"
   ]
  },
  {
   "cell_type": "markdown",
   "id": "716b867b",
   "metadata": {},
   "source": [
    "###  2) En la siguiente matriz, el cuarto elemento siempre es la suma de los tres anteriores. Utilizando la indexación corrige las listas que no cumplan esta condición.\n",
    "> _matriz= [\n",
    "    [1,1,1,3],\n",
    "    [2,2,2,7],\n",
    "    [3,3,3,9], \n",
    "    [4,4,4,13]\n",
    "];_"
   ]
  },
  {
   "cell_type": "code",
   "execution_count": 5,
   "id": "4aeccccf",
   "metadata": {},
   "outputs": [
    {
     "name": "stdout",
     "output_type": "stream",
     "text": [
      "[[1, 1, 1, 3], [2, 2, 2, 7], [3, 3, 3, 9], [4, 4, 4, 13]]\n"
     ]
    }
   ],
   "source": [
    "matriz= [\n",
    "    [1,1,1,3],\n",
    "    [2,2,2,7],\n",
    "    [3,3,3,9], \n",
    "    [4,4,4,13]\n",
    "];\n",
    "print(matriz);"
   ]
  },
  {
   "cell_type": "code",
   "execution_count": 9,
   "id": "79a92427",
   "metadata": {},
   "outputs": [
    {
     "name": "stdout",
     "output_type": "stream",
     "text": [
      "[[1, 1, 1, 3], [2, 2, 2, 6], [3, 3, 3, 9], [4, 4, 4, 12]]\n"
     ]
    }
   ],
   "source": [
    "matriz[1][3] = matriz[1][0]+ matriz[1][1]+ matriz[1][2]\n",
    "matriz[3][3] = matriz[3][0]+ matriz[3][1]+ matriz[3][2]\n",
    "print(matriz)"
   ]
  },
  {
   "cell_type": "markdown",
   "id": "bebdc13d",
   "metadata": {},
   "source": [
    "### 3) En el desarrollo de un videojuego se te encarga configurar y balancear cada clase de personaje. Partiendo de que la estadística base es 2, debes cumplir las siguientes condiciones:\n",
    "+ El caballero tiene el doble de vida y defensa que un guerrero.\n",
    "+ El guerrero tiene el doble de ataque y alcance que un caballero.\n",
    "+ El arquero tiene la misma vida y ataque que un guerrero, pero la mitad de su defensa y el doble de su alcance.\n",
    "+ Muestra como quedan las propiedades de los tres personajes.\n",
    "\n",
    ">caballero = { 'vida':2, 'ataque':2, 'defensa': 2, 'alcance':2 }\\\n",
    ">guerrero  = { 'vida':2, 'ataque':2, 'defensa': 2, 'alcance':2 }\\\n",
    ">arquero   = { 'vida':2, 'ataque':2, 'defensa': 2, 'alcance':2 }\n"
   ]
  },
  {
   "cell_type": "code",
   "execution_count": 10,
   "id": "e0154ef9",
   "metadata": {},
   "outputs": [],
   "source": [
    "caballero = { 'vida':2, 'ataque':2, 'defensa': 2, 'alcance':2 }\n",
    "guerrero  = { 'vida':2, 'ataque':2, 'defensa': 2, 'alcance':2 }\n",
    "arquero   = { 'vida':2, 'ataque':2, 'defensa': 2, 'alcance':2 }"
   ]
  },
  {
   "cell_type": "code",
   "execution_count": 11,
   "id": "ac7d3fac",
   "metadata": {},
   "outputs": [],
   "source": [
    "guerrero['ataque']=caballero['ataque']*2\n",
    "guerrero['alcance']=caballero['alcance']*2"
   ]
  },
  {
   "cell_type": "code",
   "execution_count": 12,
   "id": "d89d9602",
   "metadata": {},
   "outputs": [],
   "source": [
    "caballero['vida']=guerrero['vida']*2\n",
    "caballero['defensa']=guerrero['defensa']*2"
   ]
  },
  {
   "cell_type": "code",
   "execution_count": 13,
   "id": "fcd30a0e",
   "metadata": {},
   "outputs": [],
   "source": [
    "arquero['ataque']=guerrero['ataque']\n",
    "arquero['defensa']=guerrero['defensa']/2\n",
    "arquero['alcance']=guerrero['alcance']*2"
   ]
  },
  {
   "cell_type": "code",
   "execution_count": 14,
   "id": "84b761df",
   "metadata": {},
   "outputs": [
    {
     "data": {
      "text/plain": [
       "({'vida': 4, 'ataque': 2, 'defensa': 4, 'alcance': 2},\n",
       " {'vida': 2, 'ataque': 4, 'defensa': 2, 'alcance': 4},\n",
       " {'vida': 2, 'ataque': 4, 'defensa': 1.0, 'alcance': 8})"
      ]
     },
     "execution_count": 14,
     "metadata": {},
     "output_type": "execute_result"
    }
   ],
   "source": [
    "caballero , guerrero, arquero"
   ]
  },
  {
   "cell_type": "code",
   "execution_count": 21,
   "id": "feb14247",
   "metadata": {},
   "outputs": [
    {
     "name": "stdout",
     "output_type": "stream",
     "text": [
      "caballero = {'vida': 4, 'ataque': 2, 'defensa': 4, 'alcance': 2}\n",
      "guerrero = {'vida': 2, 'ataque': 4, 'defensa': 2, 'alcance': 4}\n",
      "arquero = {'vida': 2, 'ataque': 4, 'defensa': 1.0, 'alcance': 8}\n"
     ]
    }
   ],
   "source": [
    "print(f\"\"\"caballero = {caballero}\n",
    "guerrero = {guerrero}\n",
    "arquero = {arquero}\"\"\")"
   ]
  }
 ],
 "metadata": {
  "kernelspec": {
   "display_name": "Python 3",
   "language": "python",
   "name": "python3"
  },
  "language_info": {
   "codemirror_mode": {
    "name": "ipython",
    "version": 3
   },
   "file_extension": ".py",
   "mimetype": "text/x-python",
   "name": "python",
   "nbconvert_exporter": "python",
   "pygments_lexer": "ipython3",
   "version": "3.8.8"
  }
 },
 "nbformat": 4,
 "nbformat_minor": 5
}
