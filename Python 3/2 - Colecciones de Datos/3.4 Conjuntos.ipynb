{
 "cells": [
  {
   "cell_type": "markdown",
   "id": "78cc2a22",
   "metadata": {},
   "source": [
    "<font color=Purple>\n",
    "    \n",
    "# _3.4 Conjuntos_ </font>\n",
    "\n",
    "### Es una colección de datos, y contienen valores únicos.\n",
    "### Se diferencia de las tuplas y listas:\n",
    "+ Cada elemento del conjunto es único.\n",
    "+ Sus elementos no están ordenados.\n",
    "+ Sus valores se colocan entre llaves{}."
   ]
  },
  {
   "cell_type": "code",
   "execution_count": 4,
   "id": "e9861d01",
   "metadata": {},
   "outputs": [
    {
     "name": "stdout",
     "output_type": "stream",
     "text": [
      "<class 'set'> {1, 2, 3}\n"
     ]
    }
   ],
   "source": [
    "conjuntoVacío = set()\n",
    "conjunto = {1,2,3}\n",
    "print(type(conjuntoVacío), conjunto)"
   ]
  },
  {
   "cell_type": "markdown",
   "id": "fbc0a148",
   "metadata": {},
   "source": [
    "<font color=Purple>\n",
    "    \n",
    "# _Métodos_ </font>\n",
    "\n",
    "### Add(): Nos permite agregar elementos al conjunto."
   ]
  },
  {
   "cell_type": "code",
   "execution_count": 5,
   "id": "99787939",
   "metadata": {},
   "outputs": [
    {
     "data": {
      "text/plain": [
       "{1, 2, 3, 4, 5, 'A', 'C', 'P'}"
      ]
     },
     "execution_count": 5,
     "metadata": {},
     "output_type": "execute_result"
    }
   ],
   "source": [
    "conjunto.add(4)\n",
    "conjunto.add(5)\n",
    "conjunto.add(\"C\")\n",
    "conjunto.add(\"A\")\n",
    "conjunto.add(\"P\")\n",
    "conjunto"
   ]
  },
  {
   "cell_type": "code",
   "execution_count": 6,
   "id": "1b9180ae",
   "metadata": {},
   "outputs": [
    {
     "name": "stdout",
     "output_type": "stream",
     "text": [
      "{1, 2, 3, 4, 5, 'C', 'A', 'P'}\n"
     ]
    }
   ],
   "source": [
    "conjunto.add(\"C\") #No agrega C porque ya está en el conjunto\n",
    "print(conjunto)"
   ]
  },
  {
   "cell_type": "markdown",
   "id": "9d880629",
   "metadata": {},
   "source": [
    "### Podemos utilizar los conjuntos para verificar pertenencia."
   ]
  },
  {
   "cell_type": "code",
   "execution_count": 7,
   "id": "177fe949",
   "metadata": {},
   "outputs": [
    {
     "data": {
      "text/plain": [
       "{'Aarón', 'Joel', 'Luis', 'Mariana', 'Víctor'}"
      ]
     },
     "execution_count": 7,
     "metadata": {},
     "output_type": "execute_result"
    }
   ],
   "source": [
    "grupo = {\"Luis\", \"Mariana\", \"Víctor\", \"Aarón\", \"Joel\"}\n",
    "grupo"
   ]
  },
  {
   "cell_type": "code",
   "execution_count": 9,
   "id": "64aa07f0",
   "metadata": {},
   "outputs": [
    {
     "data": {
      "text/plain": [
       "True"
      ]
     },
     "execution_count": 9,
     "metadata": {},
     "output_type": "execute_result"
    }
   ],
   "source": [
    "\"Víctor\" in grupo"
   ]
  },
  {
   "cell_type": "code",
   "execution_count": 10,
   "id": "81a07330",
   "metadata": {},
   "outputs": [
    {
     "data": {
      "text/plain": [
       "False"
      ]
     },
     "execution_count": 10,
     "metadata": {},
     "output_type": "execute_result"
    }
   ],
   "source": [
    "\"Joel\" not in grupo"
   ]
  },
  {
   "cell_type": "code",
   "execution_count": 11,
   "id": "7ed4c1f1",
   "metadata": {},
   "outputs": [
    {
     "data": {
      "text/plain": [
       "True"
      ]
     },
     "execution_count": 11,
     "metadata": {},
     "output_type": "execute_result"
    }
   ],
   "source": [
    "4 not in grupo"
   ]
  },
  {
   "cell_type": "code",
   "execution_count": 12,
   "id": "b554b89e",
   "metadata": {},
   "outputs": [
    {
     "data": {
      "text/plain": [
       "False"
      ]
     },
     "execution_count": 12,
     "metadata": {},
     "output_type": "execute_result"
    }
   ],
   "source": [
    "10 in grupo"
   ]
  },
  {
   "cell_type": "markdown",
   "id": "a8f70990",
   "metadata": {},
   "source": [
    "### Un conjunto elimina automáticamente los elementos duplicados"
   ]
  },
  {
   "cell_type": "code",
   "execution_count": 14,
   "id": "0437b9fe",
   "metadata": {},
   "outputs": [
    {
     "data": {
      "text/plain": [
       "{'Chevrolet', 'Ford', 'Toyota'}"
      ]
     },
     "execution_count": 14,
     "metadata": {},
     "output_type": "execute_result"
    }
   ],
   "source": [
    "grupoAutos = {\"Ford\",\"Ford\", \"Chevrolet\", \"Toyota\"}\n",
    "grupoAutos"
   ]
  },
  {
   "cell_type": "markdown",
   "id": "29cb2af7",
   "metadata": {},
   "source": [
    "### Con esta propiedad podemos pasar de conjunto a lista para eliminar valores duplicados."
   ]
  },
  {
   "cell_type": "code",
   "execution_count": 15,
   "id": "1f6f202d",
   "metadata": {},
   "outputs": [
    {
     "data": {
      "text/plain": [
       "[1, 1, 2, 2, 3, 3, 3, 4, 5, 5, 4, 5, 6]"
      ]
     },
     "execution_count": 15,
     "metadata": {},
     "output_type": "execute_result"
    }
   ],
   "source": [
    "extra = [1,1,2,2,3,3,3,4,5,5,4,5,6]\n",
    "extra"
   ]
  },
  {
   "cell_type": "code",
   "execution_count": 16,
   "id": "2385dc4f",
   "metadata": {},
   "outputs": [
    {
     "name": "stdout",
     "output_type": "stream",
     "text": [
      "{1, 2, 3, 4, 5, 6}\n"
     ]
    }
   ],
   "source": [
    "c= set(extra) #Paso la lista a conjunto para eliminar los duplicados\n",
    "print(c)"
   ]
  },
  {
   "cell_type": "code",
   "execution_count": 17,
   "id": "7a5c12e8",
   "metadata": {},
   "outputs": [
    {
     "name": "stdout",
     "output_type": "stream",
     "text": [
      "[1, 2, 3, 4, 5, 6]\n"
     ]
    }
   ],
   "source": [
    "sinDuplicados = list(c) #Paso el conjunto a lista\n",
    "print(sinDuplicados)"
   ]
  },
  {
   "cell_type": "markdown",
   "id": "3178cff9",
   "metadata": {},
   "source": [
    "### Podemos hacer la conversión en una sóla línea"
   ]
  },
  {
   "cell_type": "code",
   "execution_count": 18,
   "id": "4b3a3e49",
   "metadata": {},
   "outputs": [
    {
     "name": "stdout",
     "output_type": "stream",
     "text": [
      "[1, 2, 3, 4, 5, 6]\n"
     ]
    }
   ],
   "source": [
    "noDuplicados = list(set(extra))\n",
    "print(noDuplicados)"
   ]
  },
  {
   "cell_type": "markdown",
   "id": "6ac9e66f",
   "metadata": {},
   "source": [
    "### Cuando aplicamos la conversión a una cadena, el conjunto resultante incluye solo las letras únicas de ésta."
   ]
  },
  {
   "cell_type": "code",
   "execution_count": 22,
   "id": "a2a637d3",
   "metadata": {},
   "outputs": [
    {
     "data": {
      "text/plain": [
       "{' ',\n",
       " ',',\n",
       " 'E',\n",
       " 'J',\n",
       " 'S',\n",
       " 'a',\n",
       " 'b',\n",
       " 'd',\n",
       " 'e',\n",
       " 'f',\n",
       " 'j',\n",
       " 'l',\n",
       " 'm',\n",
       " 'o',\n",
       " 'p',\n",
       " 'u'}"
      ]
     },
     "execution_count": 22,
     "metadata": {},
     "output_type": "execute_result"
    }
   ],
   "source": [
    "cadena = \"Jefe de Jefe, Subjefe de Subjefe, Empleado de Empleado\"\n",
    "set(cadena) #Imprime todas las letras sin repetir ninguna\n"
   ]
  }
 ],
 "metadata": {
  "kernelspec": {
   "display_name": "Python 3",
   "language": "python",
   "name": "python3"
  },
  "language_info": {
   "codemirror_mode": {
    "name": "ipython",
    "version": 3
   },
   "file_extension": ".py",
   "mimetype": "text/x-python",
   "name": "python",
   "nbconvert_exporter": "python",
   "pygments_lexer": "ipython3",
   "version": "3.8.8"
  }
 },
 "nbformat": 4,
 "nbformat_minor": 5
}
