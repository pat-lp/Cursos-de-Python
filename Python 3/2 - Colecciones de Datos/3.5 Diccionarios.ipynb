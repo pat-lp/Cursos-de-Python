{
 "cells": [
  {
   "cell_type": "markdown",
   "id": "aee21db2",
   "metadata": {},
   "source": [
    "<font color=Purple>\n",
    "    \n",
    "# _3.5 Diccionarios_ </font>\n",
    "\n",
    "### Son colecciones de datos semejantes a las listas. \n",
    "### Se caracterizan por:\n",
    "+ Se define cada elemento dentro de un diccionario como una relación entre Clave:Valor.\n",
    "+ Las claves ejercen como índice de cada elemento (No son únicamente números)."
   ]
  },
  {
   "cell_type": "code",
   "execution_count": 1,
   "id": "6b4d6867",
   "metadata": {},
   "outputs": [
    {
     "name": "stdout",
     "output_type": "stream",
     "text": [
      "Diccionario colores:  {'azul': 'blue', 'negro': 'black', 'rosa': 'pink'}\n",
      "Diccionario de propiedades:  {1: 'Nombre', 2: 'Apellido', 3: 'Prefesión', 4: 'Región'}\n"
     ]
    }
   ],
   "source": [
    "colores = {'azul':'blue', 'negro':'black','rosa':'pink'}\n",
    "propiedades = {1: 'Nombre', 2: 'Apellido', 3:'Prefesión', 4:'Región'}\n",
    "\n",
    "print(\"Diccionario colores: \",colores);\n",
    "print(\"Diccionario de propiedades: \",propiedades);"
   ]
  },
  {
   "cell_type": "markdown",
   "id": "f14b3068",
   "metadata": {},
   "source": [
    "### Podemos escoger entre sus elementos utilizando las claves."
   ]
  },
  {
   "cell_type": "code",
   "execution_count": 2,
   "id": "e7a4ed55",
   "metadata": {},
   "outputs": [
    {
     "data": {
      "text/plain": [
       "{'azul': 'blue', 'negro': 'black', 'rosa': 'pink'}"
      ]
     },
     "execution_count": 2,
     "metadata": {},
     "output_type": "execute_result"
    }
   ],
   "source": [
    "colores"
   ]
  },
  {
   "cell_type": "code",
   "execution_count": 3,
   "id": "8b33d07f",
   "metadata": {},
   "outputs": [
    {
     "data": {
      "text/plain": [
       "'blue'"
      ]
     },
     "execution_count": 3,
     "metadata": {},
     "output_type": "execute_result"
    }
   ],
   "source": [
    "colores['azul']"
   ]
  },
  {
   "cell_type": "code",
   "execution_count": 4,
   "id": "4dd4655d",
   "metadata": {},
   "outputs": [
    {
     "data": {
      "text/plain": [
       "'black'"
      ]
     },
     "execution_count": 4,
     "metadata": {},
     "output_type": "execute_result"
    }
   ],
   "source": [
    "colores['negro']"
   ]
  },
  {
   "cell_type": "markdown",
   "id": "e98f9627",
   "metadata": {},
   "source": [
    "### También podemos modificar los valores de sus elementos y realizar operaciones con ellos."
   ]
  },
  {
   "cell_type": "code",
   "execution_count": 5,
   "id": "c08b2020",
   "metadata": {},
   "outputs": [
    {
     "name": "stdout",
     "output_type": "stream",
     "text": [
      "Colores:  {'azul': 'blue', 'negro': 'noir', 'rosa': 'pink'}\n"
     ]
    }
   ],
   "source": [
    "colores['negro'] = 'noir'\n",
    "\n",
    "print(\"Colores: \", colores)"
   ]
  },
  {
   "cell_type": "code",
   "execution_count": 6,
   "id": "5f96e53c",
   "metadata": {},
   "outputs": [
    {
     "name": "stdout",
     "output_type": "stream",
     "text": [
      "Colores:  {'azul': 'blue', 'negro': 'noir', 'rosa': 'pink', 'naranja': 'orange', 'blanco': 'white'}\n"
     ]
    }
   ],
   "source": [
    "#Agrego valores a colores\n",
    "colores['naranja']='orange'\n",
    "colores['blanco'] = 'white'\n",
    "print(\"Colores: \", colores)"
   ]
  },
  {
   "cell_type": "code",
   "execution_count": 7,
   "id": "aa2adaa6",
   "metadata": {},
   "outputs": [
    {
     "data": {
      "text/plain": [
       "26"
      ]
     },
     "execution_count": 7,
     "metadata": {},
     "output_type": "execute_result"
    }
   ],
   "source": [
    "edades = {'Albert':24,\n",
    "         'Joel': 24,\n",
    "         'Roque': 26,\n",
    "         'Víctor': 27\n",
    "         }\n",
    "edades['Roque'] #Imprimo la edad de un elemento del diccionario"
   ]
  },
  {
   "cell_type": "code",
   "execution_count": 8,
   "id": "f195bf0f",
   "metadata": {},
   "outputs": [
    {
     "name": "stdout",
     "output_type": "stream",
     "text": [
      "Edades:  {'Albert': 24, 'Joel': 24, 'Roque': 26, 'Víctor': 27}\n",
      "Modifico la edad de un elemento:  {'Albert': 24, 'Joel': 25, 'Roque': 26, 'Víctor': 27}\n"
     ]
    }
   ],
   "source": [
    "#Imprimo todas las edades\n",
    "print(\"Edades: \", edades)\n",
    "edades['Joel'] +=1 #Modifico un elemento del diccionario\n",
    "print(\"Modifico la edad de un elemento: \",edades)"
   ]
  },
  {
   "cell_type": "code",
   "execution_count": 9,
   "id": "0847f74b",
   "metadata": {},
   "outputs": [
    {
     "data": {
      "text/plain": [
       "51"
      ]
     },
     "execution_count": 9,
     "metadata": {},
     "output_type": "execute_result"
    }
   ],
   "source": [
    "#Sumo edades\n",
    "edades['Albert'] + edades['Víctor']"
   ]
  },
  {
   "cell_type": "code",
   "execution_count": 10,
   "id": "c82cc00f",
   "metadata": {},
   "outputs": [
    {
     "name": "stdout",
     "output_type": "stream",
     "text": [
      "Edades:  {'Albert': 24, 'Joel': 25, 'Roque': 26, 'Víctor': 27, 'Julia': 51}\n"
     ]
    }
   ],
   "source": [
    "edades['Julia']=edades['Albert'] + edades['Víctor']\n",
    "print(\"Edades: \", edades)"
   ]
  },
  {
   "cell_type": "markdown",
   "id": "0e97ef55",
   "metadata": {},
   "source": [
    "<font color=Purple>\n",
    "    \n",
    "# _Métodos_ </font>\n",
    "\n",
    "### A través de un bucle for() podemos recorrer los elementos de un diccionario. "
   ]
  },
  {
   "cell_type": "code",
   "execution_count": 11,
   "id": "bf3af76a",
   "metadata": {},
   "outputs": [
    {
     "name": "stdout",
     "output_type": "stream",
     "text": [
      "Albert\n",
      "Joel\n",
      "Roque\n",
      "Víctor\n",
      "Julia\n"
     ]
    }
   ],
   "source": [
    "for c in edades:\n",
    "    print(c)"
   ]
  },
  {
   "cell_type": "code",
   "execution_count": 12,
   "id": "0e4ef751",
   "metadata": {},
   "outputs": [
    {
     "name": "stdout",
     "output_type": "stream",
     "text": [
      "24\n",
      "25\n",
      "26\n",
      "27\n",
      "51\n"
     ]
    }
   ],
   "source": [
    "for c in edades:\n",
    "    print(edades[c])"
   ]
  },
  {
   "cell_type": "markdown",
   "id": "c2e6578e",
   "metadata": {},
   "source": [
    "### El método items() nos devuelve Clave y Valor automáticamente "
   ]
  },
  {
   "cell_type": "code",
   "execution_count": 13,
   "id": "eb96ae48",
   "metadata": {},
   "outputs": [
    {
     "name": "stdout",
     "output_type": "stream",
     "text": [
      "Albert 24\n",
      "Joel 25\n",
      "Roque 26\n",
      "Víctor 27\n",
      "Julia 51\n"
     ]
    }
   ],
   "source": [
    "for c,v in edades.items():\n",
    "    print(c,v)"
   ]
  },
  {
   "cell_type": "markdown",
   "id": "ecd03587",
   "metadata": {},
   "source": [
    "### El método del() nos permite eliminar los valores de un diccionario."
   ]
  },
  {
   "cell_type": "code",
   "execution_count": 14,
   "id": "6553cb5d",
   "metadata": {},
   "outputs": [
    {
     "name": "stdout",
     "output_type": "stream",
     "text": [
      "{'negro': 'noir', 'rosa': 'pink', 'naranja': 'orange', 'blanco': 'white'}\n"
     ]
    }
   ],
   "source": [
    "del(colores['azul']); #Elimino un elemento\n",
    "print(colores)"
   ]
  },
  {
   "cell_type": "markdown",
   "id": "270a6549",
   "metadata": {},
   "source": [
    "### Debemos combinar las listas y los diccionarios"
   ]
  },
  {
   "cell_type": "code",
   "execution_count": 15,
   "id": "54850b7a",
   "metadata": {},
   "outputs": [],
   "source": [
    "equipo = []\n",
    "personajes = {'Nombre': 'Rebeca',\n",
    "             'Trabajo': 'Publicista',\n",
    "             'Nación': 'Rusia'\n",
    "             }"
   ]
  },
  {
   "cell_type": "code",
   "execution_count": 16,
   "id": "d2b0e769",
   "metadata": {},
   "outputs": [
    {
     "name": "stdout",
     "output_type": "stream",
     "text": [
      "[{'Nombre': 'Rebeca', 'Trabajo': 'Publicista', 'Nación': 'Rusia'}]\n"
     ]
    }
   ],
   "source": [
    "equipo.append(personajes)\n",
    "print(equipo)"
   ]
  },
  {
   "cell_type": "code",
   "execution_count": 17,
   "id": "55b6328c",
   "metadata": {},
   "outputs": [
    {
     "name": "stdout",
     "output_type": "stream",
     "text": [
      "[{'Nombre': 'Rebeca', 'Trabajo': 'Publicista', 'Nación': 'Rusia'}, {'Nombre': 'Emma', 'Trabajo': 'Banquera', 'Nación': 'Francia'}]\n"
     ]
    }
   ],
   "source": [
    "personajes = {'Nombre': 'Emma',\n",
    "             'Trabajo': 'Banquera',\n",
    "             'Nación': 'Francia'\n",
    "             }\n",
    "equipo.append(personajes)\n",
    "print(equipo)"
   ]
  },
  {
   "cell_type": "code",
   "execution_count": 18,
   "id": "5f97a25a",
   "metadata": {},
   "outputs": [
    {
     "name": "stdout",
     "output_type": "stream",
     "text": [
      "[{'Nombre': 'Rebeca', 'Trabajo': 'Publicista', 'Nación': 'Rusia'}, {'Nombre': 'Emma', 'Trabajo': 'Banquera', 'Nación': 'Francia'}, {'Nombre': 'Robert', 'Trabajo': 'Contador', 'Nación': 'Inglaterra'}]\n"
     ]
    }
   ],
   "source": [
    "personajes = {'Nombre': 'Robert',\n",
    "             'Trabajo': 'Contador',\n",
    "             'Nación': 'Inglaterra'\n",
    "             }\n",
    "equipo.append(personajes)\n",
    "print(equipo)"
   ]
  },
  {
   "cell_type": "code",
   "execution_count": 19,
   "id": "8a57c157",
   "metadata": {},
   "outputs": [
    {
     "name": "stdout",
     "output_type": "stream",
     "text": [
      "Rebeca , Publicista nacido en  Rusia\n",
      "Emma , Banquera nacido en  Francia\n",
      "Robert , Contador nacido en  Inglaterra\n"
     ]
    }
   ],
   "source": [
    "for e in equipo:\n",
    "    print(e[\"Nombre\"] , \",\" , e[\"Trabajo\"], \"nacido en \", e[\"Nación\"])"
   ]
  }
 ],
 "metadata": {
  "kernelspec": {
   "display_name": "Python 3",
   "language": "python",
   "name": "python3"
  },
  "language_info": {
   "codemirror_mode": {
    "name": "ipython",
    "version": 3
   },
   "file_extension": ".py",
   "mimetype": "text/x-python",
   "name": "python",
   "nbconvert_exporter": "python",
   "pygments_lexer": "ipython3",
   "version": "3.8.8"
  }
 },
 "nbformat": 4,
 "nbformat_minor": 5
}
