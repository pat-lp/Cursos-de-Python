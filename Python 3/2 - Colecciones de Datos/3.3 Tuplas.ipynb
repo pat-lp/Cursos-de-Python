{
 "cells": [
  {
   "cell_type": "markdown",
   "id": "3df3ffe1",
   "metadata": {},
   "source": [
    "<font color=Purple>\n",
    "    \n",
    "# _3.3 Tuplas_ </font>\n",
    "\n",
    "### Es una secuencia de valores, pueden ser de cualquier tipo y también están indexados.\n",
    "### Se diferencia de una lista en que:\n",
    "+ No se puede modificar sus valores luego de crearla (Es inmutable).\n",
    "+ Los valores se colocan entre paréntesis en vez de corchetes."
   ]
  },
  {
   "cell_type": "code",
   "execution_count": 1,
   "id": "ae842a68",
   "metadata": {},
   "outputs": [
    {
     "name": "stdout",
     "output_type": "stream",
     "text": [
      "([1, 2, 3], 'a', 71.4, ('Lunes', 'Martes', 'Miércoles'))\n"
     ]
    }
   ],
   "source": [
    "tupla = (\"Lunes\", \"Martes\", \"Miércoles\")\n",
    "tuplaMulti = ([1,2,3], 'a', 71.4, tupla)\n",
    "print(tuplaMulti)"
   ]
  },
  {
   "cell_type": "code",
   "execution_count": 4,
   "id": "b0ef98cd",
   "metadata": {},
   "outputs": [
    {
     "name": "stdout",
     "output_type": "stream",
     "text": [
      "[1, 2, 3]\n",
      "('Lunes', 'Martes', 'Miércoles')\n"
     ]
    }
   ],
   "source": [
    "print(tuplaMulti[0])\n",
    "print(tuplaMulti[-1])"
   ]
  },
  {
   "cell_type": "code",
   "execution_count": 8,
   "id": "ca60f1e1",
   "metadata": {},
   "outputs": [
    {
     "ename": "TypeError",
     "evalue": "'tuple' object does not support item assignment",
     "output_type": "error",
     "traceback": [
      "\u001b[1;31m---------------------------------------------------------------------------\u001b[0m",
      "\u001b[1;31mTypeError\u001b[0m                                 Traceback (most recent call last)",
      "\u001b[1;32m<ipython-input-8-31e85cc4bea0>\u001b[0m in \u001b[0;36m<module>\u001b[1;34m\u001b[0m\n\u001b[0;32m      1\u001b[0m \u001b[1;31m#No se puede modificar los valores de la tupla\u001b[0m\u001b[1;33m\u001b[0m\u001b[1;33m\u001b[0m\u001b[1;33m\u001b[0m\u001b[0m\n\u001b[1;32m----> 2\u001b[1;33m \u001b[0mtupla\u001b[0m\u001b[1;33m[\u001b[0m\u001b[1;36m0\u001b[0m\u001b[1;33m]\u001b[0m \u001b[1;33m=\u001b[0m \u001b[1;36m10\u001b[0m\u001b[1;33m\u001b[0m\u001b[1;33m\u001b[0m\u001b[0m\n\u001b[0m\u001b[0;32m      3\u001b[0m \u001b[0mtupla\u001b[0m\u001b[1;33m\u001b[0m\u001b[1;33m\u001b[0m\u001b[0m\n",
      "\u001b[1;31mTypeError\u001b[0m: 'tuple' object does not support item assignment"
     ]
    }
   ],
   "source": [
    "#No se puede modificar los valores de la tupla\n",
    "tupla[0] = 10\n",
    "tupla"
   ]
  },
  {
   "cell_type": "code",
   "execution_count": 6,
   "id": "faae8bb0",
   "metadata": {},
   "outputs": [
    {
     "data": {
      "text/plain": [
       "[[1, 2, 3], 'a', 71.4, ('Lunes', 'Martes', 'Miércoles')]"
      ]
     },
     "execution_count": 6,
     "metadata": {},
     "output_type": "execute_result"
    }
   ],
   "source": [
    "lista = list(tuplaMulti) #Se pasa la tupla a lista\n",
    "lista"
   ]
  },
  {
   "cell_type": "code",
   "execution_count": 7,
   "id": "7b68d241",
   "metadata": {},
   "outputs": [
    {
     "data": {
      "text/plain": [
       "['hola', 'a', 71.4, ('Lunes', 'Martes', 'Miércoles')]"
      ]
     },
     "execution_count": 7,
     "metadata": {},
     "output_type": "execute_result"
    }
   ],
   "source": [
    "lista[0] = 'hola'\n",
    "lista"
   ]
  },
  {
   "cell_type": "markdown",
   "id": "af0cf295",
   "metadata": {},
   "source": [
    "<font color=Purple>\n",
    "    \n",
    "# _Métodos_ </font>\n",
    "\n",
    "### Index: Devuelve el índice de la tupla.\n",
    "### Count: Devuelve la cantidad de veces que aparece en al tupla un elemento."
   ]
  },
  {
   "cell_type": "code",
   "execution_count": 9,
   "id": "ce81292e",
   "metadata": {},
   "outputs": [
    {
     "data": {
      "text/plain": [
       "0"
      ]
     },
     "execution_count": 9,
     "metadata": {},
     "output_type": "execute_result"
    }
   ],
   "source": [
    "tupla.index('Lunes')"
   ]
  },
  {
   "cell_type": "code",
   "execution_count": 10,
   "id": "1a8d56f3",
   "metadata": {},
   "outputs": [
    {
     "ename": "ValueError",
     "evalue": "tuple.index(x): x not in tuple",
     "output_type": "error",
     "traceback": [
      "\u001b[1;31m---------------------------------------------------------------------------\u001b[0m",
      "\u001b[1;31mValueError\u001b[0m                                Traceback (most recent call last)",
      "\u001b[1;32m<ipython-input-10-8846e79cfd78>\u001b[0m in \u001b[0;36m<module>\u001b[1;34m\u001b[0m\n\u001b[1;32m----> 1\u001b[1;33m \u001b[0mtupla\u001b[0m\u001b[1;33m.\u001b[0m\u001b[0mindex\u001b[0m\u001b[1;33m(\u001b[0m\u001b[1;34m'x'\u001b[0m\u001b[1;33m)\u001b[0m\u001b[1;33m\u001b[0m\u001b[1;33m\u001b[0m\u001b[0m\n\u001b[0m",
      "\u001b[1;31mValueError\u001b[0m: tuple.index(x): x not in tuple"
     ]
    }
   ],
   "source": [
    "tupla.index('x') #Tiene que arrojar error, ya que este valor no se encuentra en la tupla."
   ]
  },
  {
   "cell_type": "code",
   "execution_count": 11,
   "id": "d0de89ad",
   "metadata": {},
   "outputs": [
    {
     "data": {
      "text/plain": [
       "1"
      ]
     },
     "execution_count": 11,
     "metadata": {},
     "output_type": "execute_result"
    }
   ],
   "source": [
    "tuplaMulti.count(71.4)"
   ]
  }
 ],
 "metadata": {
  "kernelspec": {
   "display_name": "Python 3",
   "language": "python",
   "name": "python3"
  },
  "language_info": {
   "codemirror_mode": {
    "name": "ipython",
    "version": 3
   },
   "file_extension": ".py",
   "mimetype": "text/x-python",
   "name": "python",
   "nbconvert_exporter": "python",
   "pygments_lexer": "ipython3",
   "version": "3.8.8"
  }
 },
 "nbformat": 4,
 "nbformat_minor": 5
}
