{
 "cells": [
  {
   "cell_type": "markdown",
   "id": "b55f13d0",
   "metadata": {},
   "source": [
    "<font color=Purple>\n",
    "    \n",
    "# _3.2 Listas_ </font>\n",
    "\n",
    "### Tipo de dato compuesto de varios elementos, se accede mediante un índice."
   ]
  },
  {
   "cell_type": "code",
   "execution_count": 6,
   "id": "5d05e657",
   "metadata": {},
   "outputs": [],
   "source": [
    "lista_de_compras = [\"Huevos\",\"Leche\",\"Queso\",\"Jabón\"]\n",
    "lista_con_precios = [\"Huevos\",250,\"Leche\",91,\"Queso\",120,\"Jabón\",55]"
   ]
  },
  {
   "cell_type": "code",
   "execution_count": 7,
   "id": "c6833ad9",
   "metadata": {},
   "outputs": [
    {
     "name": "stdout",
     "output_type": "stream",
     "text": [
      "La lista de compras es:  ['Huevos', 'Leche', 'Queso', 'Jabón'] Tipo de dato:  <class 'list'>\n",
      "La lista de compras con precios es:  ['Huevos', 250, 'Leche', 91, 'Queso', 120, 'Jabón', 55]\n"
     ]
    }
   ],
   "source": [
    "print(\"La lista de compras es: \", lista_de_compras, \"Tipo de dato: \", type(lista_de_compras))\n",
    "print(\"La lista de compras con precios es: \", lista_con_precios)"
   ]
  },
  {
   "cell_type": "code",
   "execution_count": 8,
   "id": "42114242",
   "metadata": {},
   "outputs": [
    {
     "name": "stdout",
     "output_type": "stream",
     "text": [
      "Los Huevos cuestan 250\n",
      "La Leche cuesta 91\n"
     ]
    }
   ],
   "source": [
    "print(f\"\"\"Los {lista_con_precios[0]} cuestan {lista_con_precios[1]}\n",
    "La {lista_con_precios[2]} cuesta {lista_con_precios[3]}\"\"\")"
   ]
  },
  {
   "cell_type": "markdown",
   "id": "8e571d5f",
   "metadata": {},
   "source": [
    "<font color= Purple>\n",
    "    \n",
    "# _Mutabilidad_ </font>\n",
    "### Mutabilidad: Se pueden modificar los valores de los elementos."
   ]
  },
  {
   "cell_type": "code",
   "execution_count": 9,
   "id": "94d9705f",
   "metadata": {},
   "outputs": [
    {
     "name": "stdout",
     "output_type": "stream",
     "text": [
      "['Huevos', 300, 'Leche', 91, 'Queso', 120, 'Jabón', 55]\n",
      "Los Huevos cuestan 300\n"
     ]
    }
   ],
   "source": [
    "lista_con_precios[1] = 300\n",
    "\n",
    "print(f'''{lista_con_precios}\n",
    "Los {lista_con_precios[0]} cuestan {lista_con_precios[1]}''')"
   ]
  },
  {
   "cell_type": "markdown",
   "id": "e2e6eb28",
   "metadata": {},
   "source": [
    "<font color= Purple>\n",
    "    \n",
    "# _Métodos de las listas_ </font>\n",
    "### Range: Sirve para inicializar una lista de números. Forma (a,b,in)\n",
    "+ a es el límite inferior de la secuencia de núemros.\n",
    "+ b es el límite superior de la secuencia de números.\n",
    "+ in es la unidad de incremento"
   ]
  },
  {
   "cell_type": "code",
   "execution_count": 15,
   "id": "6e893491",
   "metadata": {},
   "outputs": [
    {
     "data": {
      "text/plain": [
       "range(0, 20, 2)"
      ]
     },
     "execution_count": 15,
     "metadata": {},
     "output_type": "execute_result"
    }
   ],
   "source": [
    "range(0,20,2)"
   ]
  },
  {
   "cell_type": "code",
   "execution_count": 12,
   "id": "5e80ef10",
   "metadata": {},
   "outputs": [
    {
     "name": "stdout",
     "output_type": "stream",
     "text": [
      " range(0, 20, 2)\n",
      "[0, 2, 4, 6, 8, 10, 12, 14, 16, 18]\n"
     ]
    }
   ],
   "source": [
    "numeros = range(0,20,2);\n",
    "listaNumeros = list(numeros);\n",
    "\n",
    "print(f''' {numeros}\n",
    "{listaNumeros}''') #No incluye el número 20"
   ]
  },
  {
   "cell_type": "markdown",
   "id": "9f4c7047",
   "metadata": {},
   "source": [
    "### Append(): Sirve para añadir elementos a la lista, los agrega al final de la misma."
   ]
  },
  {
   "cell_type": "code",
   "execution_count": 17,
   "id": "96f33346",
   "metadata": {},
   "outputs": [
    {
     "name": "stdout",
     "output_type": "stream",
     "text": [
      "[0, 2, 4, 6, 8, 10, 12, 14, 16, 18, 4, 4]\n"
     ]
    }
   ],
   "source": [
    "listaNumeros.append(4) #Agregará 4 al final\n",
    "print(listaNumeros)"
   ]
  },
  {
   "cell_type": "markdown",
   "id": "8c723aa9",
   "metadata": {},
   "source": [
    "### Concatenar dos listas con el operador +."
   ]
  },
  {
   "cell_type": "code",
   "execution_count": 20,
   "id": "8de76f9d",
   "metadata": {},
   "outputs": [
    {
     "data": {
      "text/plain": [
       "[0,\n",
       " 2,\n",
       " 4,\n",
       " 6,\n",
       " 8,\n",
       " 10,\n",
       " 12,\n",
       " 14,\n",
       " 16,\n",
       " 18,\n",
       " 4,\n",
       " 4,\n",
       " 23,\n",
       " 66,\n",
       " 12,\n",
       " 35,\n",
       " 'hola',\n",
       " 'cómo',\n",
       " 'estás']"
      ]
     },
     "execution_count": 20,
     "metadata": {},
     "output_type": "execute_result"
    }
   ],
   "source": [
    "listaNumeros + [23, 66 ,12 , 35, 'hola', 'cómo', 'estás']"
   ]
  },
  {
   "cell_type": "code",
   "execution_count": 19,
   "id": "6b63c0db",
   "metadata": {},
   "outputs": [
    {
     "name": "stdout",
     "output_type": "stream",
     "text": [
      "[0, 2, 4, 6, 8, 10, 12, 14, 16, 18, 4, 4, 23, 66, 12, 35, 'hola', 'cómo', 'estás']\n"
     ]
    }
   ],
   "source": [
    "listaNueva = listaNumeros + [23, 66 ,12 , 35, 'hola', 'cómo', 'estás']\n",
    "print(listaNueva)"
   ]
  },
  {
   "cell_type": "markdown",
   "id": "a596e242",
   "metadata": {},
   "source": [
    "### len(): Sirve para conocer el número total de elementos."
   ]
  },
  {
   "cell_type": "code",
   "execution_count": 21,
   "id": "d48754ad",
   "metadata": {},
   "outputs": [
    {
     "data": {
      "text/plain": [
       "3"
      ]
     },
     "execution_count": 21,
     "metadata": {},
     "output_type": "execute_result"
    }
   ],
   "source": [
    "len([1,2,3])"
   ]
  },
  {
   "cell_type": "code",
   "execution_count": 22,
   "id": "e44ea055",
   "metadata": {},
   "outputs": [
    {
     "data": {
      "text/plain": [
       "19"
      ]
     },
     "execution_count": 22,
     "metadata": {},
     "output_type": "execute_result"
    }
   ],
   "source": [
    "len(listaNueva)"
   ]
  },
  {
   "cell_type": "markdown",
   "id": "332b7f1f",
   "metadata": {},
   "source": [
    "### in: Para comprobar si algún valor existe dentro de una lista, devuelve True or False."
   ]
  },
  {
   "cell_type": "code",
   "execution_count": 33,
   "id": "bc4a812e",
   "metadata": {},
   "outputs": [
    {
     "data": {
      "text/plain": [
       "True"
      ]
     },
     "execution_count": 33,
     "metadata": {},
     "output_type": "execute_result"
    }
   ],
   "source": [
    "3 in [1,2,3]"
   ]
  },
  {
   "cell_type": "code",
   "execution_count": 24,
   "id": "fbf0ec3c",
   "metadata": {},
   "outputs": [
    {
     "data": {
      "text/plain": [
       "True"
      ]
     },
     "execution_count": 24,
     "metadata": {},
     "output_type": "execute_result"
    }
   ],
   "source": [
    "'hola' in listaNueva"
   ]
  },
  {
   "cell_type": "markdown",
   "id": "4bb5c8a8",
   "metadata": {},
   "source": [
    "### Slicing: Se utiliza para actualizar varios elementos de una lista."
   ]
  },
  {
   "cell_type": "code",
   "execution_count": 25,
   "id": "51a39e45",
   "metadata": {},
   "outputs": [
    {
     "data": {
      "text/plain": [
       "['Platos',\n",
       " 14,\n",
       " 'Libros',\n",
       " 'Teclados',\n",
       " 8,\n",
       " 10,\n",
       " 12,\n",
       " 14,\n",
       " 16,\n",
       " 18,\n",
       " 4,\n",
       " 4,\n",
       " 23,\n",
       " 66,\n",
       " 12,\n",
       " 35,\n",
       " 'hola',\n",
       " 'cómo',\n",
       " 'estás']"
      ]
     },
     "execution_count": 25,
     "metadata": {},
     "output_type": "execute_result"
    }
   ],
   "source": [
    "listaNueva [:4] = [\"Platos\", 14, \"Libros\", \"Teclados\"]\n",
    "listaNueva"
   ]
  },
  {
   "cell_type": "markdown",
   "id": "7c1fff40",
   "metadata": {},
   "source": [
    "### Listas Anidadas: Se asignan listas como valores en una lista."
   ]
  },
  {
   "cell_type": "code",
   "execution_count": 26,
   "id": "4e872701",
   "metadata": {},
   "outputs": [
    {
     "data": {
      "text/plain": [
       "[[1, 2, 3], [4, 5, 6], [7, 8, 9]]"
      ]
     },
     "execution_count": 26,
     "metadata": {},
     "output_type": "execute_result"
    }
   ],
   "source": [
    "fila1 = [ 1, 2, 3]\n",
    "fila2 = [ 4, 5, 6]\n",
    "fila3 = [ 7, 8, 9]\n",
    "matriz = [ fila1 , fila2, fila3]\n",
    "matriz"
   ]
  },
  {
   "cell_type": "code",
   "execution_count": 27,
   "id": "46cfce80",
   "metadata": {},
   "outputs": [
    {
     "data": {
      "text/plain": [
       "[1, 2, 3]"
      ]
     },
     "execution_count": 27,
     "metadata": {},
     "output_type": "execute_result"
    }
   ],
   "source": [
    "matriz[0]"
   ]
  },
  {
   "cell_type": "code",
   "execution_count": 28,
   "id": "efac86c6",
   "metadata": {},
   "outputs": [
    {
     "data": {
      "text/plain": [
       "True"
      ]
     },
     "execution_count": 28,
     "metadata": {},
     "output_type": "execute_result"
    }
   ],
   "source": [
    "matriz[0] == fila1"
   ]
  },
  {
   "cell_type": "code",
   "execution_count": 29,
   "id": "82870d85",
   "metadata": {},
   "outputs": [
    {
     "data": {
      "text/plain": [
       "2"
      ]
     },
     "execution_count": 29,
     "metadata": {},
     "output_type": "execute_result"
    }
   ],
   "source": [
    "matriz[0][1]"
   ]
  },
  {
   "cell_type": "code",
   "execution_count": 30,
   "id": "7c557647",
   "metadata": {},
   "outputs": [
    {
     "data": {
      "text/plain": [
       "[5, 6]"
      ]
     },
     "execution_count": 30,
     "metadata": {},
     "output_type": "execute_result"
    }
   ],
   "source": [
    "matriz[1][1:]"
   ]
  }
 ],
 "metadata": {
  "kernelspec": {
   "display_name": "Python 3",
   "language": "python",
   "name": "python3"
  },
  "language_info": {
   "codemirror_mode": {
    "name": "ipython",
    "version": 3
   },
   "file_extension": ".py",
   "mimetype": "text/x-python",
   "name": "python",
   "nbconvert_exporter": "python",
   "pygments_lexer": "ipython3",
   "version": "3.8.8"
  }
 },
 "nbformat": 4,
 "nbformat_minor": 5
}
