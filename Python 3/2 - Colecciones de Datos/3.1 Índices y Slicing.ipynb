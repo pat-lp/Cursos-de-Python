{
 "cells": [
  {
   "cell_type": "markdown",
   "id": "0625d337",
   "metadata": {},
   "source": [
    "<font color=Purple>\n",
    "    \n",
    "# _3.1 Índices y Slicing_ </font>\n",
    "\n",
    "### Los índices son números ordenados asociados a las variables que nos permiten identificar los elementos por su posición"
   ]
  },
  {
   "cell_type": "code",
   "execution_count": 2,
   "id": "d453e754",
   "metadata": {},
   "outputs": [],
   "source": [
    "texto = 'ESTA-CADENA'"
   ]
  },
  {
   "cell_type": "markdown",
   "id": "78677849",
   "metadata": {},
   "source": [
    "### El primer elemento tiene índice 0"
   ]
  },
  {
   "cell_type": "code",
   "execution_count": 3,
   "id": "72d4b226",
   "metadata": {},
   "outputs": [
    {
     "name": "stdout",
     "output_type": "stream",
     "text": [
      "E S T A\n"
     ]
    }
   ],
   "source": [
    "print(texto[0], texto[1], texto[2], texto[3] )"
   ]
  },
  {
   "cell_type": "markdown",
   "id": "f946a224",
   "metadata": {},
   "source": [
    "### También a causa de esto, el índice del último elemento se diferencia del número total de elementos por una unidad\n",
    "> _[ texto[0], texto[1], ... texto[ n-3 ], texto[ n-2 ], texto[ n-1 ] ]_"
   ]
  },
  {
   "cell_type": "code",
   "execution_count": 4,
   "id": "c9360b10",
   "metadata": {},
   "outputs": [
    {
     "name": "stdout",
     "output_type": "stream",
     "text": [
      "C A D E N A\n"
     ]
    }
   ],
   "source": [
    "print(texto[5], texto[6], texto[7], texto[8], texto[9], texto[10])"
   ]
  },
  {
   "cell_type": "markdown",
   "id": "487983bd",
   "metadata": {},
   "source": [
    "### Para cada elemento también existe un índice inverso que realiza una numeración desde el último elemento hasta el primero, el último elemento es con -1."
   ]
  },
  {
   "cell_type": "code",
   "execution_count": 17,
   "id": "336300e0",
   "metadata": {},
   "outputs": [
    {
     "name": "stdout",
     "output_type": "stream",
     "text": [
      "C A D E N A\n"
     ]
    }
   ],
   "source": [
    "#    -6 \\ -5 \\ -4 \\ -3 \\ -2 \\ -1\n",
    "#     C    A    D    E    N    A\n",
    "#     5 /  6 /  7 /  8 /  9 /  10\n",
    "\n",
    "print(texto[-6], texto[-5], texto[-4], texto[-3], texto[-2], texto[-1])"
   ]
  },
  {
   "cell_type": "markdown",
   "id": "7ef67be4",
   "metadata": {},
   "source": [
    "<font color=Purple>   \n",
    "    \n",
    "# _Slicing_ </font>\n",
    "\n",
    "###  Slicing: seleccionar una secuencia de elementos de una variable. \n",
    "\n",
    "### La secuencia de elementos la definimos con el formato _[ a : b ]_ . Esto es un rango de valores, y el slicing va a devolvernos desde el elemento _a_ hasta el elemento previo al _b_, así que vamos a decir que b está excluido del rango.\n",
    "\n",
    "> __PROTIP__ : Cuando un rango de valores excluye alguno de sus límites (Siendo _a_ el límite inferior, y _b_ el límite superior), se dice que el rango es abierto: \\\n",
    ">--->_Abierto por la derecha_ , si excluye a _b_ \\\n",
    ">--->_Abierto por la izquierda_ , si excluye a _a_"
   ]
  },
  {
   "cell_type": "code",
   "execution_count": 18,
   "id": "f4fdec4d",
   "metadata": {},
   "outputs": [
    {
     "name": "stdout",
     "output_type": "stream",
     "text": [
      "EST\n",
      "ESTA\n"
     ]
    }
   ],
   "source": [
    "print(texto[0:3])\n",
    "print(texto[0:4])"
   ]
  },
  {
   "cell_type": "code",
   "execution_count": 19,
   "id": "10d97263",
   "metadata": {},
   "outputs": [
    {
     "name": "stdout",
     "output_type": "stream",
     "text": [
      "\n",
      "CADEN\n"
     ]
    }
   ],
   "source": [
    "print(texto[-6:0])\n",
    "print(texto[-6:-1])"
   ]
  },
  {
   "cell_type": "markdown",
   "id": "3aef0b99",
   "metadata": {},
   "source": [
    "### Podemos omitir especificar alguno de los límites:\n",
    "+ Si omitimos a [: b], empezará la secuencia desde el índice 0. (Equivale a escribir [ 0 : b ] )\n",
    "+ Si omitimos b [a :], terminará la secuencia con el último elemento. (Equivale a escribir [ a : (n-1) ] )"
   ]
  },
  {
   "cell_type": "code",
   "execution_count": 20,
   "id": "682495ac",
   "metadata": {},
   "outputs": [
    {
     "name": "stdout",
     "output_type": "stream",
     "text": [
      "Incluye al último elemento:  CADENA\n",
      "No incluye al último elemento:  CADEN\n",
      "ESTA\n",
      "A-CA\n"
     ]
    }
   ],
   "source": [
    "print('Incluye al último elemento: ',texto[-6:]) #Equivale a [-6:()]\n",
    "print('No incluye al último elemento: ', texto[-6:-1])\n",
    "print(texto[:4]) #esto equivale a [0:4]\n",
    "print(texto[3:7])"
   ]
  }
 ],
 "metadata": {
  "kernelspec": {
   "display_name": "Python 3",
   "language": "python",
   "name": "python3"
  },
  "language_info": {
   "codemirror_mode": {
    "name": "ipython",
    "version": 3
   },
   "file_extension": ".py",
   "mimetype": "text/x-python",
   "name": "python",
   "nbconvert_exporter": "python",
   "pygments_lexer": "ipython3",
   "version": "3.8.8"
  }
 },
 "nbformat": 4,
 "nbformat_minor": 5
}
