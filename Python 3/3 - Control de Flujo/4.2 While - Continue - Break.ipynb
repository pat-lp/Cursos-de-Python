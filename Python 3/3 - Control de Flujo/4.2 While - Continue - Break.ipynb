{
 "cells": [
  {
   "cell_type": "markdown",
   "id": "efed79d0",
   "metadata": {},
   "source": [
    "<font color=Purple>\n",
    "    \n",
    "# _4.2 Bucle While_ </font>\n",
    "### Bucle: secuencia que repite reiteradas veces una acción hasta que la condición asignada al bucle deja de cumplirse. Cada nueva ejecución de la secuencia se denomina iteración.\n",
    "### While(mientras): repite las operaciones dentro de un bloque mientras la condición lógica que evalúa es True(verdadera)."
   ]
  },
  {
   "cell_type": "code",
   "execution_count": 1,
   "id": "69990696",
   "metadata": {},
   "outputs": [
    {
     "name": "stdout",
     "output_type": "stream",
     "text": [
      "Contador vale:  1\n",
      "Contador vale:  2\n",
      "Contador vale:  3\n",
      "Contador vale:  4\n",
      "Contador vale:  5\n",
      "Contador vale:  6\n"
     ]
    }
   ],
   "source": [
    "contador =0\n",
    "\n",
    "while contador <= 5:\n",
    "    contador += 1\n",
    "    print(\"Contador vale: \", contador)"
   ]
  },
  {
   "cell_type": "code",
   "execution_count": 2,
   "id": "ab222d46",
   "metadata": {},
   "outputs": [
    {
     "name": "stdout",
     "output_type": "stream",
     "text": [
      "Contador vale:  0\n",
      "Contador vale:  1\n",
      "Contador vale:  2\n",
      "Contador vale:  3\n",
      "Contador vale:  4\n",
      "Contador vale:  5\n",
      "Se realizaron 6 iteraciones\n"
     ]
    }
   ],
   "source": [
    "c=0\n",
    "\n",
    "while c <=5:\n",
    "    print('Contador vale: ', c)\n",
    "    c +=1\n",
    "else:\n",
    "    print('Se realizaron {} iteraciones'.format(c))"
   ]
  },
  {
   "cell_type": "markdown",
   "id": "458d86d6",
   "metadata": {},
   "source": [
    "<font color=Purple>\n",
    "    \n",
    "# _BREAK_ </font>\n",
    "### Con este comando detenemos el bucle en cualquier momento."
   ]
  },
  {
   "cell_type": "code",
   "execution_count": 3,
   "id": "e0b23ca1",
   "metadata": {},
   "outputs": [
    {
     "name": "stdout",
     "output_type": "stream",
     "text": [
      "Rompemos el bucle cuando contador vale 4\n"
     ]
    }
   ],
   "source": [
    "contador1 =0\n",
    "\n",
    "while contador1 <= 5:\n",
    "    contador1 += 1\n",
    "    if contador1 == 4:\n",
    "        print('Rompemos el bucle cuando contador vale', contador1)\n",
    "        break\n",
    "        print('Contador vale', contador1)\n",
    "else:\n",
    "    print('Se realizaron {} iteraciones'.format(contador1))"
   ]
  },
  {
   "cell_type": "markdown",
   "id": "3874cbaf",
   "metadata": {},
   "source": [
    "<font color=Purple>\n",
    "    \n",
    "# _CONTINUE_ </font>\n",
    "### Con este comando saltamos a la siguiente iteración sin romper el bucle."
   ]
  },
  {
   "cell_type": "code",
   "execution_count": 4,
   "id": "cb1fc119",
   "metadata": {},
   "outputs": [
    {
     "name": "stdout",
     "output_type": "stream",
     "text": [
      "C vale  1\n",
      "C vale  2\n",
      "C vale  3\n",
      "Ya que C vale 4 Saltamos iteración\n",
      " y continuamos con la siguiente\n",
      "C vale  5\n",
      "C vale  6\n",
      "Se realizaron 6 iteraciones\n"
     ]
    }
   ],
   "source": [
    "c=0\n",
    "\n",
    "while c <= 5:\n",
    "    \n",
    "    c +=1\n",
    "    if c ==4:\n",
    "        print('Ya que C vale {} Saltamos iteración\\n y continuamos con la siguiente'.format(c))\n",
    "        continue\n",
    "    print('C vale ', c)\n",
    "else:\n",
    "    print('Se realizaron {} iteraciones'.format(c))\n"
   ]
  },
  {
   "cell_type": "code",
   "execution_count": 6,
   "id": "c2a11465",
   "metadata": {},
   "outputs": [
    {
     "name": "stdout",
     "output_type": "stream",
     "text": [
      "Bienvenido!\n",
      "\n",
      " Qué quieres hacer?\n",
      "    (1) Saludar\n",
      "    (2) Sumar dos números\n",
      "    (3) Salir\n",
      "    Ingrese una opción: 3\n",
      "\n",
      " Vuelva pronto!!!\n",
      "\n"
     ]
    }
   ],
   "source": [
    "#Menú de usuario\n",
    "\n",
    "print('Bienvenido!')\n",
    "\n",
    "while(True):\n",
    "    opcion = input(\"\"\"\\n Qué quieres hacer?\n",
    "    (1) Saludar\n",
    "    (2) Sumar dos números\n",
    "    (3) Salir\n",
    "    Ingrese una opción: \"\"\")\n",
    "    if opcion=='1':\n",
    "        print('\\n Muchos saludos!!\\n')\n",
    "    elif opcion == '2':\n",
    "        n1 = float(input('Ingrese el primer número: \\n'))\n",
    "        n2 = float(input('Ingrese el segundo número: \\n'))\n",
    "        print('\\n El resultado de la suma es {}'.format(n1 + n2))\n",
    "    elif opcion =='3':\n",
    "        print('\\n Vuelva pronto!!!\\n')\n",
    "        break\n",
    "    else:\n",
    "        print('\\n Opción incorrecta, ingrese nuevamente')"
   ]
  }
 ],
 "metadata": {
  "kernelspec": {
   "display_name": "Python 3",
   "language": "python",
   "name": "python3"
  },
  "language_info": {
   "codemirror_mode": {
    "name": "ipython",
    "version": 3
   },
   "file_extension": ".py",
   "mimetype": "text/x-python",
   "name": "python",
   "nbconvert_exporter": "python",
   "pygments_lexer": "ipython3",
   "version": "3.8.8"
  }
 },
 "nbformat": 4,
 "nbformat_minor": 5
}
