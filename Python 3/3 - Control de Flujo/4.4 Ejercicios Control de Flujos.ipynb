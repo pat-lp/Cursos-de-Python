{
 "cells": [
  {
   "cell_type": "markdown",
   "id": "e1e21e97",
   "metadata": {},
   "source": [
    "<font color=Purple>\n",
    "    \n",
    "# **4.4 Ejercicios**\n",
    "\n",
    "</font>\n",
    "\n",
    "### 1) Realiza un programa que lea dos números por teclado y permita elegir entre 3 opciones en un menú:\n",
    "+  Mostrar la suma de dos números\n",
    "+  Mostrar la resta de dos números (el primero menos el segundo)\n",
    "+  Mostrar la multiplicación de dos números\n",
    "### Si ingresamos una opción inválida, el programa informará que es incorrecto"
   ]
  },
  {
   "cell_type": "code",
   "execution_count": 1,
   "id": "fc25553f",
   "metadata": {},
   "outputs": [
    {
     "name": "stdout",
     "output_type": "stream",
     "text": [
      "Ingrese primer número: 10\n",
      "Ingrese segundo número: 5\n",
      "\n",
      "Menú\n",
      "1-Mostrar suma de dos números\n",
      "2-Mostrar la resta de dos números\n",
      "3-Mostrar la multiplicación de dos números\n",
      "4-Salir\n",
      "Ingrese opción: 4\n",
      "\n",
      "Hasta luego\n"
     ]
    }
   ],
   "source": [
    "numero1 = float(input(\"Ingrese primer número: \"))\n",
    "numero2 = float(input(\"Ingrese segundo número: \"))\n",
    "\n",
    "while(True):\n",
    "    print(\"\\nMenú\")\n",
    "    print(\"1-Mostrar suma de dos números\")\n",
    "    print(\"2-Mostrar la resta de dos números\")\n",
    "    print(\"3-Mostrar la multiplicación de dos números\")\n",
    "    print(\"4-Salir\")\n",
    "    opcion=int(input(\"Ingrese opción: \"))\n",
    "    \n",
    "    if opcion==1:\n",
    "        suma=numero1+numero2\n",
    "        print(f\"\\nLa suma de {numero1} y {numero2} es: \",numero1 + numero2)     \n",
    "    elif opcion ==2:\n",
    "        resta=numero1-numero2\n",
    "        print(f\"\\nLa resta de {numero1} y {numero2} es: \",numero1 - numero2)  \n",
    "    elif opcion==3:\n",
    "        multiplicacion=numero1*numero2\n",
    "        print(f\"\\nLa multiplicación de {numero1} y {numero2} es: \", numero1 * numero2)     \n",
    "    elif opcion==4:\n",
    "            print(\"\\nHasta luego\")\n",
    "            break         \n",
    "    else:\n",
    "        print(\"\\nOpción no válida, vuelva a intentar\")\n",
    "\n",
    "\n"
   ]
  },
  {
   "cell_type": "markdown",
   "id": "cae131cc",
   "metadata": {},
   "source": [
    "### 2) Dada una lista de *strings* (cadenas de caracteres), haga un programa que devuelva:\n",
    "+ El número de strings que tienen una longitud de 2 o más caracteres, y cuyo primer y último caracter son iguales.\n",
    "+ Una lista nueva con solo estos strings."
   ]
  },
  {
   "cell_type": "code",
   "execution_count": 8,
   "id": "7a96bd8f",
   "metadata": {},
   "outputs": [
    {
     "name": "stdout",
     "output_type": "stream",
     "text": [
      "Cantidad de strings con longitud mayor ó igual a dos es 3 y la lista es:  ['salidas', 'nadan', 'narran']\n"
     ]
    }
   ],
   "source": [
    "listaStrings = [\"Hola\", \"Mundo\",\"Curso\",\"Python\",\"salidas\",\"nadan\",\"narran\"]\n",
    "listaStrings2 = []\n",
    "c = 0\n",
    "\n",
    "for indice in listaStrings:\n",
    "    if(len(indice) >= 2 and (indice[:1] == indice[-1:])):\n",
    "        c += 1\n",
    "        listaStrings2.append(indice)\n",
    "\n",
    "print(f\"Cantidad de strings con longitud mayor ó igual a dos es {c} y la lista es: \",listaStrings2)"
   ]
  },
  {
   "cell_type": "markdown",
   "id": "9b47e27e",
   "metadata": {},
   "source": [
    "### 3) Realiza un programa que pida un número impar. Si el usuario no ingresa un número impar, debe repetirse el proceso hasta que ingrese un número válido"
   ]
  },
  {
   "cell_type": "code",
   "execution_count": null,
   "id": "1e13e0f1",
   "metadata": {},
   "outputs": [],
   "source": [
    "\n",
    "while(True):\n",
    "    numero = float(input(\"Ingrese un número impar: \"))\n",
    "    if numero%2 != 0:\n",
    "        print(\"El número impar ingresado fué: \", numero)\n",
    "        break\n",
    "    else:\n",
    "        print(\"Error\")"
   ]
  },
  {
   "cell_type": "markdown",
   "id": "b71b2b19",
   "metadata": {},
   "source": [
    "### 4) Realiza un programa que sume todos los números enteros pares desde el 0 hasta el 100\n",
    "\n",
    "<font color=#003d5c>\n",
    "    \n",
    "> PROTIP: utilizar funciones sum() y range(). El tercer parámetro de range(inicio, fin, salto) indica el incremento entre los valores del rango\n",
    "    \n",
    "</font> "
   ]
  },
  {
   "cell_type": "code",
   "execution_count": 11,
   "id": "da7d1308",
   "metadata": {},
   "outputs": [
    {
     "name": "stdout",
     "output_type": "stream",
     "text": [
      "la  suma de todos los numeros pares es  2550\n",
      "2550\n"
     ]
    }
   ],
   "source": [
    "numerosPares = range(0,100+1,2)\n",
    "\n",
    "for i in numerosPares:\n",
    "    suma= sum(numerosPares)\n",
    "    \n",
    "print(\"la  suma de todos los numeros pares es \", suma)\n",
    "\n",
    "#Otras maneras\n",
    "\n",
    "print(sum(list(range(0,101,2))))\n",
    "\n",
    "#Con while\n",
    "\n",
    "num=0\n",
    "suma=0\n",
    "\n",
    "while num <= 100:\n",
    "    if (num % 2 == 0):   ## Condición que se cumple\n",
    "        suma += num\n",
    "    num += 1\n",
    "    \n",
    "print(suma)"
   ]
  },
  {
   "cell_type": "markdown",
   "id": "1bf850d3",
   "metadata": {},
   "source": [
    "### 5) Realiza un programa que pregunte al usuario cuántos números quiere introducir. Luego debe leer todos los números y obtener la media aritmética:"
   ]
  },
  {
   "cell_type": "code",
   "execution_count": null,
   "id": "e4ec19ac",
   "metadata": {},
   "outputs": [
    {
     "name": "stdout",
     "output_type": "stream",
     "text": [
      "Ingrese cantidad de números: 3\n",
      "Ingrese número: 2\n",
      "Ingrese número: 3\n",
      "Ingrese número: 5\n",
      "La media aritmetica es igual a 10.0/3:  3.3333333333333335\n"
     ]
    }
   ],
   "source": [
    "cantidad = int(input(\"Ingrese cantidad de números: \"))\n",
    "sumaNumeros = 0\n",
    "suma = 0\n",
    "i=0\n",
    "while i< cantidad:\n",
    "    n = float(input(\"Ingrese número: \"))\n",
    "    sumaNumeros += n\n",
    "    i+=1\n",
    "print(f\"La media aritmetica es igual a {sumaNumeros}/{cantidad}= \",sumaNumeros/cantidad)    \n",
    "    \n",
    "for indice in range(cantidad):\n",
    "     suma += float(input(\"\\n Introduce un número: \"))\n",
    "    \n",
    "\n",
    "print(f\"\\n Se han introducido {cantidad} números que en total suman {suma}.\\n La media aritmética es {suma/cantidad}.\")"
   ]
  },
  {
   "cell_type": "markdown",
   "id": "e54e7a38",
   "metadata": {},
   "source": [
    "### 6) Realiza un programa que pida al usuario un número entero entre el 0 al 9, y que mientras el número no sea correcto se repite el proceso. Luego debe comprobar si el número se encuentra en la lista de números [0,1,3,5,8] y notificarlo:\n",
    "\n",
    "<font color=#003d5c>\n",
    "    \n",
    "> PROTIP: El comando _(**i IN lista**)_ evalúa la proposición lógica de si existe el elemento _i_ dentro del objeto _lista_\n",
    "    \n",
    "</font> "
   ]
  },
  {
   "cell_type": "code",
   "execution_count": null,
   "id": "e2afa4fe",
   "metadata": {},
   "outputs": [],
   "source": [
    "lista = [0,1,3,5,8]\n",
    "\n",
    "while(True):\n",
    "    \n",
    "    numeroEntero = int(input(\"Ingresar número entre 0 y 9: \"))\n",
    "    \n",
    "    if numeroEntero >= 0 and numeroEntero <= 9:\n",
    "        print(\"Número correcto ingresado, es igual a: \", numeroEntero)\n",
    "        break\n",
    "    else:\n",
    "        print(\"Error, número incorrecto\")\n",
    "        \n",
    "\n",
    "if numeroEntero in  lista:\n",
    "    print(f\"El número ingresado {numeroEntero} se encuentra en la lista 0,1,3,5,8\")\n",
    "else:\n",
    "    print(f\"El número ingresado: {numeroEntero} NO se encuentra en la lista 0,1,3,5,8\")\n",
    "        "
   ]
  },
  {
   "cell_type": "markdown",
   "id": "7207738c",
   "metadata": {},
   "source": [
    "### 7) Utilizando la función range() y la conversión a listas, genera las siguientes listas dinámicamente:\n",
    "\n",
    "+ ### Todos los números del 0 al 10 [0, 1, ..., 10]\n",
    "+ ### Todos los números del -10 al 0 [-10, -9, -8, ..., 0]\n",
    "+ ### Todos los números pares entre el 0 al 20 [0, 2, 4, ..., 20]\n",
    "+ ### Todos los números impares entre el -20 al 0 [-19, -17, -15, ..., -1]\n",
    "+ ### Todos los números múltiplos de 5 del 0 al 50 [0, 5, 10, 15, ..., 50]"
   ]
  },
  {
   "cell_type": "code",
   "execution_count": null,
   "id": "2f3efdd5",
   "metadata": {},
   "outputs": [],
   "source": [
    "# a:\n",
    "print (\"Números del 0 al 10 \", list(range(0,11)))\n",
    "\n",
    "# b:\n",
    "print (\"\\n\", list(range(-10,1)))\n",
    "\n",
    "# c:\n",
    "print (\"\\n\", list(range(0,21,2)))\n",
    "\n",
    "# d: \n",
    "print (\"\\n\", list(range(-19,0,2)))\n",
    "\n",
    "# e:\n",
    "print (\"\\n\", list(range(0,51,5)))"
   ]
  },
  {
   "cell_type": "markdown",
   "id": "14c00350",
   "metadata": {},
   "source": [
    "### 8) Dadas dos listas, se debe generar una tercera lista con todos los elementos que se repitan en ellas, pero no debe repetir ningún elemento en la nueva lista."
   ]
  },
  {
   "cell_type": "code",
   "execution_count": 6,
   "id": "728618e7",
   "metadata": {},
   "outputs": [
    {
     "name": "stdout",
     "output_type": "stream",
     "text": [
      "La cantidad de elementos repetidos son 2 y los elementos que se repiten en las dos listas son:  [0, 5]\n"
     ]
    }
   ],
   "source": [
    "lista1 = [0,1,2,3,3,5]\n",
    "lista2 = [0,5,7,8,9,0]\n",
    "lista3 = []\n",
    "cont = 0\n",
    "\n",
    "for elemento in lista1:\n",
    "        if (elemento in lista2) and (elemento not in lista3):\n",
    "            lista3.append(elemento)\n",
    "            cont+=1\n",
    "        \n",
    "print(f\"La cantidad de elementos repetidos son {cont} y los elementos que se repiten en las dos listas son: \",lista3)"
   ]
  }
 ],
 "metadata": {
  "kernelspec": {
   "display_name": "Python 3",
   "language": "python",
   "name": "python3"
  },
  "language_info": {
   "codemirror_mode": {
    "name": "ipython",
    "version": 3
   },
   "file_extension": ".py",
   "mimetype": "text/x-python",
   "name": "python",
   "nbconvert_exporter": "python",
   "pygments_lexer": "ipython3",
   "version": "3.8.8"
  }
 },
 "nbformat": 4,
 "nbformat_minor": 5
}
