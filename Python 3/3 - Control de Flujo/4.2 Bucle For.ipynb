{
 "cells": [
  {
   "cell_type": "markdown",
   "id": "cbba709c",
   "metadata": {},
   "source": [
    "<font color=Purple>\n",
    "    \n",
    "# _4.2 Bucle For_ </font>\n",
    "### Es un bucle que se repite un número predeterminado de veces."
   ]
  },
  {
   "cell_type": "code",
   "execution_count": 1,
   "id": "e688bbf0",
   "metadata": {},
   "outputs": [
    {
     "name": "stdout",
     "output_type": "stream",
     "text": [
      "1\n",
      "2\n",
      "3\n",
      "4\n",
      "5\n",
      "6\n",
      "7\n",
      "8\n",
      "9\n",
      "10\n"
     ]
    }
   ],
   "source": [
    "numeros = [1,2,3,4,5,6,7,8,9,10]\n",
    "indice = 0\n",
    "\n",
    "while (indice < len(numeros)):\n",
    "    print(numeros [indice])\n",
    "    indice +=1"
   ]
  },
  {
   "cell_type": "code",
   "execution_count": 4,
   "id": "a2c6df91",
   "metadata": {},
   "outputs": [
    {
     "name": "stdout",
     "output_type": "stream",
     "text": [
      "1\n",
      "2\n",
      "3\n",
      "4\n",
      "5\n",
      "6\n",
      "7\n",
      "8\n",
      "9\n",
      "10\n"
     ]
    }
   ],
   "source": [
    "for i in numeros:\n",
    "    print(i)"
   ]
  },
  {
   "cell_type": "markdown",
   "id": "80ab3d56",
   "metadata": {},
   "source": [
    "### Ya que las listas son mutables prodemos modificar su contenido en un bucle."
   ]
  },
  {
   "cell_type": "code",
   "execution_count": 5,
   "id": "624adefc",
   "metadata": {},
   "outputs": [
    {
     "data": {
      "text/plain": [
       "[0, 10, 20, 30, 40, 50, 60, 70, 80, 90, 100]"
      ]
     },
     "execution_count": 5,
     "metadata": {},
     "output_type": "execute_result"
    }
   ],
   "source": [
    "indice = 0\n",
    "numeros = [0,1,2,3,4,5,6,7,8,9,10]\n",
    "\n",
    "for numero in numeros:\n",
    "    numeros[indice]*=10\n",
    "    indice +=1\n",
    "    \n",
    "numeros"
   ]
  },
  {
   "cell_type": "markdown",
   "id": "1c10dab0",
   "metadata": {},
   "source": [
    "### Podemos recorrer una cadena de texto."
   ]
  },
  {
   "cell_type": "code",
   "execution_count": 6,
   "id": "d14fc1aa",
   "metadata": {},
   "outputs": [
    {
     "name": "stdout",
     "output_type": "stream",
     "text": [
      "H\n",
      "o\n",
      "l\n",
      "a\n",
      ",\n",
      " \n",
      "m\n",
      "i\n",
      " \n",
      "g\n",
      "e\n",
      "n\n",
      "t\n",
      "e\n"
     ]
    }
   ],
   "source": [
    "cad = \"Hola, mi gente\"\n",
    "\n",
    "for caracter in cad:\n",
    "    print(caracter)"
   ]
  },
  {
   "cell_type": "code",
   "execution_count": 7,
   "id": "de5e5140",
   "metadata": {},
   "outputs": [
    {
     "name": "stdout",
     "output_type": "stream",
     "text": [
      "Hola, mi gente \n",
      "  **************\n"
     ]
    }
   ],
   "source": [
    "cad_2 = \" \"\n",
    "\n",
    "for caracter in cad:\n",
    "    cad_2 += \"*\"\n",
    "print(cad, \"\\n\", cad_2)"
   ]
  },
  {
   "cell_type": "code",
   "execution_count": 8,
   "id": "5230c04c",
   "metadata": {},
   "outputs": [
    {
     "data": {
      "text/plain": [
       "' HHHooolllaaa,,,   mmmiii   gggeeennnttteee'"
      ]
     },
     "execution_count": 8,
     "metadata": {},
     "output_type": "execute_result"
    }
   ],
   "source": [
    "cad_3 = \" \"\n",
    "\n",
    "for caracter in cad:\n",
    "    cad_3 += caracter *3\n",
    "cad_3"
   ]
  },
  {
   "cell_type": "markdown",
   "id": "07183b4c",
   "metadata": {},
   "source": [
    "### PROTIP\n",
    "### range(): genera la secuencia de números enteros definida por el usuario."
   ]
  },
  {
   "cell_type": "code",
   "execution_count": 9,
   "id": "62ad8c41",
   "metadata": {},
   "outputs": [
    {
     "data": {
      "text/plain": [
       "range(0, 10, 2)"
      ]
     },
     "execution_count": 9,
     "metadata": {},
     "output_type": "execute_result"
    }
   ],
   "source": [
    "range(0,10,2)"
   ]
  },
  {
   "cell_type": "code",
   "execution_count": 10,
   "id": "637942f3",
   "metadata": {},
   "outputs": [
    {
     "name": "stdout",
     "output_type": "stream",
     "text": [
      "range(0, 10) <class 'range'>\n"
     ]
    }
   ],
   "source": [
    "print(range(10), type(range(10)))"
   ]
  },
  {
   "cell_type": "code",
   "execution_count": 11,
   "id": "b7160578",
   "metadata": {},
   "outputs": [
    {
     "name": "stdout",
     "output_type": "stream",
     "text": [
      "0\n",
      "1\n",
      "2\n",
      "3\n",
      "4\n",
      "5\n",
      "6\n",
      "7\n",
      "8\n",
      "9\n"
     ]
    }
   ],
   "source": [
    "for i in range(10):\n",
    "    print(i) #no incluye el 10"
   ]
  },
  {
   "cell_type": "code",
   "execution_count": 12,
   "id": "388ae935",
   "metadata": {},
   "outputs": [
    {
     "name": "stdout",
     "output_type": "stream",
     "text": [
      "5\n",
      "8\n",
      "11\n",
      "14\n",
      "17\n",
      "20\n",
      "23\n",
      "26\n",
      "29\n"
     ]
    }
   ],
   "source": [
    "for i in range(5,30,3):\n",
    "    print(i) #no incluye el 30"
   ]
  },
  {
   "cell_type": "code",
   "execution_count": 13,
   "id": "2810916f",
   "metadata": {},
   "outputs": [
    {
     "name": "stdout",
     "output_type": "stream",
     "text": [
      "[0, 1, 2, 3, 4]\n",
      "0\n",
      "[0, 1, 2, 3, 4]\n",
      "1\n",
      "[0, 1, 2, 3, 4]\n",
      "2\n",
      "[0, 1, 2, 3, 4]\n",
      "3\n",
      "[0, 1, 2, 3, 4]\n",
      "4\n"
     ]
    }
   ],
   "source": [
    "lista = list(range(5))\n",
    "\n",
    "for i in lista:\n",
    "    print(lista)\n",
    "    print(i)"
   ]
  }
 ],
 "metadata": {
  "kernelspec": {
   "display_name": "Python 3",
   "language": "python",
   "name": "python3"
  },
  "language_info": {
   "codemirror_mode": {
    "name": "ipython",
    "version": 3
   },
   "file_extension": ".py",
   "mimetype": "text/x-python",
   "name": "python",
   "nbconvert_exporter": "python",
   "pygments_lexer": "ipython3",
   "version": "3.8.8"
  }
 },
 "nbformat": 4,
 "nbformat_minor": 5
}
