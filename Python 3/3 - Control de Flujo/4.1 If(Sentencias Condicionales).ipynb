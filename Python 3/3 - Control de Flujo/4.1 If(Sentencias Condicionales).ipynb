{
 "cells": [
  {
   "cell_type": "markdown",
   "id": "9fc03bb6",
   "metadata": {},
   "source": [
    "<font color=Purple>\n",
    "    \n",
    "# _4.1 If / Else /Elif: Sentencias Condicionales_ </font>\n",
    "\n",
    "### Para hacer esto definimos un bloque de instrucciones que se ejecutarán solo si la condición previa se cumple(es verdadera)"
   ]
  },
  {
   "cell_type": "code",
   "execution_count": 1,
   "id": "2f33c0d4",
   "metadata": {},
   "outputs": [
    {
     "name": "stdout",
     "output_type": "stream",
     "text": [
      "Hey\n"
     ]
    }
   ],
   "source": [
    "if(True):\n",
    "    print(\"Hey\")"
   ]
  },
  {
   "cell_type": "code",
   "execution_count": 2,
   "id": "2834079d",
   "metadata": {},
   "outputs": [],
   "source": [
    "if(False):\n",
    "    print(\"Hey\")"
   ]
  },
  {
   "cell_type": "code",
   "execution_count": 3,
   "id": "90a0de1a",
   "metadata": {},
   "outputs": [
    {
     "name": "stdout",
     "output_type": "stream",
     "text": [
      "x vale 6\n"
     ]
    }
   ],
   "source": [
    "x=6;\n",
    "if x==6:\n",
    "    print(\"x vale 6\")"
   ]
  },
  {
   "cell_type": "code",
   "execution_count": 4,
   "id": "2b8f89f2",
   "metadata": {},
   "outputs": [
    {
     "name": "stdout",
     "output_type": "stream",
     "text": [
      "x  vale 6\n"
     ]
    }
   ],
   "source": [
    "if x== 2:\n",
    "    print(\"x vale 2\")\n",
    "    \n",
    "if x == 6:\n",
    "    print(\"x  vale 6\")\n"
   ]
  },
  {
   "cell_type": "markdown",
   "id": "2a62f7ac",
   "metadata": {},
   "source": [
    "### If anidados"
   ]
  },
  {
   "cell_type": "code",
   "execution_count": 9,
   "id": "aabc7b74",
   "metadata": {},
   "outputs": [
    {
     "name": "stdout",
     "output_type": "stream",
     "text": [
      "A vale 10\n",
      "B vale 5\n"
     ]
    }
   ],
   "source": [
    "a=10\n",
    "b=5\n",
    "\n",
    "if a==10:\n",
    "    print(\"A vale {}\".format(a))   \n",
    "    if b==5:\n",
    "        print(\"B vale {}\".format(b))"
   ]
  },
  {
   "cell_type": "markdown",
   "id": "ac126da9",
   "metadata": {},
   "source": [
    "### Operadores lógicos"
   ]
  },
  {
   "cell_type": "code",
   "execution_count": 10,
   "id": "8d1057ac",
   "metadata": {},
   "outputs": [
    {
     "name": "stdout",
     "output_type": "stream",
     "text": [
      "A vale 10, y B vale 5\n"
     ]
    }
   ],
   "source": [
    "if a==10 and b==5:\n",
    "    print(\"A vale {}, y B vale {}\".format(a,b))"
   ]
  },
  {
   "cell_type": "markdown",
   "id": "e9118907",
   "metadata": {},
   "source": [
    "<font color=Purple>\n",
    "    \n",
    "# _Else /Elif_ </font>\n",
    "### Else (si no) se encadena al final del bloque para abrir una nueva lista de instrucciones. Este comando nos permite definir el camino que se ejecuta si la condición original no se cumple.\n",
    "### Elif (si no si) establece una nueva condición que se encadena a otro if o elif cuya condición resultó False(no se cumplió)."
   ]
  },
  {
   "cell_type": "code",
   "execution_count": 12,
   "id": "6e43279d",
   "metadata": {},
   "outputs": [
    {
     "name": "stdout",
     "output_type": "stream",
     "text": [
      "13 Es número impar\n"
     ]
    }
   ],
   "source": [
    "z=13\n",
    "\n",
    "if z%2 ==0:\n",
    "    print(z, \": Es número par\")\n",
    "else: #si el if resulta falso\n",
    "    print(z, \": Es número impar\")"
   ]
  },
  {
   "cell_type": "code",
   "execution_count": 42,
   "id": "69e541e9",
   "metadata": {},
   "outputs": [
    {
     "name": "stdout",
     "output_type": "stream",
     "text": [
      "Qué desea hacer?\n",
      "SALUDAR\n",
      "Muy buenas noches\n"
     ]
    }
   ],
   "source": [
    "#Respuestas Dinámicas\n",
    "texto = input(\"Qué desea hacer?\\n\")\n",
    "\n",
    "if texto == 'SALUDAR':\n",
    "    print('Muy buenas noches')\n",
    "elif texto == 'RETIRARSE':\n",
    "    print('Ok. Nos vemos luego')\n",
    "else:\n",
    "    print('Ingrese una entrada válida')"
   ]
  },
  {
   "cell_type": "code",
   "execution_count": 43,
   "id": "364710f4",
   "metadata": {},
   "outputs": [
    {
     "name": "stdout",
     "output_type": "stream",
     "text": [
      "Introduce la calificación: \n",
      "12\n",
      "Calificación no válida\n"
     ]
    }
   ],
   "source": [
    "#Clasificador\n",
    "puntaje = float(input('Introduce la calificación: \\n'))\n",
    "\n",
    "if puntaje >= 9 and puntaje <=10:\n",
    "    print('Excelente desempeño')\n",
    "elif puntaje >= 7 and puntaje < 9:\n",
    "    print('Buen desempeño')\n",
    "elif puntaje >=5 and puntaje <7:\n",
    "    print('Aprobado')\n",
    "elif puntaje < 5 and puntaje >=0:\n",
    "    print('Reprobado')\n",
    "else:\n",
    "    print('Calificación no válida')"
   ]
  }
 ],
 "metadata": {
  "kernelspec": {
   "display_name": "Python 3",
   "language": "python",
   "name": "python3"
  },
  "language_info": {
   "codemirror_mode": {
    "name": "ipython",
    "version": 3
   },
   "file_extension": ".py",
   "mimetype": "text/x-python",
   "name": "python",
   "nbconvert_exporter": "python",
   "pygments_lexer": "ipython3",
   "version": "3.8.8"
  }
 },
 "nbformat": 4,
 "nbformat_minor": 5
}
