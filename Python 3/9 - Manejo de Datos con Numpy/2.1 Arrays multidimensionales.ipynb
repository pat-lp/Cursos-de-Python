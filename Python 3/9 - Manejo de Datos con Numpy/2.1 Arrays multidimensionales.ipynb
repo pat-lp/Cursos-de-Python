{
 "cells": [
  {
   "cell_type": "markdown",
   "id": "feadea73",
   "metadata": {},
   "source": [
    "<font color=Purple>\n",
    "    \n",
    "# **2.1 Crear arrays multidimensionales.** </font>\n"
   ]
  },
  {
   "cell_type": "code",
   "execution_count": 3,
   "id": "baed4eb1",
   "metadata": {},
   "outputs": [],
   "source": [
    "import numpy as np"
   ]
  },
  {
   "cell_type": "code",
   "execution_count": 4,
   "id": "b807e4c9",
   "metadata": {},
   "outputs": [],
   "source": [
    "arreglo = np.array([0,1,2,3,4,5])"
   ]
  },
  {
   "cell_type": "code",
   "execution_count": 5,
   "id": "7dc8eec0",
   "metadata": {},
   "outputs": [
    {
     "data": {
      "text/plain": [
       "(array([0, 1, 2, 3, 4, 5]), numpy.ndarray)"
      ]
     },
     "execution_count": 5,
     "metadata": {},
     "output_type": "execute_result"
    }
   ],
   "source": [
    "arreglo, type(arreglo)"
   ]
  },
  {
   "cell_type": "code",
   "execution_count": 11,
   "id": "a1e1204c",
   "metadata": {},
   "outputs": [
    {
     "name": "stdout",
     "output_type": "stream",
     "text": [
      "[16. 17. 18. 14. 15. 19.]\n"
     ]
    }
   ],
   "source": [
    "notas = [16,17,18,14,15,19]\n",
    "arreglo_notas = np.array(notas, dtype=float)\n",
    "print(arreglo_notas)"
   ]
  },
  {
   "cell_type": "code",
   "execution_count": 15,
   "id": "a91be3c3",
   "metadata": {},
   "outputs": [
    {
     "name": "stdout",
     "output_type": "stream",
     "text": [
      "[[ 0  1  2  3  4  5]\n",
      " [16 17 18 14 15 19]]\n"
     ]
    }
   ],
   "source": [
    "#array multidimensional\n",
    "arreglo_notas_todas = np.array((arreglo,notas))\n",
    "print(arreglo_notas_todas)"
   ]
  },
  {
   "cell_type": "markdown",
   "id": "5d7c0cad",
   "metadata": {},
   "source": [
    "### ndim\n",
    "Nos indica cuántas dimensiones tiene."
   ]
  },
  {
   "cell_type": "code",
   "execution_count": 17,
   "id": "c66c0c70",
   "metadata": {},
   "outputs": [
    {
     "name": "stdout",
     "output_type": "stream",
     "text": [
      "2\n",
      "1\n",
      "1\n"
     ]
    }
   ],
   "source": [
    "print(arreglo_notas_todas.ndim)\n",
    "print(arreglo.ndim)\n",
    "print(arreglo_notas.ndim)"
   ]
  },
  {
   "cell_type": "markdown",
   "id": "6e5da7db",
   "metadata": {},
   "source": [
    "### shape\n",
    "Indica el tamaño de cada dimensión del array."
   ]
  },
  {
   "cell_type": "code",
   "execution_count": 18,
   "id": "b0d594b9",
   "metadata": {},
   "outputs": [
    {
     "name": "stdout",
     "output_type": "stream",
     "text": [
      "(2, 6)\n",
      "(6,)\n",
      "(6,)\n"
     ]
    }
   ],
   "source": [
    "print(arreglo_notas_todas.shape)\n",
    "print(arreglo.shape)\n",
    "print(arreglo_notas.shape)"
   ]
  },
  {
   "cell_type": "markdown",
   "id": "30605e51",
   "metadata": {},
   "source": [
    "### Arrays especiales\n",
    "* zeros : Produce un ndarray con todos sus elementos igual a cero.\n",
    "* ones : Produce un ndarray con todos sus elementos igual a uno.\n",
    "* identity : Produce una matriz identidad.\n",
    "* arange : Produce un ndarray cuyos elementos están en el rango especificado."
   ]
  },
  {
   "cell_type": "code",
   "execution_count": 19,
   "id": "421eb453",
   "metadata": {},
   "outputs": [
    {
     "name": "stdout",
     "output_type": "stream",
     "text": [
      "[[0. 0. 0.]\n",
      " [0. 0. 0.]]\n"
     ]
    }
   ],
   "source": [
    "arr = np.zeros((2,3),dtype=float)\n",
    "print(arr)"
   ]
  },
  {
   "cell_type": "code",
   "execution_count": 20,
   "id": "a4452308",
   "metadata": {},
   "outputs": [
    {
     "name": "stdout",
     "output_type": "stream",
     "text": [
      "[[1. 1. 1. 1.]\n",
      " [1. 1. 1. 1.]\n",
      " [1. 1. 1. 1.]]\n"
     ]
    }
   ],
   "source": [
    "ar2 = np.ones((3,4), dtype=float)\n",
    "print(ar2)"
   ]
  },
  {
   "cell_type": "code",
   "execution_count": 21,
   "id": "7a5658d3",
   "metadata": {},
   "outputs": [
    {
     "name": "stdout",
     "output_type": "stream",
     "text": [
      "[[1. 0. 0. 0.]\n",
      " [0. 1. 0. 0.]\n",
      " [0. 0. 1. 0.]\n",
      " [0. 0. 0. 1.]]\n"
     ]
    }
   ],
   "source": [
    "ar3 = np.identity((4), dtype=float)\n",
    "print(ar3)"
   ]
  },
  {
   "cell_type": "code",
   "execution_count": 22,
   "id": "4f2d5d38",
   "metadata": {},
   "outputs": [
    {
     "name": "stdout",
     "output_type": "stream",
     "text": [
      "[1 2 3 4 5 6 7 8]\n"
     ]
    }
   ],
   "source": [
    "ar4 = np.arange(1,9)\n",
    "print(ar4)"
   ]
  },
  {
   "cell_type": "code",
   "execution_count": null,
   "id": "b878d877",
   "metadata": {},
   "outputs": [],
   "source": []
  }
 ],
 "metadata": {
  "kernelspec": {
   "display_name": "Python 3 (ipykernel)",
   "language": "python",
   "name": "python3"
  },
  "language_info": {
   "codemirror_mode": {
    "name": "ipython",
    "version": 3
   },
   "file_extension": ".py",
   "mimetype": "text/x-python",
   "name": "python",
   "nbconvert_exporter": "python",
   "pygments_lexer": "ipython3",
   "version": "3.9.7"
  }
 },
 "nbformat": 4,
 "nbformat_minor": 5
}
