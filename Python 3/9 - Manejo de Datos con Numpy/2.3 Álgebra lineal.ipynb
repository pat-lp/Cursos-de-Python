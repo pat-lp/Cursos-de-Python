{
 "cells": [
  {
   "cell_type": "markdown",
   "id": "9d235d44",
   "metadata": {},
   "source": [
    "<font color=Purple>\n",
    "    \n",
    "# **2.3 Álgebra lineal.** </font>"
   ]
  },
  {
   "cell_type": "markdown",
   "id": "23cd36a3",
   "metadata": {},
   "source": [
    "### Producto de arrays"
   ]
  },
  {
   "cell_type": "code",
   "execution_count": 1,
   "id": "661484f6",
   "metadata": {},
   "outputs": [
    {
     "data": {
      "text/plain": [
       "5.0"
      ]
     },
     "execution_count": 1,
     "metadata": {},
     "output_type": "execute_result"
    }
   ],
   "source": [
    "import numpy as np\n",
    "\n",
    "a = np.array([1,2,3], float)\n",
    "b = np.array([0,1,1], float)\n",
    "\n",
    "np.dot(b,a)"
   ]
  },
  {
   "cell_type": "code",
   "execution_count": 2,
   "id": "0631ef35",
   "metadata": {},
   "outputs": [
    {
     "data": {
      "text/plain": [
       "5.0"
      ]
     },
     "execution_count": 2,
     "metadata": {},
     "output_type": "execute_result"
    }
   ],
   "source": [
    "a.dot(b)"
   ]
  },
  {
   "cell_type": "markdown",
   "id": "38318cd3",
   "metadata": {},
   "source": [
    "### Producto de matrices"
   ]
  },
  {
   "cell_type": "code",
   "execution_count": 8,
   "id": "5bd0236a",
   "metadata": {},
   "outputs": [
    {
     "name": "stdout",
     "output_type": "stream",
     "text": [
      "[[5. 2.]\n",
      " [4. 8.]]\n",
      "[[1. 7.]\n",
      " [6. 3.]]\n"
     ]
    }
   ],
   "source": [
    "a = np.array([[5,2],[4,8]],float)\n",
    "b = np.array([[1,7],[6,3]],float)\n",
    "\n",
    "print(a)\n",
    "print(b)"
   ]
  },
  {
   "cell_type": "code",
   "execution_count": 9,
   "id": "c6bc05be",
   "metadata": {},
   "outputs": [
    {
     "data": {
      "text/plain": [
       "array([[17., 41.],\n",
       "       [52., 52.]])"
      ]
     },
     "execution_count": 9,
     "metadata": {},
     "output_type": "execute_result"
    }
   ],
   "source": [
    "a @ b\n",
    "#5*1+2*6=17\n",
    "#5*7+2*3=41\n",
    "#4*1+8*6=52\n",
    "#4*7+8*3=52"
   ]
  },
  {
   "cell_type": "code",
   "execution_count": 10,
   "id": "143f4e94",
   "metadata": {},
   "outputs": [
    {
     "data": {
      "text/plain": [
       "array([[33., 58.],\n",
       "       [42., 36.]])"
      ]
     },
     "execution_count": 10,
     "metadata": {},
     "output_type": "execute_result"
    }
   ],
   "source": [
    "b @ a"
   ]
  },
  {
   "cell_type": "code",
   "execution_count": 11,
   "id": "65c3faf8",
   "metadata": {},
   "outputs": [
    {
     "name": "stdout",
     "output_type": "stream",
     "text": [
      "[[17. 41.]\n",
      " [52. 52.]]\n"
     ]
    }
   ],
   "source": [
    "print(np.matmul(a,b))"
   ]
  },
  {
   "cell_type": "markdown",
   "id": "def2af01",
   "metadata": {},
   "source": [
    "### Determinante de una matriz"
   ]
  },
  {
   "cell_type": "code",
   "execution_count": 13,
   "id": "f143ce3c",
   "metadata": {},
   "outputs": [
    {
     "name": "stdout",
     "output_type": "stream",
     "text": [
      "[[8 5]\n",
      " [3 4]]\n"
     ]
    },
    {
     "data": {
      "text/plain": [
       "17.0"
      ]
     },
     "execution_count": 13,
     "metadata": {},
     "output_type": "execute_result"
    }
   ],
   "source": [
    "a = np.array([[8,5],[3,4]])\n",
    "print(a)\n",
    "\n",
    "np.linalg.det(a)"
   ]
  },
  {
   "cell_type": "markdown",
   "id": "76409ce4",
   "metadata": {},
   "source": [
    "### Auto-valores y auto-vectores"
   ]
  },
  {
   "cell_type": "code",
   "execution_count": 16,
   "id": "4563ca7c",
   "metadata": {},
   "outputs": [
    {
     "name": "stdout",
     "output_type": "stream",
     "text": [
      "[10.35889894  1.64110106] \n",
      "\n",
      "[[ 0.90440309 -0.61810602]\n",
      " [ 0.4266791   0.78609474]]\n"
     ]
    }
   ],
   "source": [
    "vals, vecs = np.linalg.eig(a)\n",
    "print(vals,'\\n')\n",
    "print(vecs)"
   ]
  },
  {
   "cell_type": "code",
   "execution_count": null,
   "id": "9f3ed78c",
   "metadata": {},
   "outputs": [],
   "source": []
  }
 ],
 "metadata": {
  "kernelspec": {
   "display_name": "Python 3 (ipykernel)",
   "language": "python",
   "name": "python3"
  },
  "language_info": {
   "codemirror_mode": {
    "name": "ipython",
    "version": 3
   },
   "file_extension": ".py",
   "mimetype": "text/x-python",
   "name": "python",
   "nbconvert_exporter": "python",
   "pygments_lexer": "ipython3",
   "version": "3.9.7"
  }
 },
 "nbformat": 4,
 "nbformat_minor": 5
}
